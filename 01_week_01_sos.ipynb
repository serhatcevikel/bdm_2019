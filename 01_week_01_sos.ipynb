{
 "cells": [
  {
   "cell_type": "markdown",
   "metadata": {
    "kernel": "SoS"
   },
   "source": [
    "# Data exploration at the shell\n",
    "\n",
    "**SERHAT ÇEVİKEL**"
   ]
  },
  {
   "cell_type": "markdown",
   "metadata": {
    "kernel": "SoS"
   },
   "source": [
    "In the first part of this session, we will use the shell to explore and wrangle our data"
   ]
  },
  {
   "cell_type": "markdown",
   "metadata": {
    "kernel": "SoS"
   },
   "source": [
    "## Some notifications"
   ]
  },
  {
   "cell_type": "markdown",
   "metadata": {
    "kernel": "SoS"
   },
   "source": [
    "### The Moore Foundation"
   ]
  },
  {
   "cell_type": "markdown",
   "metadata": {
    "kernel": "SoS"
   },
   "source": [
    "This facility, known as \"Binder\" enables us to create \"stateless\" and \"zero dependency\" teaching environments to which you can access anywhere from the web. All it needs is to click a link! And each click starts a new instance of a Docker image at the same state (programs, configurations, options, data, files, material, etc.)\n",
    "\n",
    "\n",
    "As Binder faq states:\n",
    "\n",
    ">\n",
    "How can mybinder.org be free to use?\n",
    "The Binder project has a grant from the Moore Foundation to sustain the cloud resources running mybinder.org. In the future we hope to see more public BinderHub services running that can form a collection of community resources for interactive cloud computing.\n",
    "\n",
    "\n",
    "[Gordon and Betty Moore Foundation](https://www.moore.org/) web site says:\n",
    "> Gordon and Betty Moore established the foundation to create positive outcomes for future generations. In pursuit of that vision, we foster path-breaking scientific discovery, environmental conservation, patient care improvements and preservation of the special character of the San Francisco Bay Area. \n",
    "\n",
    "**SO SPECIAL THANKS GO TO GORDON AND BETTY MOORE FOUNDATION FOR PROVIDING EARLY FUNDING IN 2017 FOR SUCH A FACILITY**"
   ]
  },
  {
   "cell_type": "markdown",
   "metadata": {
    "kernel": "SoS"
   },
   "source": [
    "### BinderHub Federation"
   ]
  },
  {
   "cell_type": "markdown",
   "metadata": {
    "kernel": "SoS"
   },
   "source": [
    "While it may seem like mybinder.org is a single website, it is in fact a federation of teams that deploy public BinderHubs to serve the community. This page lists the BinderHubs that currently help power mybinder.org.\n",
    "\n",
    "You can learn more about the funders of the Binderhub Federation from:\n",
    "[The BinderHub Federation](https://mybinder.readthedocs.io/en/latest/about/federation.html)"
   ]
  },
  {
   "cell_type": "markdown",
   "metadata": {
    "kernel": "SoS"
   },
   "source": [
    "<div class=\"section\" id=\"members-of-the-binderhub-federation\">\n",
    "<span id=\"federation-federation-list\"></span><h2>Members of the BinderHub Federation<a class=\"headerlink\" href=\"#members-of-the-binderhub-federation\" title=\"Permalink to this headline\">¶</a></h2>\n",
    "<p>Here is a list of the current members of the BinderHub federation:</p>\n",
    "<div class=\"sphinx-bs container pb-4 docutils\">\n",
    "<div class=\"row docutils\">\n",
    "<div class=\"d-flex col-lg-6 col-md-6 col-sm-6 col-xs-12 p-2 docutils\">\n",
    "<div class=\"card w-100 shadow text-center federation-members docutils\">\n",
    "<div class=\"card-header docutils\">\n",
    "<p class=\"card-text\"><a class=\"sphinx-bs btn text-wrap stretched-link reference external\" href=\"https://gke.mybinder.org\"><span>gke.mybinder.org</span></a></p>\n",
    "</div>\n",
    "<div class=\"card-body docutils\">\n",
    "<p class=\"card-text\"><img alt=\"The Binder Team\" src=\"https://binderhub.readthedocs.io/en/latest/_static/logo.png\"></p>\n",
    "</div>\n",
    "<div class=\"card-footer docutils\">\n",
    "<p class=\"card-text\">Run by <a class=\"reference external\" href=\"https://jupyterhub-team-compass.readthedocs.io/en/latest/team.html#binder-team\">The Binder Team</a></p>\n",
    "<p class=\"card-text\">Funded by <a class=\"reference external\" href=\"https://cloud.google.com/\">Google Cloud Platform</a></p>\n",
    "</div>\n",
    "</div>\n",
    "</div>\n",
    "<div class=\"d-flex col-lg-6 col-md-6 col-sm-6 col-xs-12 p-2 docutils\">\n",
    "<div class=\"card w-100 shadow text-center federation-members docutils\">\n",
    "<div class=\"card-header docutils\">\n",
    "<p class=\"card-text\"><a class=\"sphinx-bs btn text-wrap stretched-link reference external\" href=\"https://ovh.mybinder.org\"><span>ovh.mybinder.org</span></a></p>\n",
    "</div>\n",
    "<div class=\"card-body docutils\">\n",
    "<p class=\"card-text\"><img alt=\"The OVH Team\" src=\"https://www.ovh.com/fr/images/logos/logo-ovh-twitter.jpg\"></p>\n",
    "</div>\n",
    "<div class=\"card-footer docutils\">\n",
    "<p class=\"card-text\">Run by <a class=\"reference external\" href=\"https://www.ovh.com/world/\">The OVH Team</a></p>\n",
    "<p class=\"card-text\">Funded by <a class=\"reference external\" href=\"https://www.ovh.com/world/\">OVH</a></p>\n",
    "</div>\n",
    "</div>\n",
    "</div>\n",
    "<div class=\"d-flex col-lg-6 col-md-6 col-sm-6 col-xs-12 p-2 docutils\">\n",
    "<div class=\"card w-100 shadow text-center federation-members docutils\">\n",
    "<div class=\"card-header docutils\">\n",
    "<p class=\"card-text\"><a class=\"sphinx-bs btn text-wrap stretched-link reference external\" href=\"https://gesis.mybinder.org\"><span>gesis.mybinder.org</span></a></p>\n",
    "</div>\n",
    "<div class=\"card-body docutils\">\n",
    "<p class=\"card-text\"><img alt=\"The GESIS Notebooks Team\" src=\"https://notebooks.gesis.org/static/images/logo/logo_text_2.png\"></p>\n",
    "</div>\n",
    "<div class=\"card-footer docutils\">\n",
    "<p class=\"card-text\">Run by <a class=\"reference external\" href=\"https://notebooks.gesis.org/about/\">The GESIS Notebooks Team</a></p>\n",
    "<p class=\"card-text\">Funded by <a class=\"reference external\" href=\"https://www.gesis.org/en/home\">GESIS</a></p>\n",
    "</div>\n",
    "</div>\n",
    "</div>\n",
    "<div class=\"d-flex col-lg-6 col-md-6 col-sm-6 col-xs-12 p-2 docutils\">\n",
    "<div class=\"card w-100 shadow text-center federation-members docutils\">\n",
    "<div class=\"card-header docutils\">\n",
    "<p class=\"card-text\"><a class=\"sphinx-bs btn text-wrap stretched-link reference external\" href=\"https://turing.mybinder.org\"><span>turing.mybinder.org</span></a></p>\n",
    "</div>\n",
    "<div class=\"card-body docutils\">\n",
    "<p class=\"card-text\"><img alt=\"The Turing Way team led by Sarah Gibson\" src=\"https://www.turing.ac.uk/sites/default/files/inline-images/Turing%20logo_0.png\"></p>\n",
    "</div>\n",
    "<div class=\"card-footer docutils\">\n",
    "<p class=\"card-text\">Run by <a class=\"reference external\" href=\"https://www.turing.ac.uk/research/research-projects/turing-way-handbook-reproducible-data-science#organisers\">The Turing Way team led by Sarah Gibson</a></p>\n",
    "<p class=\"card-text\">Funded by <a class=\"reference external\" href=\"https://turing.ac.uk\">The Alan Turing Institute</a></p>\n",
    "</div>\n",
    "</div>\n",
    "</div>\n",
    "</div>\n",
    "</div>\n",
    "</div>"
   ]
  },
  {
   "cell_type": "markdown",
   "metadata": {
    "kernel": "SoS"
   },
   "source": [
    "## GNU Parallel"
   ]
  },
  {
   "cell_type": "markdown",
   "metadata": {
    "kernel": "SoS"
   },
   "source": [
    "[GNU parallel](https://www.gnu.org/software/parallel/) is a shell tool for executing jobs in parallel using one or more computers. A job can be a single command or a small script that has to be run for each of the lines in the input. The typical input is a list of files, a list of hosts, a list of users, a list of URLs, or a list of tables. A job can also be a command that reads from a pipe. GNU parallel can then split the input and pipe it into commands in parallel.\n",
    "\n",
    "When you hit:\n",
    "```\n",
    "parallel --citation\n",
    "```\n",
    "The notification goes as:\n",
    "\n",
    "> Academic tradition requires you to cite works you base your article on.\n",
    "When using programs that use GNU Parallel to process data for publication\n",
    "please cite:\n",
    "\n",
    ">@article{Tange2011a,\n",
    "  title = {GNU Parallel - The Command-Line Power Tool},\n",
    "  author = {O. Tange},\n",
    "  address = {Frederiksberg, Denmark},\n",
    "  journal = {;login: The USENIX Magazine},\n",
    "  month = {Feb},\n",
    "  number = {1},\n",
    "  volume = {36},\n",
    "  url = {http://www.gnu.org/s/parallel},\n",
    "  year = {2011},\n",
    "  pages = {42-47},\n",
    "  doi = {http://dx.doi.org/10.5281/zenodo.16303}\n",
    "}\n",
    "\n",
    ">(Feel free to use \\nocite{Tange2011a})\n",
    "\n",
    ">This helps funding further development; AND IT WON'T COST YOU A CENT.\n",
    "If you pay 10000 EUR you should feel free to use GNU Parallel without citing.\n",
    "\n",
    ">If you send a copy of your published article to tange@gnu.org, it will be\n",
    "mentioned in the release notes of next version of GNU Parallel.\n",
    "\n",
    "**So don't forget to cite [Tange2011a](http://dx.doi.org/10.5281/zenodo.16303) when you use GNU Parallel in an academic study**"
   ]
  },
  {
   "cell_type": "markdown",
   "metadata": {
    "kernel": "SoS"
   },
   "source": [
    "## First steps"
   ]
  },
  {
   "cell_type": "markdown",
   "metadata": {
    "kernel": "SoS"
   },
   "source": [
    "### Jupyter and markdown basics"
   ]
  },
  {
   "cell_type": "markdown",
   "metadata": {
    "kernel": "SoS"
   },
   "source": [
    "First of all, please watch this short video on how to use the modes and shortcuts in Jupyter notebooks:\n",
    "\n",
    "[![The Data Incubator - Keyboard Shortcuts in Jupyter](https://img.youtube.com/vi/cuHY1o3Cf2s/0.jpg)](https://www.youtube.com/watch?v=cuHY1o3Cf2s&index=4&list=PLjDTd-bDo6Q3nnt7y_GjMaYD79-stYZ-O&t=0s)"
   ]
  },
  {
   "cell_type": "markdown",
   "metadata": {
    "kernel": "SoS"
   },
   "source": [
    "And you may also want to review below links to get an undertanding of markdown syntax, to create a better layout and view of your homeworks and/or your own Jupyter notebooks:\n",
    "\n",
    "[Markdown Cheatsheet](https://github.com/adam-p/markdown-here/wiki/Markdown-Cheatsheet)\n",
    "\n",
    "[Markdown Quick Reference](https://en.support.wordpress.com/markdown-quick-reference/)"
   ]
  },
  {
   "cell_type": "markdown",
   "metadata": {
    "kernel": "SoS"
   },
   "source": [
    "### Journey to Linux: Breaking Windows habits"
   ]
  },
  {
   "cell_type": "markdown",
   "metadata": {
    "cell_style": "split",
    "kernel": "SoS"
   },
   "source": [
    "<!--In ![](https://thgtr.com/wp-content/uploads/2009/10/windows_logo.jpg.png =10x) -->\n",
    "\n",
    "<img src=\"https://thgtr.com/wp-content/uploads/2009/10/windows_logo.jpg.png\" width=\"100\">"
   ]
  },
  {
   "cell_type": "markdown",
   "metadata": {
    "cell_style": "split",
    "kernel": "SoS"
   },
   "source": [
    "<img src=\"https://openclipart.org/download/250889/Pinguino-Linux.svg\" width=\"100\">"
   ]
  },
  {
   "cell_type": "markdown",
   "metadata": {
    "cell_style": "split",
    "kernel": "SoS"
   },
   "source": [
    "We have letters for drives/volumes and each drive has its own root as such: C:\\, D:\\ .. "
   ]
  },
  {
   "cell_type": "markdown",
   "metadata": {
    "cell_style": "split",
    "kernel": "SoS"
   },
   "source": [
    "We have a single filesystem root \"/\" and all drives/volumes are \"mounted\" under this root"
   ]
  },
  {
   "cell_type": "markdown",
   "metadata": {
    "cell_style": "split",
    "kernel": "SoS"
   },
   "source": [
    "Directories are separated by backslashes \"\\\\\""
   ]
  },
  {
   "cell_type": "markdown",
   "metadata": {
    "cell_style": "split",
    "kernel": "SoS"
   },
   "source": [
    "Directories are separated by slashes \"/\". Backslash is an escape character to toggle between literal and special usages of some characters"
   ]
  },
  {
   "cell_type": "markdown",
   "metadata": {
    "cell_style": "split",
    "kernel": "SoS"
   },
   "source": [
    "Directory and filenames are case insensitive: \"path\" and \"PATH\" are the same"
   ]
  },
  {
   "cell_type": "markdown",
   "metadata": {
    "cell_style": "split",
    "kernel": "SoS"
   },
   "source": [
    "Directory and filenames are case sensitive: \"path\" and \"PATH\" are different and can co-exist"
   ]
  },
  {
   "cell_type": "markdown",
   "metadata": {
    "cell_style": "split",
    "kernel": "SoS"
   },
   "source": [
    "In Windows tradition, directory and filenames contain many spaces since it does not matter in GUI usage"
   ]
  },
  {
   "cell_type": "markdown",
   "metadata": {
    "cell_style": "split",
    "kernel": "SoS"
   },
   "source": [
    "In Linux tradition, whitespaces are avoided as much as possible because they may cause trouble for shell commands"
   ]
  },
  {
   "cell_type": "markdown",
   "metadata": {
    "cell_style": "split",
    "kernel": "SoS"
   },
   "source": [
    "GUI's are the main interface for interaction with the OS"
   ]
  },
  {
   "cell_type": "markdown",
   "metadata": {
    "cell_style": "split",
    "kernel": "SoS"
   },
   "source": [
    "[A true Linux/Unix \"hacker\"](http://www.catb.org/jargon/html/appendixc.html) prefers the terminal/CLI/shell (the black screen) for many good reasons!"
   ]
  },
  {
   "cell_type": "markdown",
   "metadata": {
    "kernel": "SoS"
   },
   "source": [
    "### The Shell"
   ]
  },
  {
   "cell_type": "markdown",
   "metadata": {
    "kernel": "SoS"
   },
   "source": [
    "<!--<img src=\"https://static01.nyt.com/images/2018/05/15/arts/01hal-voice1/merlin_135847308_098289a6-90ee-461b-88e2-20920469f96a-superJumbo.jpg?quality=90&auto=webp\" width=\"300\">-->\n",
    "\n",
    "- The shell is the command interpreter of Unix/Linux systems\n",
    "- The terminal is the windows program that a shell works on in desktop environments\n",
    "- When we work in a virtual terminal, no need for a separate terminal program, everything IS inside the terminal. Try it yourself if you are on a \\*nix PC: Ctrl+Alt+F2 and login! And back here with Ctrl+Alt+F1\n",
    "- Together we call this mode of interaction with the OS \"Command Line Interface\" or CLI"
   ]
  },
  {
   "cell_type": "markdown",
   "metadata": {
    "kernel": "SoS"
   },
   "source": [
    "In Stanley Kubrick's sci-fi classic 2001: A Space Odyssey, an AI interface to the main computer of the spaceship looked and talked like that:"
   ]
  },
  {
   "cell_type": "markdown",
   "metadata": {
    "kernel": "SoS"
   },
   "source": [
    "[![](https://img.youtube.com/vi/7qnd-hdmgfk/0.jpg)](https://www.youtube.com/watch?v=7qnd-hdmgfk)"
   ]
  },
  {
   "cell_type": "markdown",
   "metadata": {
    "kernel": "SoS"
   },
   "source": [
    "Hopefully the shell we use, BASH, do not refuse our requests arbitrarily, as HAL does to Dave"
   ]
  },
  {
   "cell_type": "markdown",
   "metadata": {
    "kernel": "SoS"
   },
   "source": [
    "In an SoS notebook, in order to invoke Bash (send a command to be interpreted with Bash), type the command to a cell with \"Bash\"at the right and hit Enter: "
   ]
  },
  {
   "cell_type": "code",
   "execution_count": null,
   "metadata": {
    "kernel": "Bash"
   },
   "outputs": [],
   "source": [
    "# Hello the commands you type and enter here are interpreted by Bash\n",
    "# But statements that start with a hash sign \"#\" are comments not interpreted at all\n",
    "# So that's a comment that tells about comments!"
   ]
  },
  {
   "cell_type": "markdown",
   "metadata": {
    "kernel": "Bash"
   },
   "source": [
    "We can also invoke Bash through a terminal.\n",
    "\n",
    "In \\*ubuntu distros, Ctrl+Alt+T is the default shortcut to invoke a terminal window. If you are on an \\*ubuntu system, try it yourself, and to close it type \"exit\""
   ]
  },
  {
   "cell_type": "markdown",
   "metadata": {
    "kernel": "Bash"
   },
   "source": [
    "Now let's open a terminal from inside Jupyter/binder by clicking on the plus sign - the new launcher - to the left of the toolbar and click on the black terminal icon with the \\$ sign:"
   ]
  },
  {
   "attachments": {
    "0b6cdc35-1178-4708-b802-ff4bf4917bef.png": {
     "image/png": "[encoded data removed]"
    }
   },
   "cell_type": "markdown",
   "metadata": {
    "kernel": "Bash",
    "tags": []
   },
   "source": [
    "![image.png](attachment:0b6cdc35-1178-4708-b802-ff4bf4917bef.png)"
   ]
  },
  {
   "cell_type": "markdown",
   "metadata": {
    "kernel": "Bash"
   },
   "source": [
    "Now please copy and paste the below command inside that terminal:\n",
    "\n",
    "```Bash\n",
    "screen -S 1\n",
    "```"
   ]
  },
  {
   "cell_type": "markdown",
   "metadata": {
    "kernel": "Bash"
   },
   "source": [
    "A very powerful utility called \"screen\" is automatically opened inside the terminal"
   ]
  },
  {
   "cell_type": "markdown",
   "metadata": {
    "kernel": "Bash"
   },
   "source": [
    "From now on, we can send commands to the terminal from this Jupyter notebook using the utility called \"GNU Screen\".\n",
    "\n",
    "We will come to screen later, however, what it does are:\n",
    "- To multiplex many shell instances inside a session\n",
    "- To attach and detach to an ongoing process, from local and from remote hosts (think that you were disconnected from a remote computer, you want to reconnect and resume from where you were last. screen does that)\n",
    "- To send commands to other shell instances easily\n",
    "\n",
    "Note that, it may take some time for the screen inside terminal to be operational. We will go on and return back to screen terminal in order to send and execute some of our codes to terminal ..."
   ]
  },
  {
   "cell_type": "markdown",
   "metadata": {
    "kernel": "Bash"
   },
   "source": [
    "And this code is getting the appropriate parameter in order to send remote commands to terminal from here:\n",
    "\n",
    "(content not important for the time being)"
   ]
  },
  {
   "cell_type": "code",
   "execution_count": null,
   "metadata": {
    "kernel": "Bash"
   },
   "outputs": [],
   "source": [
    "#scr=$(screen -ls 2> /dev/null | grep -Po \"^.+(?=\\.jupyter)\" | head -1 | tr -d \"\\t\")\n",
    "scr=$(screen -ls | grep -P \"Attached\" | head -1 | grep -Po \"^\\t+.+?(?=\\s|\\t)\" | tr -d \"\\t\")\n",
    "echo $scr"
   ]
  },
  {
   "cell_type": "markdown",
   "metadata": {
    "kernel": "Bash"
   },
   "source": [
    "### Get info on commands"
   ]
  },
  {
   "cell_type": "markdown",
   "metadata": {
    "kernel": "SoS"
   },
   "source": [
    "We do not usually memorize all usage details of all commands. We can access this info whenever we want:"
   ]
  },
  {
   "cell_type": "markdown",
   "metadata": {
    "kernel": "Bash"
   },
   "source": [
    "To get a one-liner explanation:"
   ]
  },
  {
   "cell_type": "code",
   "execution_count": null,
   "metadata": {
    "kernel": "Bash"
   },
   "outputs": [],
   "source": [
    "whatis ls"
   ]
  },
  {
   "cell_type": "markdown",
   "metadata": {
    "kernel": "SoS"
   },
   "source": [
    "To get most verbose info:"
   ]
  },
  {
   "cell_type": "code",
   "execution_count": null,
   "metadata": {
    "kernel": "Bash"
   },
   "outputs": [],
   "source": [
    "man ls"
   ]
  },
  {
   "cell_type": "markdown",
   "metadata": {
    "kernel": "Bash"
   },
   "source": [
    "And best of both worlds, info on most common usages:"
   ]
  },
  {
   "cell_type": "code",
   "execution_count": null,
   "metadata": {
    "kernel": "Bash"
   },
   "outputs": [],
   "source": [
    "tldr ls"
   ]
  },
  {
   "cell_type": "code",
   "execution_count": null,
   "metadata": {
    "kernel": "Bash"
   },
   "outputs": [],
   "source": [
    "tldr tldr"
   ]
  },
  {
   "cell_type": "markdown",
   "metadata": {
    "kernel": "Bash"
   },
   "source": [
    "Note that, tldr is not a standard utility in \\*nix system and you have to install it as an npm package separately. It is a community project and it may not cover many lesser known utilities/programs"
   ]
  },
  {
   "cell_type": "markdown",
   "metadata": {
    "kernel": "Bash"
   },
   "source": [
    "And for screen:"
   ]
  },
  {
   "cell_type": "code",
   "execution_count": null,
   "metadata": {
    "kernel": "Bash"
   },
   "outputs": [],
   "source": [
    "whatis screen\n",
    "tldr screen"
   ]
  },
  {
   "cell_type": "markdown",
   "metadata": {
    "kernel": "Bash"
   },
   "source": [
    "### ls command"
   ]
  },
  {
   "cell_type": "code",
   "execution_count": null,
   "metadata": {
    "kernel": "Bash"
   },
   "outputs": [],
   "source": [
    "whatis ls\n",
    "tldr ls"
   ]
  },
  {
   "cell_type": "markdown",
   "metadata": {
    "kernel": "Bash"
   },
   "source": [
    "We see that, most common flags are:\n",
    "- a: all incl. hidden\n",
    "- l: long and detail\n",
    "- h: human readable units\n",
    "- S: size sorted\n",
    "- t: time sorted\n",
    "- r: reverse sorted\n",
    "- 1: one file per line (default in l)"
   ]
  },
  {
   "cell_type": "markdown",
   "metadata": {
    "kernel": "Bash"
   },
   "source": [
    "Let's list the contents of the root directory, with details and time sorted:"
   ]
  },
  {
   "cell_type": "code",
   "execution_count": null,
   "metadata": {
    "kernel": "Bash"
   },
   "outputs": [],
   "source": [
    "ls -lt /"
   ]
  },
  {
   "cell_type": "markdown",
   "metadata": {
    "kernel": "Bash"
   },
   "source": [
    "**EXERCISE 1:**\n",
    "\n",
    "Now try yourself: List all the contents of the \"usr\" directory right under root, including hidden files, and reverse size sorted, one file per line and without details:\n"
   ]
  },
  {
   "cell_type": "code",
   "execution_count": null,
   "metadata": {
    "kernel": "Bash"
   },
   "outputs": [],
   "source": []
  },
  {
   "cell_type": "markdown",
   "metadata": {
    "kernel": "Bash"
   },
   "source": [
    "**SOLUTION 1:**"
   ]
  },
  {
   "cell_type": "code",
   "execution_count": null,
   "metadata": {
    "kernel": "Bash"
   },
   "outputs": [],
   "source": [
    "pass1=\n",
    "encrypt=\"U2FsdGVkX1+dE49K4/94vw8AdJTGsjV5Bza7+BMfh70=\"\n",
    "solution=$(echo $encrypt | openssl enc -md sha256 -aes-128-cbc -a -d -salt -pass pass:$pass1 2> /dev/null)\n",
    "echo \"$solution\"; echo\n",
    "for l in \"$solution\"; do eval \"${l}\"; done"
   ]
  },
  {
   "cell_type": "markdown",
   "metadata": {
    "kernel": "Bash"
   },
   "source": [
    " "
   ]
  },
  {
   "cell_type": "markdown",
   "metadata": {
    "kernel": "Bash"
   },
   "source": [
    "### echo command"
   ]
  },
  {
   "cell_type": "code",
   "execution_count": null,
   "metadata": {
    "kernel": "Bash"
   },
   "outputs": [],
   "source": [
    "whatis echo\n",
    "tldr echo"
   ]
  },
  {
   "cell_type": "markdown",
   "metadata": {
    "kernel": "Bash"
   },
   "source": [
    "### \">\" redirect"
   ]
  },
  {
   "cell_type": "markdown",
   "metadata": {
    "kernel": "Bash"
   },
   "source": [
    "\">\" redirect operator \"redirects\" the standard input (stdin) from a command into a file (and saves)\n",
    "\">>\" appends, \">\" overwrites"
   ]
  },
  {
   "cell_type": "code",
   "execution_count": null,
   "metadata": {
    "kernel": "Bash"
   },
   "outputs": [],
   "source": [
    "echo \"Hello World\" > ~/helloworld\n",
    "echo \"Hello World a second time\" > ~/helloworld # this will overwrite the file\n",
    "echo \"Hello World a third time\" >> ~/helloworld # this will append the file"
   ]
  },
  {
   "cell_type": "code",
   "execution_count": null,
   "metadata": {
    "kernel": "Bash"
   },
   "outputs": [],
   "source": [
    "ls ~/helloworld"
   ]
  },
  {
   "cell_type": "markdown",
   "metadata": {
    "kernel": "Bash"
   },
   "source": [
    "We see the file is there, but how can see the contents?"
   ]
  },
  {
   "cell_type": "markdown",
   "metadata": {
    "kernel": "Bash"
   },
   "source": [
    "### cat command"
   ]
  },
  {
   "cell_type": "markdown",
   "metadata": {
    "kernel": "Bash"
   },
   "source": [
    "Cat \"concatenates\" or combines and prints the contents of the files provided as arguments"
   ]
  },
  {
   "cell_type": "code",
   "execution_count": null,
   "metadata": {
    "kernel": "Bash"
   },
   "outputs": [],
   "source": [
    "whatis cat\n",
    "tldr cat"
   ]
  },
  {
   "cell_type": "markdown",
   "metadata": {
    "kernel": "Bash"
   },
   "source": [
    "Let's view the main file for configuration, environment and options of the Bash shell for the current user:"
   ]
  },
  {
   "cell_type": "code",
   "execution_count": null,
   "metadata": {
    "kernel": "Bash"
   },
   "outputs": [],
   "source": [
    "cat ~/.bashrc"
   ]
  },
  {
   "cell_type": "markdown",
   "metadata": {
    "kernel": "Bash"
   },
   "source": [
    "**EXERCISE 2:**\n",
    "\n",
    "View the contents of the helloworld file at the home directory created recently"
   ]
  },
  {
   "cell_type": "code",
   "execution_count": null,
   "metadata": {
    "kernel": "Bash"
   },
   "outputs": [],
   "source": []
  },
  {
   "cell_type": "markdown",
   "metadata": {
    "kernel": "Bash"
   },
   "source": [
    "**SOLUTION 2:**"
   ]
  },
  {
   "cell_type": "code",
   "execution_count": null,
   "metadata": {
    "kernel": "Bash"
   },
   "outputs": [],
   "source": [
    "pass1=\n",
    "encrypt=\"U2FsdGVkX1/+/ZVgeVyUxQ9lO6wDAKaPxNKIkrz8LigmUJPhOkJxvHhiw0/Zi7xw\"\n",
    "solution=$(echo $encrypt | openssl enc -md sha256 -aes-128-cbc -a -d -salt -pass pass:$pass1 2> /dev/null)\n",
    "echo \"$solution\"; echo\n",
    "for l in \"$solution\"; do eval \"${l}\"; done"
   ]
  },
  {
   "cell_type": "markdown",
   "metadata": {
    "kernel": "Bash"
   },
   "source": [
    "### wc command"
   ]
  },
  {
   "cell_type": "markdown",
   "metadata": {
    "kernel": "Bash"
   },
   "source": [
    "Most of the time, we may be in a need to get the row/word/character/byte count of the output of a previous command"
   ]
  },
  {
   "cell_type": "code",
   "execution_count": null,
   "metadata": {
    "kernel": "Bash"
   },
   "outputs": [],
   "source": [
    "whatis wc\n",
    "tldr wc"
   ]
  },
  {
   "cell_type": "markdown",
   "metadata": {
    "kernel": "Bash"
   },
   "source": [
    "See how many files/directory there are instantly under the root directory:"
   ]
  },
  {
   "cell_type": "code",
   "execution_count": null,
   "metadata": {
    "kernel": "Bash"
   },
   "outputs": [],
   "source": [
    "ls / | wc -l"
   ]
  },
  {
   "cell_type": "markdown",
   "metadata": {
    "kernel": "Bash"
   },
   "source": [
    "We are ok with \"ls /\" and \"wc -l\" parts, but what about that strange \"|\" sign?"
   ]
  },
  {
   "cell_type": "markdown",
   "metadata": {
    "kernel": "Bash"
   },
   "source": [
    "### Unix pipe"
   ]
  },
  {
   "cell_type": "markdown",
   "metadata": {
    "kernel": "Bash"
   },
   "source": [
    "Unix pipe \"|\" is a structure in Unix-like OS's, that redirects the standard output (stdout) of a former command into the standard input (stdin) of a latter command"
   ]
  },
  {
   "cell_type": "code",
   "execution_count": null,
   "metadata": {
    "kernel": "Bash"
   },
   "outputs": [],
   "source": [
    "ls / | cat -n"
   ]
  },
  {
   "cell_type": "markdown",
   "metadata": {
    "kernel": "Bash"
   },
   "source": [
    "The first process writes the contents of the root /, and the output is fed into the input of \"cat\" with \"n\" flag for line numbers\n",
    "\n",
    "So the command takes the raw input and adds line numbers. See how many files"
   ]
  },
  {
   "cell_type": "code",
   "execution_count": null,
   "metadata": {
    "kernel": "Bash"
   },
   "outputs": [],
   "source": [
    "ls / | wc -l"
   ]
  },
  {
   "cell_type": "markdown",
   "metadata": {
    "kernel": "Bash"
   },
   "source": [
    "First process does the same thing, second counts the lines in the input"
   ]
  },
  {
   "cell_type": "markdown",
   "metadata": {
    "kernel": "Bash"
   },
   "source": [
    "Here Prof. Brian Kernighan - one of the pioneers of the Unix systems and C programming language explains how the Unix pipe can be utilized so that simple tools are combined to solve more complex problems:\n",
    "\n",
    "[![AT&T Archives: The UNIX Operating System (Unix Pipes part)](https://img.youtube.com/vi/L9GfCgLLZYE/0.jpg)](https://www.youtube.com/watch?v=L9GfCgLLZYE&index=11&list=PLjDTd-bDo6Q0U5DfSP0tOjyRrG218anv7&t=0s)"
   ]
  },
  {
   "cell_type": "markdown",
   "metadata": {
    "kernel": "Bash"
   },
   "source": [
    "Pipe is very powerful and simplifies complex data and workflows!\n",
    "\n",
    "You'l create killer one-liners that does a lot of things using multiple pipes!!!"
   ]
  },
  {
   "cell_type": "markdown",
   "metadata": {
    "kernel": "SoS"
   },
   "source": [
    "### Environment variables"
   ]
  },
  {
   "cell_type": "markdown",
   "metadata": {
    "kernel": "SoS"
   },
   "source": [
    "In our workflow we may refer to same paths and filenames many times, and some values and parameters may be selected once and referred to in many places\n",
    "\n",
    "It is better that we define them once in an environment variable and refer by that variable name:"
   ]
  },
  {
   "cell_type": "markdown",
   "metadata": {
    "kernel": "Bash"
   },
   "source": [
    "First, some built-ins:"
   ]
  },
  {
   "cell_type": "code",
   "execution_count": null,
   "metadata": {
    "kernel": "Bash"
   },
   "outputs": [],
   "source": [
    "echo $HOME # echoes the value of HOME env variable\n",
    "echo ~ # tilde is a shorthand for HOME\n",
    "echo $PATH # echoes the value of PATH env variable"
   ]
  },
  {
   "cell_type": "markdown",
   "metadata": {
    "kernel": "Bash"
   },
   "source": [
    "$PATH is where the OS looks for the executable files in return for a command"
   ]
  },
  {
   "cell_type": "markdown",
   "metadata": {
    "kernel": "Bash"
   },
   "source": [
    "For example when we just type \"ls\", we do not specify the exact location of the \"ls\" executable. The exact pathof the executable file that ls command invokes is:"
   ]
  },
  {
   "cell_type": "code",
   "execution_count": null,
   "metadata": {
    "kernel": "Bash"
   },
   "outputs": [],
   "source": [
    "which ls"
   ]
  },
  {
   "cell_type": "markdown",
   "metadata": {
    "kernel": "Bash"
   },
   "source": [
    "To list the details of that file:"
   ]
  },
  {
   "cell_type": "code",
   "execution_count": null,
   "metadata": {
    "kernel": "Bash"
   },
   "outputs": [],
   "source": [
    "ls -l `which ls`"
   ]
  },
  {
   "cell_type": "markdown",
   "metadata": {
    "kernel": "Bash"
   },
   "source": [
    "The backticks execute the command inside and provide the output as an argument. The same is done with:"
   ]
  },
  {
   "cell_type": "code",
   "execution_count": null,
   "metadata": {
    "kernel": "Bash"
   },
   "outputs": [],
   "source": [
    "ls -l $(which ls)"
   ]
  },
  {
   "cell_type": "markdown",
   "metadata": {
    "kernel": "Bash"
   },
   "source": [
    "\\$(...) notation executes the command inside and saves it as a temporary variable to be used as arguments"
   ]
  },
  {
   "cell_type": "markdown",
   "metadata": {
    "kernel": "Bash"
   },
   "source": [
    "Apart from /bin/ls, for all ls executables in whole $PATH locations:"
   ]
  },
  {
   "cell_type": "code",
   "execution_count": null,
   "metadata": {
    "kernel": "Bash"
   },
   "outputs": [],
   "source": [
    "which -a ls"
   ]
  },
  {
   "cell_type": "markdown",
   "metadata": {
    "kernel": "Bash"
   },
   "source": [
    "- Now let's define the path to data directory, just under the \\$HOME.\n",
    "- Note that we do not use the \"$\" when the variable is on the LHS to an assignment:"
   ]
  },
  {
   "cell_type": "code",
   "execution_count": null,
   "metadata": {
    "kernel": "Bash"
   },
   "outputs": [],
   "source": [
    "datadir=~/data"
   ]
  },
  {
   "cell_type": "markdown",
   "metadata": {
    "kernel": "Bash"
   },
   "source": [
    "Now let's check the value (with \"$\"):"
   ]
  },
  {
   "cell_type": "code",
   "execution_count": null,
   "metadata": {
    "kernel": "Bash"
   },
   "outputs": [],
   "source": [
    "echo $datadir\n",
    "ls $datadir"
   ]
  },
  {
   "cell_type": "markdown",
   "metadata": {
    "kernel": "Bash"
   },
   "source": [
    "Now let's define the path to the directory for \"imdb\" database, just under datadir:"
   ]
  },
  {
   "cell_type": "code",
   "execution_count": null,
   "metadata": {
    "kernel": "Bash"
   },
   "outputs": [],
   "source": [
    "imdbdir=$datadir/imdb\n",
    "echo $imdbdir\n",
    "ls $imdbdir"
   ]
  },
  {
   "cell_type": "markdown",
   "metadata": {
    "kernel": "Bash"
   },
   "source": [
    "***IMPORTANT!: FOR THE SUBSEQUENT CODE SNIPPETS TO WORK WELL \\\\$datadir AND \\\\$imdbdir ENVIRONMENT VARIABLES SHOULD BE DECLARED AS ABOVE. IF FOR ANY REASON THE BASH KERNEL IS RESTARTED, THESE VARIABLES MUST BE DECLARED AGAIN BY RUNNING THIS CODE CELL:**"
   ]
  },
  {
   "cell_type": "code",
   "execution_count": null,
   "metadata": {
    "kernel": "Bash"
   },
   "outputs": [],
   "source": [
    "datadir=~/data\n",
    "imdbdir=$datadir/imdb"
   ]
  },
  {
   "cell_type": "markdown",
   "metadata": {
    "kernel": "Bash"
   },
   "source": [
    "**EXERCISE 3:**\n",
    "\n",
    "Define the \"imdbtsv\" variable for the path to the tsv directory under $imdbdir, by using $imdbdir, check the value and contents"
   ]
  },
  {
   "cell_type": "code",
   "execution_count": null,
   "metadata": {
    "kernel": "Bash"
   },
   "outputs": [],
   "source": []
  },
  {
   "cell_type": "markdown",
   "metadata": {
    "kernel": "Bash"
   },
   "source": [
    "**SOLUTION 3:**"
   ]
  },
  {
   "cell_type": "code",
   "execution_count": null,
   "metadata": {
    "kernel": "Bash"
   },
   "outputs": [],
   "source": [
    "pass1=\n",
    "encrypt=\"U2FsdGVkX1+eMbt2jVy8BK8OBgzJXwsKuew6aNDkBvUziV/0dZm7RhCnl2YJCX1c YZ0alY4WMRt7ptJUPuimyde+oTl/mPvXJCkF5xXYePE=\"\n",
    "solution=$(echo $encrypt | openssl enc -md sha256 -aes-128-cbc -a -d -salt -pass pass:$pass1 2> /dev/null)\n",
    "echo \"$solution\"; echo\n",
    "for l in \"$solution\"; do eval \"${l}\"; done"
   ]
  },
  {
   "cell_type": "markdown",
   "metadata": {
    "kernel": "Bash"
   },
   "source": [
    "## imdb dataset"
   ]
  },
  {
   "cell_type": "markdown",
   "metadata": {
    "kernel": "Bash"
   },
   "source": [
    "Let's view the contents of the tsv directory:"
   ]
  },
  {
   "cell_type": "code",
   "execution_count": null,
   "metadata": {
    "kernel": "Bash"
   },
   "outputs": [],
   "source": [
    "ls -lh $imdbdir/tsv"
   ]
  },
  {
   "cell_type": "markdown",
   "metadata": {
    "kernel": "Bash"
   },
   "source": [
    "tsv files are \"tab separated values\" but here they are gzipped for portability concerns. We will inflate the files but first let's get info on the contents of this database:"
   ]
  },
  {
   "cell_type": "markdown",
   "metadata": {
    "kernel": "Bash"
   },
   "source": [
    "Contents:\n",
    "\n",
    "The database is separated into 6 tsv files:\n",
    "\n",
    "* title.basics.tsv: 365 MB, 4,534,355 lines, 9 fields. Contains the following information for titles:\n",
    "    * tconst (string) - alphanumeric unique identifier of the title\n",
    "    * titleType (string) – the type/format of the title (e.g. movie, short, tvseries, tvepisode, video, etc)\n",
    "    * primaryTitle (string) – the more popular title / the title used by the filmmakers on promotional materials at the point of release\n",
    "    * originalTitle (string) - original title, in the original language\n",
    "    * isAdult (boolean) - 0: non-adult title; 1: adult title.\n",
    "    * startYear (YYYY) – represents the release year of a title. In the case of TV Series, it is the series start year.\n",
    "    * endYear (YYYY) – TV Sereis end year. ‘\\N’ for all other title types\n",
    "    * runtimeMinutes – primary runtime of the title, in minutes\n",
    "    * genres (string array) – includes up to three genres associated with the title\n",
    "\n",
    "\n",
    "* title.crew.tsv: 133 MB, 4,534,355 lines,  3 fields. Contains the director and writer information for all the titles in IMDb. Fields include:\n",
    "    * tconst (string)\n",
    "    * directors (array of nconsts) - director(s) of the given title\n",
    "    * writers (array of nconsts) – writer(s) of the given title\n",
    "\n",
    "\n",
    "* title.episode.tsv: 72 MB, 2,986,926 lines, 4 fields. Contains the tv episode information. Fields include:\n",
    "    * tconst (string) - alphanumeric identifier of episode\n",
    "    * parentTconst (string) - alphanumeric identifier of the parent TV Series\n",
    "    * seasonNumber (integer) – season number the episode belongs to\n",
    "    * episodeNumber (integer) – episode number of the tconst in the TV series.\n",
    "\n",
    "\n",
    "* title.principals.tsv: 281 MB, 4,008,569 lines, 2 fields. Contains the principal cast for titles:\n",
    "    * tconst (string)\n",
    "    * principalCast (array of nconsts) – title’s top-billed cast\n",
    "    * Note: This file will be pre-processed so that the second field is “molten” into separate cast for each line (SÇ)\n",
    "\n",
    "\n",
    "* title.ratings.tsv: 13 MB, 767,042 lines, 3 fields. Contains the IMDb rating and votes information for titles\n",
    "    * tconst (string)\n",
    "    * averageRating – weighted average of all the individual user ratings\n",
    "    * numVotes - number of votes the title has received\n",
    "\n",
    "\n",
    "* name.basics.tsv: 474 MB, 8,155,448 lines, 6 fields. Contains the following information for names:\n",
    "    * nconst (string) - alphanumeric unique identifier of the name/person\n",
    "    * primaryName (string)– name by which the person is most often credited\n",
    "    * birthYear – in YYYY format\n",
    "    * deathYear – in YYYY format if applicable, else ‘\\N’\n",
    "    * primaryProfession (array of strings)– the top-3 professions of the person\n",
    "    * knownForTitles (array of tconsts) – titles the person is known for"
   ]
  },
  {
   "cell_type": "markdown",
   "metadata": {
    "kernel": "Bash"
   },
   "source": [
    "Note that title.basics.tsv is 365MB while title.basics.tsv.gz is 79MB. That's why large files are gzipped. Now we will gunzip them"
   ]
  },
  {
   "cell_type": "markdown",
   "metadata": {
    "kernel": "Bash"
   },
   "source": [
    "### view gzipped files"
   ]
  },
  {
   "cell_type": "markdown",
   "metadata": {
    "kernel": "Bash"
   },
   "source": [
    "We can view the contents of gzipped files:"
   ]
  },
  {
   "cell_type": "code",
   "execution_count": null,
   "metadata": {
    "kernel": "Bash"
   },
   "outputs": [],
   "source": [
    "whatis cat\n",
    "tldr cat"
   ]
  },
  {
   "cell_type": "code",
   "execution_count": null,
   "metadata": {
    "kernel": "Bash"
   },
   "outputs": [],
   "source": [
    "whatis zcat\n",
    "tldr zcat"
   ]
  },
  {
   "cell_type": "markdown",
   "metadata": {
    "kernel": "Bash"
   },
   "source": [
    "\"cat\" command lets us print the contents of a text formatted file to terminal, zcat does that for gzipped files. However the files are big and doing so will only show the last part in a terminal, and here in jupyter it will enter into a long running process that will overuse the memory"
   ]
  },
  {
   "cell_type": "markdown",
   "metadata": {
    "kernel": "Bash"
   },
   "source": [
    "We will invoke a separete terminal and view the files with a pager called less:"
   ]
  },
  {
   "cell_type": "code",
   "execution_count": null,
   "metadata": {
    "kernel": "Bash"
   },
   "outputs": [],
   "source": [
    "whatis less\n",
    "tldr less"
   ]
  },
  {
   "cell_type": "code",
   "execution_count": null,
   "metadata": {
    "kernel": "Bash"
   },
   "outputs": [],
   "source": [
    "whatis zless\n",
    "tldr zless"
   ]
  },
  {
   "cell_type": "code",
   "execution_count": null,
   "metadata": {
    "kernel": "Bash"
   },
   "outputs": [],
   "source": [
    "scr=$(screen -ls | grep -P \"Attached\" | head -1 | grep -Po \"^\\t+.+?(?=\\s|\\t)\" | tr -d \"\\t\")\n",
    "screen -S $scr -X stuff \"zless -N $imdbdir/tsv/name.basics.tsv.gz\\n\""
   ]
  },
  {
   "cell_type": "markdown",
   "metadata": {
    "kernel": "Bash"
   },
   "source": [
    "N flag shows line numbers"
   ]
  },
  {
   "cell_type": "markdown",
   "metadata": {
    "kernel": "Bash"
   },
   "source": [
    "- Get help on less usage by typing \"h\".\n",
    "- Scroll back and forth with pgup/down or j/k\n",
    "- search with \"/pattern\" and N/n gets to next/previous match.\n",
    "- xxg goes to xxth line.\n",
    "\n",
    "Now let's play a game in pairs:\n",
    "\n",
    "- Search for your favorite act(ress|or) and tell the line number to your partner. (S)he will find that act(ress|or) and tell you back!\n",
    "\n",
    "My ones are 794034 and 200. Who are they? Hoo-Hah!\n",
    "\n",
    "\"less is more\"! You'll love \"less\" in time. Hit \"q\" to exit ..."
   ]
  },
  {
   "cell_type": "markdown",
   "metadata": {
    "kernel": "Bash"
   },
   "source": [
    "### gunzip tsv files"
   ]
  },
  {
   "cell_type": "markdown",
   "metadata": {
    "kernel": "Bash"
   },
   "source": [
    "First we will create a separate directory for gunzipped tsv files, just under $imdbdir. However if the command is rerun, it should not raise an error:"
   ]
  },
  {
   "cell_type": "code",
   "execution_count": null,
   "metadata": {
    "kernel": "Bash"
   },
   "outputs": [],
   "source": [
    "whatis mkdir\n",
    "tldr mkdir"
   ]
  },
  {
   "cell_type": "markdown",
   "metadata": {
    "kernel": "Bash"
   },
   "source": [
    "p flag to mkdir creates directories recursively and does nothing if they exist:"
   ]
  },
  {
   "cell_type": "code",
   "execution_count": null,
   "metadata": {
    "kernel": "Bash"
   },
   "outputs": [],
   "source": [
    "ls $imdbdir\n",
    "mkdir -p $imdbdir/tsv2 && echo \"$imdbdir/tsv2 created\" ## second command executed only if first one is successful\n",
    "ls $imdbdir"
   ]
  },
  {
   "cell_type": "markdown",
   "metadata": {
    "kernel": "Bash"
   },
   "source": [
    "Now let's gunzip tsv.gz files, keeping the original gz files and not overwriting any gunzipped files if the command is run more than once:"
   ]
  },
  {
   "cell_type": "code",
   "execution_count": null,
   "metadata": {
    "kernel": "Bash"
   },
   "outputs": [],
   "source": [
    "yes n | gunzip -k $imdbdir/tsv/*.gz"
   ]
  },
  {
   "cell_type": "code",
   "execution_count": null,
   "metadata": {
    "kernel": "Bash"
   },
   "outputs": [],
   "source": [
    "whatis yes\n",
    "tldr yes"
   ]
  },
  {
   "cell_type": "markdown",
   "metadata": {
    "kernel": "Bash"
   },
   "source": [
    "The first part repeatedly output an \"n\" for \"NO\" as long as the second part says \"should I overwrite the existing file\"."
   ]
  },
  {
   "cell_type": "markdown",
   "metadata": {
    "kernel": "Bash"
   },
   "source": [
    "Now copy those gunzipped files into the new directory so that we don't mistakenly modify the original gz files."
   ]
  },
  {
   "cell_type": "code",
   "execution_count": null,
   "metadata": {
    "kernel": "Bash"
   },
   "outputs": [],
   "source": [
    "whatis cp\n",
    "tldr cp"
   ]
  },
  {
   "cell_type": "code",
   "execution_count": null,
   "metadata": {
    "kernel": "Bash"
   },
   "outputs": [],
   "source": [
    "cp -n $imdbdir/tsv/*.tsv $imdbdir/tsv2/"
   ]
  },
  {
   "cell_type": "markdown",
   "metadata": {
    "kernel": "Bash"
   },
   "source": [
    "Note that \"n\" flag is \"no-clobber\" which stands for \"do not overwrite existing files\""
   ]
  },
  {
   "cell_type": "markdown",
   "metadata": {
    "kernel": "Bash"
   },
   "source": [
    "Now, I am fed up with this tsv2 directory and get rid of it completely:"
   ]
  },
  {
   "cell_type": "code",
   "execution_count": null,
   "metadata": {
    "kernel": "Bash"
   },
   "outputs": [],
   "source": [
    "whatis rm\n",
    "tldr rm"
   ]
  },
  {
   "cell_type": "markdown",
   "metadata": {
    "kernel": "Bash"
   },
   "source": [
    "We write a short shell function that checks whether the first argument ($1) exists as a condition and returns true or false. \"-e\" means \"exists\" "
   ]
  },
  {
   "cell_type": "code",
   "execution_count": null,
   "metadata": {
    "kernel": "Bash"
   },
   "outputs": [],
   "source": [
    "exists()  if [ -e $1 ]; then echo \"true\"; else echo \"false\"; fi\n",
    "exists $imdbdir/tsv2\n",
    "rm -r $imdbdir/tsv2 && echo \"$imdbdir/tsv2 deleted\"\n",
    "exists $imdbdir/tsv2"
   ]
  },
  {
   "cell_type": "markdown",
   "metadata": {
    "kernel": "Bash"
   },
   "source": [
    "Now rerun the above commands to recreate the tsv2 directory and copy tsv files\n",
    "Check the contents of the directory:"
   ]
  },
  {
   "cell_type": "code",
   "execution_count": null,
   "metadata": {
    "kernel": "Bash"
   },
   "outputs": [],
   "source": [
    "mkdir -p $imdbdir/tsv2 && echo \"$imdbdir/tsv2 created\" ## second command executed only if first one is successful\n",
    "cp -n $imdbdir/tsv/*.tsv $imdbdir/tsv2/"
   ]
  },
  {
   "cell_type": "code",
   "execution_count": null,
   "metadata": {
    "kernel": "Bash"
   },
   "outputs": [],
   "source": [
    "ls $imdbdir/tsv2"
   ]
  },
  {
   "cell_type": "markdown",
   "metadata": {
    "kernel": "Bash"
   },
   "source": [
    "**EXERCISE 4:**\n",
    "\n",
    "1. Write a function exists2 that echoes \"exists\" or \"notexists\" based on the exists condition\n",
    "2. Create a directory tsv3, but it should not complain if run twice. If executed it should return a message that it did so (even if it does not redo)\n",
    "3. Check whether tsv3 exists\n",
    "4. Copy the tsv files under tsv directory here, but it should not overwrite the files\n",
    "5. List the contents of tsv3 directory\n",
    "6. Remove the tsv3 directory and return a message that it did so\n",
    "7. and check whether tsv3 exists anymore using the above function"
   ]
  },
  {
   "cell_type": "code",
   "execution_count": null,
   "metadata": {
    "kernel": "Bash"
   },
   "outputs": [],
   "source": []
  },
  {
   "cell_type": "markdown",
   "metadata": {
    "kernel": "Bash"
   },
   "source": [
    "**SOLUTION 4:**"
   ]
  },
  {
   "cell_type": "code",
   "execution_count": null,
   "metadata": {
    "kernel": "Bash"
   },
   "outputs": [],
   "source": [
    "pass1=\n",
    "encrypt=\"U2FsdGVkX1/vzhgzmriq2SUeRoCJn1hpgV0lP8qU9HIotS6WVfVmnnxMf5w5LgS2 uhJDLm+T+kuLmwDbYRF0CJc1kckMA468XJ4QVNyXzr8TWW+oIMylnPX15OXi3FFz d891bcFNirD8Q0bYiaCYuOrUi20JScwax1Ua9xPZtNOiIwoQHQbmUJ6EsaHlPkAM XdQJg7eZe9+9+YJCwcSswXda2fCs4/NIP2OVEXgHrhNZIgQXYAZ+K6R82EvGvGf2 vFia5CFXlunH20QWvJUkw2Ro7I7lMHa/U2c7UdQzkdyy28AJqFQhWV5J49Am2dOW pEWorE7btQ1gQ8PznqBFq9WfoQOviioxuIRD+XqLqSXO+PMbqmtW5TZfbDvYtDLL 3c71Fsb+AicJ9Fw5WxI+ig==\"\n",
    "solution=$(echo \"$encrypt\" | openssl enc -md sha256 -aes-128-cbc -a -d -salt -pass pass:$pass1 2> /dev/null)\n",
    "echo \"$solution\"; echo\n",
    "for l in \"$solution\"; do eval \"${l}\"; done"
   ]
  },
  {
   "cell_type": "markdown",
   "metadata": {
    "kernel": "Bash"
   },
   "source": [
    "### Get first or last n lines"
   ]
  },
  {
   "cell_type": "markdown",
   "metadata": {
    "kernel": "Bash"
   },
   "source": [
    "Let's see the initial or last lines of a file:"
   ]
  },
  {
   "cell_type": "code",
   "execution_count": null,
   "metadata": {
    "kernel": "Bash"
   },
   "outputs": [],
   "source": [
    "whatis head\n",
    "tldr head"
   ]
  },
  {
   "cell_type": "code",
   "execution_count": null,
   "metadata": {
    "kernel": "Bash"
   },
   "outputs": [],
   "source": [
    "cat $imdbdir/tsv2/name.basics.tsv | head -10"
   ]
  },
  {
   "cell_type": "markdown",
   "metadata": {
    "kernel": "Bash"
   },
   "source": [
    "But the columns are not aligned"
   ]
  },
  {
   "cell_type": "code",
   "execution_count": null,
   "metadata": {
    "kernel": "Bash"
   },
   "outputs": [],
   "source": [
    "whatis column\n",
    "tldr column"
   ]
  },
  {
   "cell_type": "code",
   "execution_count": null,
   "metadata": {
    "kernel": "Bash"
   },
   "outputs": [],
   "source": [
    "cat $imdbdir/tsv2/name.basics.tsv | head -10 | column -t"
   ]
  },
  {
   "cell_type": "markdown",
   "metadata": {
    "kernel": "Bash"
   },
   "source": [
    "### Row counts and many ways of looping in Unix/Linux"
   ]
  },
  {
   "cell_type": "markdown",
   "metadata": {
    "kernel": "Bash"
   },
   "source": [
    "Now I want to get a feel of how tall the tsv files are in terms of row count. For just one file:"
   ]
  },
  {
   "cell_type": "code",
   "execution_count": null,
   "metadata": {
    "kernel": "Bash"
   },
   "outputs": [],
   "source": [
    "cat $imdbdir/tsv2/name.basics.tsv | wc -l"
   ]
  },
  {
   "cell_type": "markdown",
   "metadata": {
    "kernel": "Bash"
   },
   "source": [
    "This is hard to read as human beings"
   ]
  },
  {
   "cell_type": "code",
   "execution_count": null,
   "metadata": {
    "kernel": "Bash"
   },
   "outputs": [],
   "source": [
    "whatis numfmt\n",
    "man numfmt"
   ]
  },
  {
   "cell_type": "code",
   "execution_count": null,
   "metadata": {
    "kernel": "Bash"
   },
   "outputs": [],
   "source": [
    "cat $imdbdir/tsv2/name.basics.tsv | wc -l | numfmt --to=si"
   ]
  },
  {
   "cell_type": "markdown",
   "metadata": {
    "kernel": "Bash"
   },
   "source": [
    "But single file does not suffice, let's do that for all tsv files"
   ]
  },
  {
   "cell_type": "code",
   "execution_count": null,
   "metadata": {
    "kernel": "Bash"
   },
   "outputs": [],
   "source": [
    "ls $imdbdir/tsv2/*"
   ]
  },
  {
   "cell_type": "code",
   "execution_count": null,
   "metadata": {
    "kernel": "Bash"
   },
   "outputs": [],
   "source": [
    "ls $imdbdir/tsv2/* | \\\n",
    "while read l;\n",
    "do\n",
    "    cat \"$l\" | wc -l | numfmt --to=si;\n",
    "done"
   ]
  },
  {
   "cell_type": "markdown",
   "metadata": {
    "kernel": "Bash"
   },
   "source": [
    "That's better. We loop through the full path of the contents of tsv2 directory, assign each to variable \\\\$l and run the above pipe for each $l.\n",
    "\n",
    "Better, we can use a for loop for this iteration:"
   ]
  },
  {
   "cell_type": "code",
   "execution_count": null,
   "metadata": {
    "kernel": "Bash"
   },
   "outputs": [],
   "source": [
    "for l in $imdbdir/tsv2/*; \\\n",
    "do\n",
    "    cat \"$l\" | wc -l | numfmt --to=si;\n",
    "done"
   ]
  },
  {
   "cell_type": "markdown",
   "metadata": {
    "kernel": "Bash"
   },
   "source": [
    "But shouldn't it be better if we also report respective filenames?"
   ]
  },
  {
   "cell_type": "code",
   "execution_count": null,
   "metadata": {
    "kernel": "Bash"
   },
   "outputs": [],
   "source": [
    "whatis printf\n",
    "tldr printf"
   ]
  },
  {
   "cell_type": "code",
   "execution_count": null,
   "metadata": {
    "kernel": "Bash"
   },
   "outputs": [],
   "source": [
    "for l in $imdbdir/tsv2/*; \\\n",
    "do\n",
    "    printf \"%s\\t\" $l;\n",
    "    cat \"$l\" | wc -l | numfmt --to=si;\n",
    "done"
   ]
  },
  {
   "cell_type": "markdown",
   "metadata": {
    "kernel": "Bash"
   },
   "source": [
    "We can use the more powerful \"find\" command instead of ls"
   ]
  },
  {
   "cell_type": "code",
   "execution_count": null,
   "metadata": {
    "kernel": "Bash"
   },
   "outputs": [],
   "source": [
    "whatis find\n",
    "tldr find"
   ]
  },
  {
   "cell_type": "code",
   "execution_count": null,
   "metadata": {
    "kernel": "Bash"
   },
   "outputs": [],
   "source": [
    "find $imdbdir/tsv2 -mindepth 1 | \\\n",
    "while read l;\n",
    "do\n",
    "    printf \"%s\\t\" $l;\n",
    "    cat $l | wc -l | numfmt --to=si;\n",
    "done"
   ]
  },
  {
   "cell_type": "markdown",
   "metadata": {
    "kernel": "Bash"
   },
   "source": [
    "But we can replace the whole loop with sth more terse (or concise) and aligned columns:"
   ]
  },
  {
   "cell_type": "code",
   "execution_count": null,
   "metadata": {
    "kernel": "Bash"
   },
   "outputs": [],
   "source": [
    "whatis xargs\n",
    "tldr xargs"
   ]
  },
  {
   "cell_type": "code",
   "execution_count": null,
   "metadata": {
    "kernel": "Bash"
   },
   "outputs": [],
   "source": [
    "find $imdbdir/tsv2 -mindepth 1 | \\\n",
    "    xargs -i sh -c 'printf \"%s\\t\" {}; cat {} | wc -l | numfmt --to=si' | \\\n",
    "    column -t"
   ]
  },
  {
   "cell_type": "markdown",
   "metadata": {
    "kernel": "Bash"
   },
   "source": [
    "Or do the loop inside the \"-exec\" argument of find command:"
   ]
  },
  {
   "cell_type": "code",
   "execution_count": null,
   "metadata": {
    "kernel": "Bash"
   },
   "outputs": [],
   "source": [
    "find $imdbdir/tsv2 -mindepth 1 \\\n",
    "    -exec sh -c 'printf \"%s\\t\" {}; cat {} | wc -l | numfmt --to=si' \\; | \\\n",
    "    column -t"
   ]
  },
  {
   "cell_type": "markdown",
   "metadata": {
    "kernel": "Bash"
   },
   "source": [
    "Or instead of serial processing, process multiple lines at the same time utilizing multiple CPU cores:"
   ]
  },
  {
   "cell_type": "code",
   "execution_count": null,
   "metadata": {
    "kernel": "Bash"
   },
   "outputs": [],
   "source": [
    "whatis parallel\n",
    "tldr parallel"
   ]
  },
  {
   "cell_type": "markdown",
   "metadata": {
    "kernel": "Bash"
   },
   "source": [
    "And to support the development of GNU Parallel project, please read:"
   ]
  },
  {
   "cell_type": "code",
   "execution_count": null,
   "metadata": {
    "kernel": "Bash"
   },
   "outputs": [],
   "source": [
    "parallel --citation"
   ]
  },
  {
   "cell_type": "code",
   "execution_count": null,
   "metadata": {
    "kernel": "Bash"
   },
   "outputs": [],
   "source": [
    "find $imdbdir/tsv2 -mindepth 1 | \\\n",
    "    parallel -k -j0 'printf \"%s\\t\" {}; cat {} | wc -l | numfmt --to=si' | \\\n",
    "    column -t"
   ]
  },
  {
   "cell_type": "markdown",
   "metadata": {
    "kernel": "Bash"
   },
   "source": [
    "j flag provides number of parallel threads, j0 means maximum threads available, k keeps the original order of the inputs\n",
    "\n",
    "Contrary to sequential single-threaded processing, in parallel processing, without k flag, the order of the output may be different based on completion times of each thread"
   ]
  },
  {
   "cell_type": "markdown",
   "metadata": {
    "kernel": "Bash"
   },
   "source": [
    "You see there are many ways to do the same thing in Linux"
   ]
  },
  {
   "cell_type": "markdown",
   "metadata": {
    "kernel": "Bash"
   },
   "source": [
    "**EXERCISE 5:**\n",
    "\n",
    "Find the WORD counts (not line) of all gzipped files under tsv directory, using any of the methods you like above. Check the \"name\" argument to file, the glob for the files is \"*.gz\"\n",
    "\n",
    "IMHO, this is a \"big data management\" course, and in order to process larger datasets easily utilizing the max power of your processor with full throttle, \"parallel\" should be your way!\n",
    "\n",
    "Note that in order to use text processing commands (cat, less etc.) on zipped files, we add the prefix \"z\" to those commands "
   ]
  },
  {
   "cell_type": "code",
   "execution_count": null,
   "metadata": {
    "kernel": "Bash"
   },
   "outputs": [],
   "source": []
  },
  {
   "cell_type": "markdown",
   "metadata": {
    "kernel": "Bash"
   },
   "source": [
    "**SOLUTION 5:**"
   ]
  },
  {
   "cell_type": "code",
   "execution_count": null,
   "metadata": {
    "kernel": "Bash"
   },
   "outputs": [],
   "source": [
    "pass1=\n",
    "encrypt=\"U2FsdGVkX18fvmKge1qRd1u+3HhdU41PB1axe167aRS527dX9nIx2ckFe3wPmE0E vQ93TpCe1jTphNkfZ+qyzB1oiJvxdVUclalfFlQbzhy42p1pN46/DMHvLGBho6RI oXelzh1SLtqk2O9YU4v3mwFcf5LtTZiSyq237Lni/Y5/3ZB0nePZz6TCt3i6Lavz Id7SgTK7XNsdEjtjsESvig==\"\n",
    "solution=$(echo $encrypt | openssl enc -md sha256 -aes-128-cbc -a -d -salt -pass pass:$pass1 2> /dev/null)\n",
    "echo \"$solution\"; echo\n",
    "for l in \"$solution\"; do eval \"${l}\"; done"
   ]
  },
  {
   "cell_type": "markdown",
   "metadata": {
    "kernel": "Bash"
   },
   "source": [
    "### Column counts"
   ]
  },
  {
   "cell_type": "markdown",
   "metadata": {
    "kernel": "Bash"
   },
   "source": [
    "What if we want to get the column counts of each file?\n",
    "\n",
    "Combining all we have learned above, we can read the first line and count the words!"
   ]
  },
  {
   "cell_type": "code",
   "execution_count": null,
   "metadata": {
    "kernel": "Bash"
   },
   "outputs": [],
   "source": [
    "find $imdbdir/tsv2 -mindepth 1 | \\\n",
    "    parallel -k -j0 'printf \"%s\\t\" {}; head -1 {} | wc -w' | \\\n",
    "    column -t"
   ]
  },
  {
   "cell_type": "markdown",
   "metadata": {
    "kernel": "Bash"
   },
   "source": [
    "**EXERCISE 6:**\n",
    "\n",
    "gzip algorithm can implement compressions up to two orders of magnitude.\n",
    "\n",
    "In some cases it is not convenient to gunzip the files since they may fill up the drive.\n",
    "\n",
    "So we may have to do the same thing on the gzipped files, off you go!\n",
    "\n",
    "Note: There is no \"z\" version for head, but \"head\" can work on stdin "
   ]
  },
  {
   "cell_type": "code",
   "execution_count": null,
   "metadata": {
    "kernel": "Bash"
   },
   "outputs": [],
   "source": []
  },
  {
   "cell_type": "markdown",
   "metadata": {
    "kernel": "Bash"
   },
   "source": [
    "**SOLUTION 6:**"
   ]
  },
  {
   "cell_type": "code",
   "execution_count": null,
   "metadata": {
    "kernel": "Bash"
   },
   "outputs": [],
   "source": [
    "pass1=\n",
    "encrypt=\"U2FsdGVkX19GPSAW6SDyYhMan0hv+ZxMF544aTgc3uqtBfkllke344tehTZK1lBo I9x/LzmrmFnoY+SWtvstpln4pkqKMycuFxVuV1oCwEAn0FKHbUOqqbKthawGVWJb yJYo7jztKKIO/5/VROag1QHWQ07ihGUeNRMkGrr9CJQge2+pQyR2W4DOl4oKrwA9 /fuZ2du4+1tmXWM/Q48RIA==\"\n",
    "solution=$(echo $encrypt | openssl enc -md sha256 -aes-128-cbc -a -d -salt -pass pass:$pass1 2> /dev/null)\n",
    "echo \"$solution\"; echo\n",
    "for l in \"$solution\"; do eval \"${l}\"; done"
   ]
  },
  {
   "cell_type": "markdown",
   "metadata": {
    "kernel": "Bash"
   },
   "source": [
    "### Head and tail of files"
   ]
  },
  {
   "cell_type": "markdown",
   "metadata": {
    "kernel": "Bash"
   },
   "source": [
    "Statistics are good to have but it would be better to review the structure of the files, for example the headers and first data rows:"
   ]
  },
  {
   "cell_type": "code",
   "execution_count": null,
   "metadata": {
    "kernel": "Bash"
   },
   "outputs": [],
   "source": [
    "find $imdbdir/tsv2 -mindepth 1 | \\\n",
    "    parallel -k -j0 'printf \"%s\\n\" {}; head -2 {} | column -t; echo'"
   ]
  },
  {
   "cell_type": "markdown",
   "metadata": {
    "kernel": "Bash"
   },
   "source": [
    "**EXERCISE 7:**\n",
    "\n",
    "Did you realize that sth was different here as compared to previous ones? What is that?"
   ]
  },
  {
   "cell_type": "markdown",
   "metadata": {
    "kernel": "Bash"
   },
   "source": [
    "**SOLUTION 7:**"
   ]
  },
  {
   "cell_type": "code",
   "execution_count": null,
   "metadata": {
    "kernel": "Bash"
   },
   "outputs": [],
   "source": [
    "pass1=\n",
    "encrypt=\"U2FsdGVkX1+2dKu4xqou48SPsqsiI6GE3dC+Otn8k6ZOHn5yUo21hVBLeZJmm6VA 2yWJ7AD4JwQ6Onk1oF6mT69Lno0m1k3tGRqUfB2A/YVf4H1CxvnC/1hGnMxBOBHM ZV72KSZKzb2X3xUY9MX0Yj1Pr+gYmEzoOB1NntJ7SfI=\"\n",
    "solution=$(echo $encrypt | openssl enc -md sha256 -aes-128-cbc -a -d -salt -pass pass:$pass1 2> /dev/null)\n",
    "echo \"$solution\"; echo"
   ]
  },
  {
   "cell_type": "markdown",
   "metadata": {
    "kernel": "Bash"
   },
   "source": [
    "If we want to get the last n lines, we use tail:"
   ]
  },
  {
   "cell_type": "code",
   "execution_count": null,
   "metadata": {
    "kernel": "Bash"
   },
   "outputs": [],
   "source": [
    "whatis tail\n",
    "tldr tail"
   ]
  },
  {
   "cell_type": "markdown",
   "metadata": {
    "kernel": "Bash"
   },
   "source": [
    "**EXERCISE 8:**\n",
    "\n",
    "We want to print the first and last lines of each file.\n",
    "\n",
    "Note that, in order the align both lines, they must be fed into the pipe before \"column\" command together. Can you figure out a way for this?"
   ]
  },
  {
   "cell_type": "code",
   "execution_count": null,
   "metadata": {
    "kernel": "Bash"
   },
   "outputs": [],
   "source": []
  },
  {
   "cell_type": "markdown",
   "metadata": {
    "kernel": "Bash"
   },
   "source": [
    "**SOLUTION 8:**"
   ]
  },
  {
   "cell_type": "code",
   "execution_count": null,
   "metadata": {
    "kernel": "Bash"
   },
   "outputs": [],
   "source": [
    "pass1=\n",
    "encrypt=\"U2FsdGVkX18QvsiUoHDi8Xk/h3bH6K2gaaPXrVnxqxQ1eXDPTss1htcSDx5uOVW/ QNXlXUvh94Jk/yMPS0P+4LIKMhsnMPTDTAb7YdYF+DZ4jP285gQqBdezPyEg8qCc tNuDVOvwjjchyYm0pSoeDJHGAAgxrvapOQj3R2hi2L8EMCYAm5EDhMgfGgOnU0J5\"\n",
    "solution=$(echo $encrypt | openssl enc -md sha256 -aes-128-cbc -a -d -salt -pass pass:$pass1 2> /dev/null)\n",
    "echo \"$solution\"; echo\n",
    "for l in \"$solution\"; do eval \"${l}\"; done"
   ]
  },
  {
   "cell_type": "markdown",
   "metadata": {
    "kernel": "Bash"
   },
   "source": [
    "### Selected columns and pattern match"
   ]
  },
  {
   "cell_type": "markdown",
   "metadata": {
    "kernel": "Bash"
   },
   "source": [
    "Suppose we are concerned with only one column of a file. We have information on how the columns are separated and the position of the column.\n",
    "\n",
    "We can do that easily with \"AWK\". It is more than a command, a fully fledged programming language and the Swiss army knife of text processing in Unix! It is mostly used for short scripts and especially very very powerful one-liners.\n",
    "\n",
    "I hope you watched the old AT&T video on Unix pipes, told by a bearded gentleman. Brian Kernighan is one of the most colossal figures in history of computing and the \"K\" in \"AWK\" stands for his surname"
   ]
  },
  {
   "cell_type": "code",
   "execution_count": null,
   "metadata": {
    "kernel": "Bash"
   },
   "outputs": [],
   "source": [
    "whatis awk\n",
    "tldr awk"
   ]
  },
  {
   "cell_type": "markdown",
   "metadata": {
    "kernel": "Bash"
   },
   "source": [
    "But first we have to know the position of a column with a certain heading, such as endYear:"
   ]
  },
  {
   "cell_type": "code",
   "execution_count": null,
   "metadata": {
    "kernel": "Bash"
   },
   "outputs": [],
   "source": [
    "head -1 $imdbdir/tsv2/title.basics.tsv"
   ]
  },
  {
   "cell_type": "markdown",
   "metadata": {
    "kernel": "Bash"
   },
   "source": [
    "We can easily count that it is the 7th line. But suppose we want to do that programmatically.\n",
    "\n",
    "We need a few more tools"
   ]
  },
  {
   "cell_type": "code",
   "execution_count": null,
   "metadata": {
    "kernel": "Bash"
   },
   "outputs": [],
   "source": [
    "whatis grep\n",
    "tldr grep"
   ]
  },
  {
   "cell_type": "markdown",
   "metadata": {
    "kernel": "Bash"
   },
   "source": [
    "grep is a very important tool to make pattern search in files. With the -n flag, it can return the line number of match\n",
    "\n",
    "However, the input is not separated into lines :(\n",
    "\n",
    "First we have to convert tabs into newlines, with any of the two tools below:"
   ]
  },
  {
   "cell_type": "code",
   "execution_count": null,
   "metadata": {
    "kernel": "Bash"
   },
   "outputs": [],
   "source": [
    "whatis tr\n",
    "tldr tr"
   ]
  },
  {
   "cell_type": "code",
   "execution_count": null,
   "metadata": {
    "kernel": "Bash"
   },
   "outputs": [],
   "source": [
    "head -1 $imdbdir/tsv2/title.basics.tsv | tr \"\\t\" \"\\n\""
   ]
  },
  {
   "cell_type": "code",
   "execution_count": null,
   "metadata": {
    "kernel": "Bash"
   },
   "outputs": [],
   "source": [
    "whatis sed\n",
    "tldr sed"
   ]
  },
  {
   "cell_type": "markdown",
   "metadata": {
    "kernel": "Bash"
   },
   "source": [
    "While tr is a more specific tool for transforming characters in a file or stdin, sed is more powerful and versatile\n",
    "\n",
    "It can substitute pattern matches with new strings, extract certain lines, append, delete or insert lines"
   ]
  },
  {
   "cell_type": "code",
   "execution_count": null,
   "metadata": {
    "kernel": "Bash"
   },
   "outputs": [],
   "source": [
    "head -1 $imdbdir/tsv2/title.basics.tsv | sed 's/\\t/\\n/g'"
   ]
  },
  {
   "cell_type": "markdown",
   "metadata": {
    "kernel": "Bash"
   },
   "source": [
    "Above sed command reads:\n",
    "\n",
    "- Substitute (s)\n",
    "- tab character (\\t)\n",
    "- with a newline character (\\n)\n",
    "- globally everywhere in the input (g)\n",
    "\n",
    "\"grep\" stands for, Global/Regular Expressions/Print"
   ]
  },
  {
   "cell_type": "markdown",
   "metadata": {
    "kernel": "Bash"
   },
   "source": [
    "awk is more versatile and handle more complex task but harder to write, sed is only a subset of awk but easier to write and tr is a subset of sed but even easier to use.\n",
    "\n",
    "IMHO, if an easier tool exists for a specific task, I go for it, so I prefer \"tr\" here:"
   ]
  },
  {
   "cell_type": "markdown",
   "metadata": {
    "kernel": "Bash"
   },
   "source": [
    "Now, we should search for endYear and get its line count:"
   ]
  },
  {
   "cell_type": "code",
   "execution_count": null,
   "metadata": {
    "kernel": "Bash"
   },
   "outputs": [],
   "source": [
    "head -1 $imdbdir/tsv2/title.basics.tsv | tr \"\\t\" \"\\n\" | grep -n endYear"
   ]
  },
  {
   "cell_type": "markdown",
   "metadata": {
    "kernel": "Bash"
   },
   "source": [
    "That's good it is the 7th column. But programmatically we should only get that 7 and not the rest.\n",
    "\n",
    "We can feed into grep again as such:(don't mind the pattern here)"
   ]
  },
  {
   "cell_type": "code",
   "execution_count": null,
   "metadata": {
    "kernel": "Bash"
   },
   "outputs": [],
   "source": [
    "head -1 $imdbdir/tsv2/title.basics.tsv | tr \"\\t\" \"\\n\" | grep -n endYear | grep -Po \"^\\d+(?=:)\""
   ]
  },
  {
   "cell_type": "markdown",
   "metadata": {
    "kernel": "Bash"
   },
   "source": [
    "It reads:\n",
    "\n",
    "- Start from the beginning (^)\n",
    "- Get the digits (\\d)\n",
    "- Of 1 or more (+)\n",
    "- Until (?=\n",
    "- The colon(:)"
   ]
  },
  {
   "cell_type": "markdown",
   "metadata": {
    "kernel": "Bash"
   },
   "source": [
    "Regex is a very powerful domain specific language to match patterns in text and as a big data manager you WILL surely need it in many tasks\n",
    "\n",
    "We will return back to regex and make recommendations in later sessions"
   ]
  },
  {
   "cell_type": "markdown",
   "metadata": {
    "kernel": "Bash"
   },
   "source": [
    "Maybe we can get a more concise way to extract the number? We can revert back to sed for this:"
   ]
  },
  {
   "cell_type": "code",
   "execution_count": null,
   "metadata": {
    "kernel": "Bash"
   },
   "outputs": [],
   "source": [
    "head -1 $imdbdir/tsv2/title.basics.tsv | tr \"\\t\" \"\\n\" | sed -n '/endYear/='"
   ]
  },
  {
   "cell_type": "markdown",
   "metadata": {
    "kernel": "Bash"
   },
   "source": [
    "In grep you cannot return the line number and suppress the match at the same time. But in sed you can only return the line number of match"
   ]
  },
  {
   "cell_type": "markdown",
   "metadata": {
    "kernel": "Bash"
   },
   "source": [
    "Now in order to use this column position inside awk, we can save it into a variable called CN for \"column number\""
   ]
  },
  {
   "cell_type": "code",
   "execution_count": null,
   "metadata": {
    "kernel": "Bash"
   },
   "outputs": [],
   "source": [
    "CN=$(head -1 $imdbdir/tsv2/title.basics.tsv | tr \"\\t\" \"\\n\" | sed -n '/endYear/=')\n",
    "echo $CN"
   ]
  },
  {
   "cell_type": "markdown",
   "metadata": {
    "kernel": "Bash"
   },
   "source": [
    "In more complex code, inserting echo (or printf) statements is important for subsequent debugging"
   ]
  },
  {
   "cell_type": "markdown",
   "metadata": {
    "kernel": "Bash"
   },
   "source": [
    "So we can save output of any command into a variable with this syntax"
   ]
  },
  {
   "cell_type": "markdown",
   "metadata": {
    "kernel": "Bash"
   },
   "source": [
    "Getting a column with an index is trivial for awk:"
   ]
  },
  {
   "cell_type": "code",
   "execution_count": null,
   "metadata": {
    "kernel": "Bash"
   },
   "outputs": [],
   "source": [
    "awk -F \"\\t\" '{ print $7}' $imdbdir/tsv2/title.basics.tsv | head"
   ]
  },
  {
   "cell_type": "markdown",
   "metadata": {
    "kernel": "Bash"
   },
   "source": [
    "\"-F\" sets the field separator to tab character.\n",
    "\n",
    "But awk has its own variables and we have to pass this CN variable into awk with the -v flag.\n",
    "\n",
    "We can use the same variable name or a different one. "
   ]
  },
  {
   "cell_type": "code",
   "execution_count": null,
   "metadata": {
    "kernel": "Bash"
   },
   "outputs": [],
   "source": [
    "awk -v CN=$CN -F \"\\t\" '{ print $CN }' $imdbdir/tsv2/title.basics.tsv | head"
   ]
  },
  {
   "cell_type": "markdown",
   "metadata": {
    "kernel": "Bash"
   },
   "source": [
    "Note that the $CN inside awk expression is different from the one we defined before. Variables of awk are distinct from that of the shell awk is invoked from.\n",
    "\n",
    "Combined steps are:"
   ]
  },
  {
   "cell_type": "code",
   "execution_count": null,
   "metadata": {
    "kernel": "Bash"
   },
   "outputs": [],
   "source": [
    "CN=$(head -1 $imdbdir/tsv2/title.basics.tsv | tr \"\\t\" \"\\n\" | sed -n '/endYear/=')\n",
    "awk -v CN=$CN -F \"\\t\" '{ print $CN }' $imdbdir/tsv2/title.basics.tsv | head"
   ]
  },
  {
   "cell_type": "markdown",
   "metadata": {
    "kernel": "Bash"
   },
   "source": [
    "Or in a single statement:"
   ]
  },
  {
   "cell_type": "code",
   "execution_count": null,
   "metadata": {
    "kernel": "Bash"
   },
   "outputs": [],
   "source": [
    "awk -v CN=$(head -1 $imdbdir/tsv2/title.basics.tsv | tr \"\\t\" \"\\n\" | sed -n '/endYear/=') \\\n",
    "-F \"\\t\" '{ print $CN }' $imdbdir/tsv2/title.basics.tsv | head"
   ]
  },
  {
   "cell_type": "markdown",
   "metadata": {
    "kernel": "Bash"
   },
   "source": [
    "Writing strictly one-liner codes is not the best skill a coder should have.\n",
    "\n",
    "Writing a code that is easily understandable by the coder h(er|im)self and collaborators and easily debuggable is a more important skill\n",
    "\n",
    "So I go for the two-liner version"
   ]
  },
  {
   "cell_type": "markdown",
   "metadata": {
    "kernel": "Bash"
   },
   "source": [
    "But wait .... I refer to the filename twice! Suppose I had to do that many more times, referring to the same path again and again. Wouldn't it be better to save it into a variable and reuse? "
   ]
  },
  {
   "cell_type": "code",
   "execution_count": null,
   "metadata": {
    "kernel": "Bash"
   },
   "outputs": [],
   "source": [
    "filename=$imdbdir/tsv2/title.basics.tsv\n",
    "CN=$(head -1 $filename | tr \"\\t\" \"\\n\" | sed -n '/endYear/=')\n",
    "awk -v CN=$CN -F \"\\t\" '{ print $CN }' $filename | head"
   ]
  },
  {
   "cell_type": "markdown",
   "metadata": {
    "kernel": "Bash"
   },
   "source": [
    "But for a more reusable code, we can also parametrize the pattern and the last command to get the head or tail"
   ]
  },
  {
   "cell_type": "code",
   "execution_count": null,
   "metadata": {
    "kernel": "Bash"
   },
   "outputs": [],
   "source": [
    "filename=$imdbdir/tsv2/title.basics.tsv\n",
    "pattern=endYear\n",
    "comnd=head\n",
    "CN=$(head -1 $filename | tr \"\\t\" \"\\n\" | sed -n \"/$pattern/=\")\n",
    "awk -v CN=$CN -F \"\\t\" '{ print $CN }' $filename | $comnd"
   ]
  },
  {
   "cell_type": "markdown",
   "metadata": {
    "kernel": "Bash"
   },
   "source": [
    "And we can wrap all inside a shell function with parameters to be passed.\n",
    "\n",
    "Suppose first parameter is the filename, second is the pattern and the last is the command (head or tail)\n",
    "\n",
    "Parameters passed to the function can be referred by their positions as $1, $2 ..."
   ]
  },
  {
   "cell_type": "code",
   "execution_count": null,
   "metadata": {
    "kernel": "Bash"
   },
   "outputs": [],
   "source": [
    "# $imdbdir/tsv2/title.basics.tsv\n",
    "# endYear\n",
    "# head\n",
    "\n",
    "headortail()\n",
    "{\n",
    "    filename=$1\n",
    "    pattern=$2\n",
    "    comnd=$3\n",
    "    CN=$(head -1 $filename | tr \"\\t\" \"\\n\" | sed -n \"/$pattern/=\")\n",
    "    awk -v CN=$CN -F \"\\t\" '{ print $CN }' $filename | $comnd\n",
    "}"
   ]
  },
  {
   "cell_type": "markdown",
   "metadata": {
    "kernel": "Bash"
   },
   "source": [
    "Now we can reuse this code for many similar purposes. Let's start with our initial intent:"
   ]
  },
  {
   "cell_type": "code",
   "execution_count": null,
   "metadata": {
    "kernel": "Bash"
   },
   "outputs": [],
   "source": [
    "headortail $imdbdir/tsv2/title.basics.tsv endYear head"
   ]
  },
  {
   "cell_type": "markdown",
   "metadata": {
    "kernel": "Bash"
   },
   "source": [
    "And get the last values of primaryName column from the name.basics.tsv file:"
   ]
  },
  {
   "cell_type": "code",
   "execution_count": null,
   "metadata": {
    "kernel": "Bash"
   },
   "outputs": [],
   "source": [
    "headortail $imdbdir/tsv2/name.basics.tsv primaryName tail"
   ]
  },
  {
   "cell_type": "markdown",
   "metadata": {
    "kernel": "Bash"
   },
   "source": [
    "Note that we can also do the pattern match with awk, and more powerful than sed or grep:\n",
    "\n",
    "For example let's return the whole line where 7th field matches \"endYear\", prefixed with line number"
   ]
  },
  {
   "cell_type": "code",
   "execution_count": null,
   "metadata": {
    "kernel": "Bash"
   },
   "outputs": [],
   "source": [
    "filename=$imdbdir/tsv2/title.basics.tsv\n",
    "awk -F \"\\t\" '$7 == \"endYear\" { print NR\": \"$0 }' $filename"
   ]
  },
  {
   "cell_type": "markdown",
   "metadata": {
    "kernel": "Bash"
   },
   "source": [
    "**EXERCISE 9:**\n",
    "\n",
    "Write a function named linepattern that takes a file, a column pattern, a row pattern and returns the line number of match and the whole line\n",
    "\n",
    "Note that you can pass multiple variables to awk by invking \"-v\" multiple times for each variable\n",
    "\n",
    "And string variables with whitespaces must be wrapped inside quotes"
   ]
  },
  {
   "cell_type": "code",
   "execution_count": null,
   "metadata": {
    "kernel": "Bash"
   },
   "outputs": [],
   "source": []
  },
  {
   "cell_type": "markdown",
   "metadata": {
    "kernel": "Bash"
   },
   "source": [
    "**SOLUTION 9:**"
   ]
  },
  {
   "cell_type": "code",
   "execution_count": null,
   "metadata": {
    "kernel": "Bash"
   },
   "outputs": [],
   "source": [
    "pass1=\n",
    "encrypt=\"U2FsdGVkX18yoFtMKddz+N0MjU6twanensOn3zp1K/Bkv7lPtruYc23Ma6LoOjGk dlozrWW+rG3dgDq6TOYcgrpO1d4pIZomvyE01bWSDh1WXgXx0s+wTt8EPAIj/rg7 B5Nqcy4U/24rXJq59n6IkAOFrFFKCcDK3Z/D62FxI5al0tH5cyQVkWv+7NJSf+T7 Ctl3wN3Cjt4kHZXkL2YX7PfznQwOJb34BvWUd5Vl5XxTKmrbuS801+41XQdWUVJ5 kEXlxR3nmL3WPvLtfT/0Ux1VLjzJxzFtaUmvyDGigdoHIp/qXS+jv+I4pmXG8GWs\"\n",
    "solution=$(echo $encrypt | openssl enc -md sha256 -aes-128-cbc -a -d -salt -pass pass:$pass1 2> /dev/null)\n",
    "echo \"$solution\"; echo\n",
    "for l in \"$solution\"; do eval \"${l}\"; done"
   ]
  },
  {
   "cell_type": "markdown",
   "metadata": {
    "kernel": "Bash"
   },
   "source": [
    "Let's call it for name.basics.tsv, primaryName and \"Al Pacino\""
   ]
  },
  {
   "cell_type": "code",
   "execution_count": null,
   "metadata": {
    "kernel": "Bash"
   },
   "outputs": [],
   "source": [
    "linepattern $imdbdir/tsv2/name.basics.tsv primaryName \"Al Pacino\" | column -t"
   ]
  },
  {
   "cell_type": "markdown",
   "metadata": {
    "kernel": "Bash"
   },
   "source": [
    "### Unique values of a field"
   ]
  },
  {
   "cell_type": "markdown",
   "metadata": {
    "kernel": "Bash"
   },
   "source": [
    "Now out of millions of rows, let's explore the unique values:"
   ]
  },
  {
   "cell_type": "code",
   "execution_count": null,
   "metadata": {
    "kernel": "Bash"
   },
   "outputs": [],
   "source": [
    "whatis sort\n",
    "tldr sort"
   ]
  },
  {
   "cell_type": "code",
   "execution_count": null,
   "metadata": {
    "kernel": "Bash"
   },
   "outputs": [],
   "source": [
    "whatis uniq\n",
    "tldr uniq"
   ]
  },
  {
   "cell_type": "markdown",
   "metadata": {
    "kernel": "Bash"
   },
   "source": [
    "It is a coincidence that UNIQ is just next to our building!"
   ]
  },
  {
   "cell_type": "code",
   "execution_count": null,
   "metadata": {
    "kernel": "Bash"
   },
   "outputs": [],
   "source": [
    "filename=$imdbdir/tsv2/title.basics.tsv\n",
    "pattern=endYear\n",
    "CN=$(head -1 $filename | tr \"\\t\" \"\\n\" | sed -n \"/$pattern/=\")\n",
    "awk -v CN=$CN -F \"\\t\" '{ print $CN }' $filename | sort | uniq"
   ]
  },
  {
   "cell_type": "markdown",
   "metadata": {
    "kernel": "Bash"
   },
   "source": [
    "In order for \"uniq\" to work, stdin must be well sorted. But wait, sort command can also do uniq with \"-u\" flag:"
   ]
  },
  {
   "cell_type": "code",
   "execution_count": null,
   "metadata": {
    "kernel": "Bash"
   },
   "outputs": [],
   "source": [
    "filename=$imdbdir/tsv2/title.basics.tsv\n",
    "pattern=endYear\n",
    "CN=$(head -1 $filename | tr \"\\t\" \"\\n\" | sed -n \"/$pattern/=\")\n",
    "awk -v CN=$CN -F \"\\t\" '{ print $CN }' $filename | sort -u"
   ]
  },
  {
   "cell_type": "markdown",
   "metadata": {
    "kernel": "Bash"
   },
   "source": [
    "But for single column values, that tall of an output does not look good. We can get it arranged and printed in columns:"
   ]
  },
  {
   "cell_type": "code",
   "execution_count": null,
   "metadata": {
    "kernel": "Bash"
   },
   "outputs": [],
   "source": [
    "whatis pr\n",
    "man pr"
   ]
  },
  {
   "cell_type": "code",
   "execution_count": null,
   "metadata": {
    "kernel": "Bash"
   },
   "outputs": [],
   "source": [
    "filename=$imdbdir/tsv2/title.basics.tsv\n",
    "pattern=endYear\n",
    "CN=$(head -1 $filename | tr \"\\t\" \"\\n\" | sed -n \"/$pattern/=\")\n",
    "awk -v CN=$CN -F \"\\t\" '{ print $CN }' $filename | \\\n",
    "sort -u | pr -8 -t"
   ]
  },
  {
   "cell_type": "markdown",
   "metadata": {
    "kernel": "Bash"
   },
   "source": [
    "**EXERCISE 10:**\n",
    "\n",
    "Get the unique values of startYear column of title.basics.tsv but report only year values (just numbers)\n",
    "\n",
    "You can reuse components from previous grep commands for regex"
   ]
  },
  {
   "cell_type": "code",
   "execution_count": null,
   "metadata": {
    "kernel": "Bash"
   },
   "outputs": [],
   "source": []
  },
  {
   "cell_type": "markdown",
   "metadata": {
    "kernel": "Bash"
   },
   "source": [
    "**SOLUTION 10:**"
   ]
  },
  {
   "cell_type": "code",
   "execution_count": null,
   "metadata": {
    "kernel": "Bash"
   },
   "outputs": [],
   "source": [
    "pass1=\n",
    "encrypt=\"U2FsdGVkX19ZYi1B9oGWAmWy5lxS4X1HuF6mo6QMpjWeoHS34ZDvXidi0RTD1WpE wLZD8MkYgZmlD+t4jFS9iTtrrd5zXO74cehaQUVvquHcfFyI2F8MZOQpxvHdwEFj QP96UYpY9c+a/E/SuDbPEldCMrDS8Q/haRoaUKn4JWI51bbVhG3o0vwNjgVmBGKW xLYOEK/FHiVpKcuxb2u0THLrKquzIFddJkkOYXqLpjYQ8yxiL27D6eMLlcpc/+aQ QQObeW1jV5D0p7ewvG85Px6w0U9R3SFAA27RUnq+wmY=\"\n",
    "solution=$(echo $encrypt | openssl enc -md sha256 -aes-128-cbc -a -d -salt -pass pass:$pass1 2> /dev/null)\n",
    "echo \"$solution\"; echo\n",
    "for l in \"$solution\"; do eval \"${l}\"; done"
   ]
  },
  {
   "cell_type": "markdown",
   "metadata": {
    "kernel": "Bash"
   },
   "source": [
    "The dataset stretches far back!"
   ]
  },
  {
   "cell_type": "markdown",
   "metadata": {
    "kernel": "Bash"
   },
   "source": [
    "Now let's say the counts of unique values are also of importance:\n",
    "\n",
    "Sort in reverse order in terms of counts (only years)"
   ]
  },
  {
   "cell_type": "code",
   "execution_count": null,
   "metadata": {
    "kernel": "Bash"
   },
   "outputs": [],
   "source": [
    "counts=$(filename=$imdbdir/tsv2/title.basics.tsv\n",
    "pattern=startYear\n",
    "CN=$(head -1 $filename | tr \"\\t\" \"\\n\" | sed -n \"/$pattern/=\")\n",
    "awk -v CN=$CN -F \"\\t\" '{ print $CN }' $filename | \\\n",
    "grep -Po \"\\d+\" | sort | uniq -c)\n",
    "\n",
    "echo \"$counts\" | sort -nr | column -c 100"
   ]
  },
  {
   "cell_type": "markdown",
   "metadata": {
    "kernel": "Bash"
   },
   "source": [
    "And let's sort in increasing year order:"
   ]
  },
  {
   "cell_type": "code",
   "execution_count": null,
   "metadata": {
    "kernel": "Bash"
   },
   "outputs": [],
   "source": [
    "echo \"$counts\" | sort -n -k 2 | column -c 100"
   ]
  },
  {
   "cell_type": "markdown",
   "metadata": {
    "kernel": "Bash"
   },
   "source": [
    "And how about a simple plot wihout leaving the terminal/shell?"
   ]
  },
  {
   "cell_type": "code",
   "execution_count": null,
   "metadata": {
    "kernel": "Bash"
   },
   "outputs": [],
   "source": [
    "echo \"$counts\" | sort -n -k 2 | \\\n",
    "gnuplot -e \"set terminal dumb; plot '-' using 2:1 w points pt '*'\""
   ]
  },
  {
   "cell_type": "markdown",
   "metadata": {
    "kernel": "Bash"
   },
   "source": [
    "And let's just focus on the period between 1980 and 2017:"
   ]
  },
  {
   "cell_type": "code",
   "execution_count": null,
   "metadata": {
    "kernel": "Bash"
   },
   "outputs": [],
   "source": [
    "echo \"$counts\" | sort -n -k 2 | awk -F \" \" '$2 <= 2017 && $2 >= 1980' | \\\n",
    "gnuplot -e \"set terminal dumb; plot '-' using 2:1 w points pt '*'\""
   ]
  },
  {
   "cell_type": "markdown",
   "metadata": {
    "kernel": "Bash"
   },
   "source": [
    "### Multiple filters"
   ]
  },
  {
   "cell_type": "markdown",
   "metadata": {
    "kernel": "Bash"
   },
   "source": [
    "Suppose we use the awk code for filtering on multiple criteria:"
   ]
  },
  {
   "cell_type": "code",
   "execution_count": null,
   "metadata": {
    "kernel": "Bash"
   },
   "outputs": [],
   "source": [
    "filename=$imdbdir/tsv2/title.basics.tsv\n",
    "head -1 $filename"
   ]
  },
  {
   "cell_type": "markdown",
   "metadata": {
    "kernel": "Bash"
   },
   "source": [
    "Let's exclude first two columns, keep the header, filter for matching Godfather in primary Title and startYear after 1972 and before 1990:"
   ]
  },
  {
   "cell_type": "code",
   "execution_count": null,
   "metadata": {
    "kernel": "Bash"
   },
   "outputs": [],
   "source": [
    "CN1=$(head -1 $filename | tr \"\\t\" \"\\n\" | sed -n \"/primaryTitle/=\")\n",
    "CN2=$(head -1 $filename | tr \"\\t\" \"\\n\" | sed -n \"/startYear/=\")\n",
    "{ head -1 $filename | awk -F \"\\t\" 'BEGIN {OFS = \"\\t\"} { $1=$2=\"\";print $0 }'; \\\n",
    "awk -v CN1=$CN1 -v CN2=$CN2 -F \"\\t\" \\\n",
    "'BEGIN {OFS = \"\\t\"} $CN1 ~ /Godfather/ && $CN2 > 1972 && $CN2 < 1990 { $1=$2=\"\";print $0 }' $filename; } | \\\n",
    "column -t -s $'\\t'"
   ]
  },
  {
   "cell_type": "markdown",
   "metadata": {
    "kernel": "Bash"
   },
   "source": [
    "OFS is the output field separator, in order to format better for column command\n",
    "\n",
    "We delete first two columns by setting them to empty string\n",
    "\n",
    "And we combine both the header and filtered rows with { line1; line2; } | further_commands, to format together with column\n",
    "\n",
    "We combine multiple filters with &&"
   ]
  },
  {
   "cell_type": "markdown",
   "metadata": {
    "kernel": "Bash"
   },
   "source": [
    "**EXERCISE 11:**\n",
    "\n",
    "Delete first 2 and isAdult columns, keep the header\n",
    "Filter for movies that have a runtime less than 10 minutes and not \\N, genres include thriller and start year is after 1990 and not \\N\n",
    "Note that you have to escape the escape character in \"\\N\" as such: \"\\\\N\"\n",
    "\n",
    "Run head -1 for once and save in a variable"
   ]
  },
  {
   "cell_type": "code",
   "execution_count": null,
   "metadata": {
    "kernel": "Bash"
   },
   "outputs": [],
   "source": []
  },
  {
   "cell_type": "markdown",
   "metadata": {
    "kernel": "Bash"
   },
   "source": [
    "**SOLUTION 11:**"
   ]
  },
  {
   "cell_type": "code",
   "execution_count": null,
   "metadata": {
    "kernel": "Bash"
   },
   "outputs": [],
   "source": [
    "pass1=\n",
    "encrypt=\"U2FsdGVkX1+S79PKqpQJiVEf5D6Y/snYFkTIjRPI+v/ZbkuGO+wB6rmkGH5AHHUg 7aEK+wO93DX02gFwYjkltP3OTIxg7wxJFjAfRYGMUriQK/DbcPMqlWRyAZWp2pXo vrI0smeerjV5d4wyMQDe33lYvbfFq6sC1cZvbmbQeOxv4ET8O+BapcDVt4ULXYC+ B75Uc1g0PrqM9fewr0IqQX+xCaqAAn4j8ly5nxhxVGgneTrErUeO6QP9oEx1FCvz vFXhCdm1uyqKtBOO8GB/OUQ5Mz6PvlNM87RNNuNhmrhnsjwqw97eC8uLQKssASor mi/5t9NebnQgHAf0IShq0L/KawPfnm/KmYXjb2DqSSu+9OM1ZyxpDAgjveD/TNbR C0Re7OgVfi6kg22LiZpRiHks4+clqnkjF6cCA54dFu5Qf49orXJNtB7HOakorRoD 0puOPrWRy754JLxLzgKnnE7B6+OJ99uFWQGLXuT5RKfdtBc6wWjXZkSNPVoK8vTV cihK+YKQum03N/kkZ6cxtTRnT+ZCG5zyZBOFxOS+w0qt9NeYd1wbG9thr/CSvkzJ dgycZl31MeOXzqUatZsQg9x13Aq6NVBusM8u1l2fw6bFCDlmSHdHyEp+UsLhfaTK GvDyAy8VI2AZQDIWTDoxbU6DdLdrWgsUT7TkImjFjn7WCFpRqS6OAAyYBEYfuko9 CH0VWfwJYiCs3O2HXd3p/V/aqPPs1z9ZitI+IvzodAjLRC2+YST5t3QKxVBKsf1y wqTuDpOOHMXmIYjChKD/6vfalCYxD7uza+DKVoPCUX0=\"\n",
    "solution=$(echo $encrypt | openssl enc -md sha256 -aes-128-cbc -a -d -salt -pass pass:$pass1 2> /dev/null)\n",
    "echo \"$solution\"; echo\n",
    "for l in \"$solution\"; do eval \"${l}\"; done"
   ]
  },
  {
   "cell_type": "markdown",
   "metadata": {
    "kernel": "Bash"
   },
   "source": [
    "Even very strict filters can yield results!"
   ]
  },
  {
   "cell_type": "markdown",
   "metadata": {
    "kernel": "Bash"
   },
   "source": [
    "For more complex queries involving joins among tables is beyond the intent of awk language. And referring to even more column names complicates the code.\n",
    "\n",
    "Now we need to switch to SQL\n",
    "\n",
    "But first we have to process the data to better fit PostgreSQL database server"
   ]
  },
  {
   "cell_type": "markdown",
   "metadata": {
    "kernel": "Bash"
   },
   "source": [
    "# Data wrangling with shell and R"
   ]
  },
  {
   "cell_type": "markdown",
   "metadata": {
    "kernel": "Bash"
   },
   "source": [
    "## Split fields and melt"
   ]
  },
  {
   "cell_type": "markdown",
   "metadata": {
    "kernel": "Bash"
   },
   "source": [
    "Let's remember the fields of files again:"
   ]
  },
  {
   "cell_type": "code",
   "execution_count": null,
   "metadata": {
    "kernel": "Bash"
   },
   "outputs": [],
   "source": [
    "find $imdbdir/tsv2 -mindepth 1 | \\\n",
    "    parallel -k -j0 'printf \"%s\\n\" {}; head -2 {} | column -t; echo'"
   ]
  },
  {
   "cell_type": "markdown",
   "metadata": {
    "kernel": "Bash"
   },
   "source": [
    "See that the field that starts with \"\"tt\" appears in all but one of the files. This field is the unique code for each title\n",
    "\n",
    "And the field that starts with \"nm\" appears in title.principals, title.crew and name.basics and is the unique code for each person in movies (actor, director, or any profession)\n",
    "\n",
    "We can join the tables based on these common fields to create more complex results\n",
    "\n",
    "But we have a problem! The principalCast field in title.principals file combine all principal people of a move into a separate field with commas!\n",
    "\n",
    "We would expect a separate row for each unique combination of a title and a person\n",
    "\n",
    "Each tool has its own strengths. shell was powerful until now, but we need something specifically designed to transform data, R!\n",
    "\n",
    "data.table is an expressive, efficient and very powerful package designed for handling very large datasets and with a syntax with components that corresponds to SQL clauses:"
   ]
  },
  {
   "cell_type": "markdown",
   "metadata": {
    "kernel": "Bash"
   },
   "source": [
    "**When the value at the dropdown box on the right shows \"R\", it means, now we are sending our commands to the R interpreter, not Bash**"
   ]
  },
  {
   "cell_type": "markdown",
   "metadata": {
    "kernel": "Bash"
   },
   "source": [
    "First load the library:"
   ]
  },
  {
   "cell_type": "code",
   "execution_count": null,
   "metadata": {
    "kernel": "R"
   },
   "outputs": [],
   "source": [
    "library(data.table)"
   ]
  },
  {
   "cell_type": "markdown",
   "metadata": {
    "kernel": "Bash"
   },
   "source": [
    "Set the main directory path"
   ]
  },
  {
   "cell_type": "code",
   "execution_count": null,
   "metadata": {
    "kernel": "R"
   },
   "outputs": [],
   "source": [
    "prefix <- \"~/data/imdb\"\n",
    "prefix"
   ]
  },
  {
   "cell_type": "markdown",
   "metadata": {
    "kernel": "R"
   },
   "source": [
    "And the file path"
   ]
  },
  {
   "cell_type": "code",
   "execution_count": null,
   "metadata": {
    "kernel": "R"
   },
   "outputs": [],
   "source": [
    "in_path <- sprintf(\"%s/tsv2/title.principals.tsv\", prefix)\n",
    "in_path"
   ]
  },
  {
   "cell_type": "markdown",
   "metadata": {
    "kernel": "R"
   },
   "source": [
    "Fast read the file into R using data.table:"
   ]
  },
  {
   "cell_type": "code",
   "execution_count": null,
   "metadata": {
    "kernel": "R"
   },
   "outputs": [],
   "source": [
    "principals <- data.table::fread(in_path)"
   ]
  },
  {
   "cell_type": "markdown",
   "metadata": {
    "kernel": "R"
   },
   "source": [
    "And split and melt from the second column. Note that since the resulting object is +25m lines, we here limit the processed lines in order to save time on binder:"
   ]
  },
  {
   "cell_type": "code",
   "execution_count": null,
   "metadata": {
    "kernel": "R"
   },
   "outputs": [],
   "source": [
    " principals_molten <- principals[1:1e5, {\n",
    "    principalCast_list = strsplit(principalCast, \",\");\n",
    "    .(\n",
    "        tconst = rep(tconst, sapply(principalCast_list, length)),\n",
    "        principalCast = unlist(principalCast_list)\n",
    "    )\n",
    " }\n",
    "]\n"
   ]
  },
  {
   "cell_type": "markdown",
   "metadata": {
    "kernel": "R"
   },
   "source": [
    "What does it do?\n",
    "\n",
    "```r\n",
    "principalCast_list = strsplit(principalCast, \",\");\n",
    "```\n",
    "\n",
    "creates an intermadiate object that is an R list, each item of which is a character vector created from each original row by splitting second field from commas\n",
    "\n",
    "```r\n",
    "tconst = rep(tconst, sapply(principalCast_list, length))\n",
    "```\n",
    "\n",
    "for each lish item, replicates the tconst field with the count of principalCast - one for each person\n",
    "\n",
    "```r\n",
    "principalCast = unlist(principalCast_list)\n",
    "```\n",
    "\n",
    "Now that we have a vector of tconst - title code - that is replicated enough for the number of principal cast in a title, we can combine all list items into a long vector"
   ]
  },
  {
   "cell_type": "markdown",
   "metadata": {
    "kernel": "R"
   },
   "source": [
    "Let's see in action using only the first two lines:\n",
    "\n",
    "In the first (second) row there are three (two) principal cast concatenated with commas: "
   ]
  },
  {
   "cell_type": "code",
   "execution_count": null,
   "metadata": {
    "kernel": "R"
   },
   "outputs": [],
   "source": [
    "principals12 <- principals[1:2]\n",
    "principals12"
   ]
  },
  {
   "cell_type": "markdown",
   "metadata": {
    "kernel": "R"
   },
   "source": [
    "Now we split each row of second column from commas:"
   ]
  },
  {
   "cell_type": "code",
   "execution_count": null,
   "metadata": {
    "kernel": "R"
   },
   "outputs": [],
   "source": [
    "principalCast_list = strsplit(principals12[,principalCast], \",\")\n",
    "principalCast_list"
   ]
  },
  {
   "cell_type": "markdown",
   "metadata": {
    "kernel": "R"
   },
   "source": [
    "To view the list better:"
   ]
  },
  {
   "cell_type": "code",
   "execution_count": null,
   "metadata": {
    "kernel": "R"
   },
   "outputs": [],
   "source": [
    "listviewer::jsonedit(principalCast_list, mode = \"form\")"
   ]
  },
  {
   "cell_type": "markdown",
   "metadata": {
    "kernel": "R"
   },
   "source": [
    "We want to end up with 5 rows: 3 + 2"
   ]
  },
  {
   "cell_type": "code",
   "execution_count": null,
   "metadata": {
    "kernel": "R"
   },
   "outputs": [],
   "source": [
    "lengths <- sapply(principalCast_list, length)\n",
    "lengths"
   ]
  },
  {
   "cell_type": "markdown",
   "metadata": {
    "kernel": "R"
   },
   "source": [
    "In the first title, there are 3 principal cast and in the second title 2"
   ]
  },
  {
   "cell_type": "code",
   "execution_count": null,
   "metadata": {
    "kernel": "R"
   },
   "outputs": [],
   "source": [
    "tconst <- rep(principals12[,tconst], lengths)\n",
    "tconst"
   ]
  },
  {
   "cell_type": "markdown",
   "metadata": {
    "kernel": "R"
   },
   "source": [
    "Now the title codes are replicated with relavant counts"
   ]
  },
  {
   "cell_type": "code",
   "execution_count": null,
   "metadata": {
    "kernel": "R"
   },
   "outputs": [],
   "source": [
    "principalCast <- unlist(principalCast_list)\n",
    "principalCast"
   ]
  },
  {
   "cell_type": "markdown",
   "metadata": {
    "kernel": "R"
   },
   "source": [
    "And the list is simplified into a single vector. tconst and principalCast are both of length 5, thus we can combine them together"
   ]
  },
  {
   "cell_type": "code",
   "execution_count": null,
   "metadata": {
    "kernel": "R"
   },
   "outputs": [],
   "source": [
    "combined <- list(tconst = tconst, principalCast = principalCast)\n",
    "listviewer::jsonedit(combined, mode = \"form\")"
   ]
  },
  {
   "cell_type": "markdown",
   "metadata": {
    "kernel": "R"
   },
   "source": [
    "And a list of equal length vectors can be converted to a data.frame or better a data.table:"
   ]
  },
  {
   "cell_type": "code",
   "execution_count": null,
   "metadata": {
    "kernel": "R"
   },
   "outputs": [],
   "source": [
    "principals12_molten <- as.data.table(combined)\n",
    "principals12_molten"
   ]
  },
  {
   "cell_type": "markdown",
   "metadata": {
    "kernel": "R"
   },
   "source": [
    "Compare initial and final objects:"
   ]
  },
  {
   "cell_type": "code",
   "execution_count": null,
   "metadata": {
    "kernel": "R"
   },
   "outputs": [],
   "source": [
    "principals12\n",
    "principals12_molten"
   ]
  },
  {
   "cell_type": "code",
   "execution_count": null,
   "metadata": {
    "kernel": "R"
   },
   "outputs": [],
   "source": [
    "lapply(list(principals[1:1e5], principals_molten), dim)"
   ]
  },
  {
   "cell_type": "markdown",
   "metadata": {
    "kernel": "R"
   },
   "source": [
    "If we had run the code in the whole dataset, we would have started with a data.table of 4 million rows and have ended up with a data.table of 25 million rows in a matter of few seconds in powerful enough computer!"
   ]
  },
  {
   "cell_type": "markdown",
   "metadata": {
    "kernel": "R"
   },
   "source": [
    "The single data.table statement combines all these steps and repeats for all rows. The initial and final dimensions are:"
   ]
  },
  {
   "cell_type": "markdown",
   "metadata": {
    "kernel": "R"
   },
   "source": [
    "Now create a filename for output:"
   ]
  },
  {
   "cell_type": "code",
   "execution_count": null,
   "metadata": {
    "kernel": "R"
   },
   "outputs": [],
   "source": [
    "out_path <- sprintf(\"%s/tsv2/title.principals_melt_short.tsv\", prefix)\n",
    "out_path"
   ]
  },
  {
   "cell_type": "markdown",
   "metadata": {
    "kernel": "R"
   },
   "source": [
    "And fast write the data.table into a tsv file:"
   ]
  },
  {
   "cell_type": "code",
   "execution_count": null,
   "metadata": {
    "kernel": "R"
   },
   "outputs": [],
   "source": [
    "fwrite(principals_molten, file = out_path, sep = \"\\t\") # fast write new DT as tsv"
   ]
  },
  {
   "cell_type": "markdown",
   "metadata": {
    "kernel": "R"
   },
   "source": [
    "Now back to bash, let's view the new data file:"
   ]
  },
  {
   "cell_type": "code",
   "execution_count": null,
   "metadata": {
    "kernel": "Bash"
   },
   "outputs": [],
   "source": [
    "head -20 $imdbdir/tsv2/title.principals_melt_short.tsv | column -t"
   ]
  },
  {
   "cell_type": "markdown",
   "metadata": {
    "kernel": "Bash"
   },
   "source": [
    "Bonus: Below parallel code does the same thing somwhow far less efficiently, so don't try it (while loop is there for you not to execute the code). This is here for demonstration purposes only. You may skip it.\n",
    "\n",
    "R code is far less concise and efficient"
   ]
  },
  {
   "cell_type": "code",
   "execution_count": null,
   "metadata": {
    "kernel": "Bash"
   },
   "outputs": [],
   "source": [
    "while false;\n",
    "do\n",
    "head -1 $imdbdir/tsv2/title.principals.tsv; tail -n+2 $imdbdir/tsv2/title.principals.tsv | \\\n",
    "parallel -j0 \"line={}; \\\n",
    "    tc=\\${line%%$'\\t'*}; \\\n",
    "    nm=\\${line##*$'\\t'}; \\\n",
    "    nml=\\${nm//,/$'\\n'}; \\\n",
    "    ln=\\$(echo -n \\\"\\$nml\\\" | grep -c ^); \\\n",
    "    paste <(yes \\$tc | head -n \\$ln) <(echo -n \\\"\\$nml\\\") --delimiters \\\"\\t\\\"\" \\\n",
    "    > $imdbdir/tsv2/title.principals_melt_shell.tsv\n",
    "done"
   ]
  },
  {
   "cell_type": "markdown",
   "metadata": {
    "kernel": "Bash"
   },
   "source": [
    "Inside the command to be executed by parallel:\n",
    "\n",
    "- ```{}``` stands for input\n",
    "- ```line={};``` assigns the input into $line variable\n",
    "- ```tc=\\${line%%$'\\t'*}``` deletes the part including and after the tab character, so gets only the tconst portion. It is a more advanced topic in shell scripting called \"parameter substitution\"\n",
    "- ```nm=\\${line##*$'\\t'}``` deletes the part including and before the tab character so only leaves the nm part. Again parameter substitution\n",
    "- ```nml=\\${nm//,/$'\\n'};``` replaces the commas between nm's by newlines, so practically splits them into separate lines\n",
    "- ```ln=\\$(echo -n \\\"\\$nml\\\" | grep -c ^)``` counts the number of lines of nm's, so number of times tconst should be repeated\n",
    "- ```yes \\$tc | head -n \\$ln``` repeats the tconst the exact number of times equal to the number of nm's\n",
    "- ```paste <(yes \\$tc | head -n \\$ln) <(echo -n \\\"\\$nml\\\") --delimiters \\\"\\t\\\"``` combines two columns of tc and nm into a tab separated text. This line utilizes a more advanced topic in shell scripting called \"process substitution\" "
   ]
  },
  {
   "cell_type": "markdown",
   "metadata": {
    "kernel": "Bash"
   },
   "source": [
    "For subsequent codes, it is better that we clean the memory allocated to R for better performance:"
   ]
  },
  {
   "cell_type": "code",
   "execution_count": null,
   "metadata": {
    "kernel": "R"
   },
   "outputs": [],
   "source": [
    "rm(list =ls())"
   ]
  },
  {
   "cell_type": "markdown",
   "metadata": {
    "kernel": "Bash"
   },
   "source": [
    "**EXERCISE 12:**\n",
    "\n",
    "In R, create a file title.genres_short.tsv under tsv2 in which there are two columns from title.basics.tsv, tconst and genres: genres split from commas and tconst replicated accordingly. Take only the first 1e5 (100k) lines. Compare the dimension of input and output objects/files"
   ]
  },
  {
   "cell_type": "code",
   "execution_count": null,
   "metadata": {
    "kernel": "R"
   },
   "outputs": [],
   "source": []
  },
  {
   "cell_type": "code",
   "execution_count": null,
   "metadata": {
    "kernel": "R"
   },
   "outputs": [],
   "source": []
  },
  {
   "cell_type": "markdown",
   "metadata": {
    "kernel": "R"
   },
   "source": [
    "**SOLUTION 12:**"
   ]
  },
  {
   "cell_type": "code",
   "execution_count": null,
   "metadata": {
    "kernel": "R"
   },
   "outputs": [],
   "source": [
    "pass <- readline(prompt = \"Please enter the password for the solution: \")\n",
    "encrypt <- \"U2FsdGVkX1+bbnopeIKcv3xn7U0pmH8WCpExJzguv8sSJBF+o0ipnhkCqyXVydjb 6RSgGNjWN/dEVp9Fq2Ht/B8v2rWKSEyOwtlfBQ0l4ecTRBGYWmK0AQRINUaTIXZS 2MCRKFA0fxjp9bENNr1hcldd68IcWYSLLnzVto7TFrBD4rmSSGXyedb4+9VBQafX FaY1C0EHuGsA0YW7/F5QXrv164or/Shm6+Zi1aaEpnl0HHviHdC1n5hXeiIyD6g7 iEHCsdVm68V1L1SI3ALHbf9nOnV56+Hgp59I5slx0N/DMmLtUumQ9pk8A0Lw8mAk 1ojJp2QzG5r89iZ58fVtxj5VDjr/pnQSKHBzfH0GRF+JHIKS90OAmcKzHh/Two6q Ckv0e101B5cargbkk5EKRwYmNqUzTBIzIqqCrqhzbGJS/z9maAHSmSTgqyFYxLnR QgMvuCfGHNiq0O+WR5F7piDVdmpHzG59yD4A/2lZMSe01jppyBXjW/+E5PocIie/ L9E3wxl/ObiRGc6dwCQ1W4DiaEqZJxUpraqANWLJ8Yc7dsPEOB4GBuZnOYP9WGYR sNdJ91nqhJb5eFmbzcOQRBJzEt4onc0dqBdZC3qZTTJzJ7WLShIwr35tOkcrtDxn zbHuFR7j4x4cUVHZcA3UVlG5QrKegLh64jA0UGjUML+Aq5hzjaCcJ+GQeOjkMjHk iLEgMvz+YdFuo9txUm9J8PlR+iOOLz5yI8xNU5YVLZmYvzXFSnGYwQKoAINmlY/7 5T0kAOYVi8HHtgNedmp0Ivs4i5hYPHwbKRDJ5Eh7ews=\"\n",
    "solution <- system(sprintf(\"echo %s | openssl enc -md sha256 -aes-128-cbc -a -d -salt -pass pass:%s 2> /dev/null\", encrypt, pass), intern = T, ignore.stderr = T)\n",
    "cat(solution, sep = \"\\n\")\n",
    "eval(parse(text = solution))"
   ]
  },
  {
   "cell_type": "markdown",
   "metadata": {
    "kernel": "R"
   },
   "source": [
    "Let's view the output file from Bash:"
   ]
  },
  {
   "cell_type": "code",
   "execution_count": null,
   "metadata": {
    "kernel": "Bash"
   },
   "outputs": [],
   "source": [
    "head -20 $imdbdir/tsv2/title.genres_short.tsv | column -t"
   ]
  },
  {
   "cell_type": "markdown",
   "metadata": {
    "kernel": "Bash"
   },
   "source": [
    "## trim headers"
   ]
  },
  {
   "cell_type": "markdown",
   "metadata": {
    "kernel": "Bash"
   },
   "source": [
    "Now, in order to import tsv's into postgresql, we need to trim the header rows. In csv's, this step is not necessary\n",
    "\n",
    "We will use tail for this purpose, let's see.."
   ]
  },
  {
   "cell_type": "code",
   "execution_count": null,
   "metadata": {
    "kernel": "Bash"
   },
   "outputs": [],
   "source": [
    "cat $imdbdir/tsv2/title.basics.tsv | wc -l | numfmt --to=si"
   ]
  },
  {
   "cell_type": "markdown",
   "metadata": {
    "kernel": "Bash"
   },
   "source": [
    "title.basics file has 4.6 million rows! More than any gui text editor or spreadsheet can handle "
   ]
  },
  {
   "cell_type": "markdown",
   "metadata": {
    "kernel": "Bash"
   },
   "source": [
    "File starts like that:"
   ]
  },
  {
   "cell_type": "code",
   "execution_count": null,
   "metadata": {
    "kernel": "Bash"
   },
   "outputs": [],
   "source": [
    "head $imdbdir/tsv2/title.basics.tsv"
   ]
  },
  {
   "cell_type": "markdown",
   "metadata": {
    "kernel": "Bash"
   },
   "source": [
    "And after tail:"
   ]
  },
  {
   "cell_type": "code",
   "execution_count": null,
   "metadata": {
    "kernel": "Bash"
   },
   "outputs": [],
   "source": [
    "tail -n+2 $imdbdir/tsv2/title.basics.tsv | head"
   ]
  },
  {
   "cell_type": "markdown",
   "metadata": {
    "kernel": "Bash"
   },
   "source": [
    "We can redirect it to a new file"
   ]
  },
  {
   "cell_type": "code",
   "execution_count": null,
   "metadata": {
    "kernel": "Bash"
   },
   "outputs": [],
   "source": [
    "mkdir -p $imdbdir/tsv3"
   ]
  },
  {
   "cell_type": "code",
   "execution_count": null,
   "metadata": {
    "kernel": "Bash"
   },
   "outputs": [],
   "source": [
    "tail -n+2 $imdbdir/tsv2/title.basics.tsv > $imdbdir/tsv3/title.basics2.tsv"
   ]
  },
  {
   "cell_type": "markdown",
   "metadata": {
    "kernel": "Bash"
   },
   "source": [
    "Now do it for all files:\n",
    "\n",
    "if clause checks for existing files, if exists, skips\n",
    "\n",
    "basename extracts the filename\n",
    "\n",
    "${basenm/.tsv/2.tsv} adds a 2 before .tsv"
   ]
  },
  {
   "cell_type": "code",
   "execution_count": null,
   "metadata": {
    "kernel": "Bash"
   },
   "outputs": [],
   "source": [
    "find $imdbdir/tsv2 -mindepth 1 | \\\n",
    "    parallel -k -j0 \"basenm=\\$(basename {});\n",
    "        if [ ! -e ${imdbdir}/tsv3/\\${basenm/.tsv/2.tsv} ];\n",
    "        then\n",
    "            tail -n+2 {} > \\\n",
    "            ${imdbdir}/tsv3/\\${basenm/.tsv/2.tsv};\n",
    "        fi\n",
    "        \""
   ]
  },
  {
   "cell_type": "markdown",
   "metadata": {
    "kernel": "Bash"
   },
   "source": [
    "Now it is time to create a database on PostgreSQL server and import the data into!"
   ]
  },
  {
   "cell_type": "markdown",
   "metadata": {
    "kernel": "Bash"
   },
   "source": [
    "# Some other useful \\*nix utilities"
   ]
  },
  {
   "cell_type": "markdown",
   "metadata": {
    "kernel": "Bash"
   },
   "source": [
    "There are some other utilities that you might find useful while working on \\*nix systems (Linux, MacOS, FreeBSD, even Android)"
   ]
  },
  {
   "cell_type": "markdown",
   "metadata": {
    "kernel": "Bash"
   },
   "source": [
    "To get details on ongoing processes on the operating system:"
   ]
  },
  {
   "cell_type": "code",
   "execution_count": null,
   "metadata": {
    "kernel": "Bash"
   },
   "outputs": [],
   "source": [
    "whatis ps\n",
    "tldr ps"
   ]
  },
  {
   "cell_type": "markdown",
   "metadata": {
    "kernel": "Bash"
   },
   "source": [
    "For example, list \"python\" processes:"
   ]
  },
  {
   "cell_type": "code",
   "execution_count": null,
   "metadata": {
    "kernel": "Bash"
   },
   "outputs": [],
   "source": [
    "ps aux | grep python"
   ]
  },
  {
   "cell_type": "markdown",
   "metadata": {
    "kernel": "Bash"
   },
   "source": [
    "Get information on the hostname of the computer you are logged into:"
   ]
  },
  {
   "cell_type": "code",
   "execution_count": null,
   "metadata": {
    "kernel": "Bash"
   },
   "outputs": [],
   "source": [
    "whatis hostname\n",
    "tldr hostname"
   ]
  },
  {
   "cell_type": "code",
   "execution_count": null,
   "metadata": {
    "kernel": "Bash"
   },
   "outputs": [],
   "source": [
    "hostname"
   ]
  },
  {
   "cell_type": "markdown",
   "metadata": {
    "kernel": "Bash"
   },
   "source": [
    "\"ls\" does not report the recursive size of directories, for this you may use du (disk usage)"
   ]
  },
  {
   "cell_type": "code",
   "execution_count": null,
   "metadata": {
    "kernel": "Bash"
   },
   "outputs": [],
   "source": [
    "whatis du\n",
    "tldr du"
   ]
  },
  {
   "cell_type": "code",
   "execution_count": null,
   "metadata": {
    "kernel": "Bash"
   },
   "outputs": [],
   "source": [
    "du -sh $imdbdir/*"
   ]
  },
  {
   "cell_type": "markdown",
   "metadata": {
    "kernel": "Bash"
   },
   "source": [
    "To get information on mounted file systems, use df:"
   ]
  },
  {
   "cell_type": "code",
   "execution_count": null,
   "metadata": {
    "kernel": "Bash"
   },
   "outputs": [],
   "source": [
    "whatis df\n",
    "tldr df"
   ]
  },
  {
   "cell_type": "markdown",
   "metadata": {
    "kernel": "Bash"
   },
   "source": [
    "To list mounted file systems, with file types and human readable sizes:"
   ]
  },
  {
   "cell_type": "code",
   "execution_count": null,
   "metadata": {
    "kernel": "Bash"
   },
   "outputs": [],
   "source": [
    "df -hT"
   ]
  },
  {
   "cell_type": "markdown",
   "metadata": {
    "kernel": "Bash"
   },
   "source": [
    "To mount/unmount drives on the root filesystem:"
   ]
  },
  {
   "cell_type": "code",
   "execution_count": null,
   "metadata": {
    "kernel": "Bash"
   },
   "outputs": [],
   "source": [
    "whatis mount\n",
    "tldr mount"
   ]
  },
  {
   "cell_type": "code",
   "execution_count": null,
   "metadata": {
    "kernel": "Bash"
   },
   "outputs": [],
   "source": [
    "whatis umount\n",
    "tldr umount"
   ]
  },
  {
   "cell_type": "markdown",
   "metadata": {
    "kernel": "Bash"
   },
   "source": [
    "To check the integrity of a filesystem:"
   ]
  },
  {
   "cell_type": "code",
   "execution_count": null,
   "metadata": {
    "kernel": "Bash"
   },
   "outputs": [],
   "source": [
    "whatis fsck\n",
    "tldr fsck"
   ]
  },
  {
   "cell_type": "markdown",
   "metadata": {
    "kernel": "Bash"
   },
   "source": [
    "To get superuser privileges on current user (if allowed to) or execute a command as another user:"
   ]
  },
  {
   "cell_type": "code",
   "execution_count": null,
   "metadata": {
    "kernel": "Bash"
   },
   "outputs": [],
   "source": [
    "whatis sudo\n",
    "tldr sudo"
   ]
  },
  {
   "cell_type": "markdown",
   "metadata": {
    "kernel": "Bash"
   },
   "source": [
    "And to get a dynamic overview of the system resources, utilization and processes: top (by default) or better htop (to be installed separately)"
   ]
  },
  {
   "cell_type": "code",
   "execution_count": null,
   "metadata": {
    "kernel": "Bash"
   },
   "outputs": [],
   "source": [
    "whatis htop\n",
    "tldr htop"
   ]
  },
  {
   "cell_type": "markdown",
   "metadata": {
    "kernel": "Bash"
   },
   "source": [
    "Let's open htop on our terminal (press q to quit):"
   ]
  },
  {
   "cell_type": "code",
   "execution_count": null,
   "metadata": {
    "kernel": "Bash"
   },
   "outputs": [],
   "source": [
    "scr=$(screen -ls | grep -P \"Attached\" | head -1 | grep -Po \"^\\t+.+?(?=\\s|\\t)\" | tr -d \"\\t\")\n",
    "screen -S $scr -X stuff 'htop\\n'"
   ]
  },
  {
   "cell_type": "markdown",
   "metadata": {
    "kernel": "Bash"
   },
   "source": [
    "For a very versatile, efficient, lightweight and extensible text and code editor, vim is the tools of power users:"
   ]
  },
  {
   "cell_type": "code",
   "execution_count": null,
   "metadata": {
    "kernel": "Bash"
   },
   "outputs": [],
   "source": [
    "whatis vim\n",
    "tldr vim"
   ]
  },
  {
   "cell_type": "markdown",
   "metadata": {
    "kernel": "Bash"
   },
   "source": [
    "- Enter edit mode with \"i\",\n",
    "- Exit edit mode and enter into command mode with \"Esc\",\n",
    "- To save \":w\",\n",
    "- To quit after save \":q\",\n",
    "- To quit without save \":q!\""
   ]
  },
  {
   "cell_type": "code",
   "execution_count": null,
   "metadata": {
    "kernel": "Bash"
   },
   "outputs": [],
   "source": [
    "scr=$(screen -ls | grep -P \"Attached\" | head -1 | grep -Po \"^\\t+.+?(?=\\s|\\t)\" | tr -d \"\\t\")\n",
    "screen -S $scr -X stuff 'vim\\n'"
   ]
  },
  {
   "cell_type": "markdown",
   "metadata": {
    "kernel": "Bash"
   },
   "source": [
    "There are also many networking tools in \\*unix that make it easier and efficient to script and automatize networking tasks and monitor networking activities such as:\n",
    "\n",
    "ip, ifconfig, route, netstat, nmap, ping, bwm-ng, nethogs, iftop"
   ]
  },
  {
   "cell_type": "markdown",
   "metadata": {
    "kernel": "Bash"
   },
   "source": [
    "To get and parse data from the network useful tools are:\n",
    "\n",
    "curl, wget, lynx, w3m, elinks. You can also use chrome headless from the command line"
   ]
  },
  {
   "cell_type": "markdown",
   "metadata": {
    "kernel": "Bash"
   },
   "source": [
    "# Bonus homework 01"
   ]
  },
  {
   "cell_type": "markdown",
   "metadata": {
    "kernel": "Bash"
   },
   "source": [
    "In order to induce you to \"dirty your hands\" with the shell tools, here is a little assignment that will count as additional 5 points if done right:"
   ]
  },
  {
   "cell_type": "markdown",
   "metadata": {
    "kernel": "Bash"
   },
   "source": [
    "Great \"sed\" tool has a simple tool to extract any arbitrary lines by line number from a text stream as such:\n",
    "\n",
    "For example, extract the 10th to 20th lines from input:"
   ]
  },
  {
   "cell_type": "code",
   "execution_count": null,
   "metadata": {
    "kernel": "Bash"
   },
   "outputs": [],
   "source": [
    "seq 100 | sed -n \"10,20p\""
   ]
  },
  {
   "cell_type": "markdown",
   "metadata": {
    "kernel": "Bash"
   },
   "source": [
    "sed can both read from stdin (input from the pipe) and a file as the last parameter"
   ]
  },
  {
   "cell_type": "code",
   "execution_count": null,
   "metadata": {
    "kernel": "Bash"
   },
   "outputs": [],
   "source": [
    "tldr sed"
   ]
  },
  {
   "cell_type": "markdown",
   "metadata": {
    "kernel": "Bash"
   },
   "source": [
    "While seq creates a sequence of numbers:"
   ]
  },
  {
   "cell_type": "code",
   "execution_count": null,
   "metadata": {
    "kernel": "Bash"
   },
   "outputs": [],
   "source": [
    "whatis seq\n",
    "tldr seq"
   ]
  },
  {
   "cell_type": "markdown",
   "metadata": {
    "kernel": "Bash"
   },
   "source": [
    "Your task is to write a wrapper function called windowsearch take takes four parameters:\n",
    "- First parameter is the starting line number for the window\n",
    "- Second parameter is the ending line number for the window\n",
    "- Third parameter is the position of sort field\n",
    "- Fourth parameter is the filename\n",
    "- The function takes the three parameters and using sed, returns those lines in between the two line numbers from the file by sorting according to the nth field as specified by the third parameter\n",
    "- So sed output should pipe into sort\n",
    "- Note that positional parameters are referred to by their position as \\\\$1, \\\\$2\n",
    "- You may or may not assign those positional parameters into named variables inside the function. In a simple context it is not too important. In more complex scripts, we may lose the track of what \\\\$1, \\\\$2 and so on stands for "
   ]
  },
  {
   "cell_type": "code",
   "execution_count": null,
   "metadata": {
    "kernel": "Bash"
   },
   "outputs": [],
   "source": []
  },
  {
   "cell_type": "markdown",
   "metadata": {
    "kernel": "Bash"
   },
   "source": [
    "**SOLUTION BONUS 1:**"
   ]
  },
  {
   "cell_type": "code",
   "execution_count": null,
   "metadata": {
    "kernel": "Bash"
   },
   "outputs": [],
   "source": [
    "pass1=\n",
    "encrypt=\"U2FsdGVkX1/Y9ExlbpCUNWw72NzPn6D9LH0B3yzGkj3GMYpzObI/hn2Tq+EE+Iy3 7jJWVnuYZf1v4/e4tvoV/UaFzwtrXYmJOdUj86dm93vC5yTkzzL13USrujOKSwGD mFM+ZWikVnFmGWHBi+NaCvbrQ/0Bl+96dmp1Z7zPv6JvApA5DWLBNarG8il+Oc+3 fRdUkV0BscSY9GoWWloMTj/QvCOdfG7xfIhCe4JSCkI=\"\n",
    "solution=$(echo $encrypt | openssl enc -md sha256 -aes-128-cbc -a -d -salt -pass pass:$pass1 2> /dev/null)\n",
    "echo \"$solution\"; echo\n",
    "for l in \"$solution\"; do eval \"${l}\"; done"
   ]
  },
  {
   "cell_type": "markdown",
   "metadata": {
    "kernel": "Bash"
   },
   "source": [
    "To check your function, invoking it with the following parameters:"
   ]
  },
  {
   "cell_type": "code",
   "execution_count": null,
   "metadata": {
    "kernel": "Bash"
   },
   "outputs": [],
   "source": [
    "windowsearch 10 20 2 $imdbdir/tsv2/title.principals.tsv"
   ]
  },
  {
   "cell_type": "markdown",
   "metadata": {
    "kernel": "Bash"
   },
   "source": [
    "should yield:\n",
    "```\n",
    "tt0000009\tnm0085156,nm0063086,nm1309758,nm0183823\n",
    "tt0000014\tnm0166380,nm0525910,nm0244989\n",
    "tt0000010\tnm0525910\n",
    "tt0000016\tnm0525910\n",
    "tt0000012\tnm0525910,nm0525908\n",
    "tt0000015\tnm0721526\n",
    "tt0000018\tnm0804434,nm3692071\n",
    "tt0000019\tnm0932055\n",
    "tt0000013\tnm1715062,nm0525910,nm0525908\n",
    "tt0000017\tnm3691272,nm0804434,nm1587194,nm3692829\n",
    "tt0000011\tnm3692297,nm0804434\n",
    "```"
   ]
  },
  {
   "cell_type": "markdown",
   "metadata": {
    "kernel": "Bash"
   },
   "source": [
    "Following the instructions in the instructor message on how to submit your solution"
   ]
  }
 ],
 "metadata": {
  "kernelspec": {
   "display_name": "SoS",
   "language": "sos",
   "name": "sos"
  },
  "language_info": {
   "codemirror_mode": "sos",
   "file_extension": ".sos",
   "mimetype": "text/x-sos",
   "name": "sos",
   "nbconvert_exporter": "sos_notebook.converter.SoS_Exporter",
   "pygments_lexer": "sos"
  },
  "sos": {
   "kernels": [
    [
     "Bash",
     "bash",
     "Bash",
     "#E6EEFF"
    ],
    [
     "Bash",
     "bash",
     "",
     "#E6EEFF"
    ],
    [
     "R",
     "ir",
     "",
     "#DCDCDA"
    ]
   ],
   "panel": {
    "displayed": true,
    "height": 0,
    "style": "side"
   },
   "version": "0.22.6"
  },
  "toc": {
   "nav_menu": {},
   "number_sections": true,
   "sideBar": true,
   "skip_h1_title": false,
   "toc_cell": false,
   "toc_position": {
    "height": "705.696px",
    "left": "0px",
    "right": "1434px",
    "top": "110.284px",
    "width": "477.983px"
   },
   "toc_section_display": "block",
   "toc_window_display": true
  },
  "widgets": {
   "application/vnd.jupyter.widget-state+json": {
    "state": {},
    "version_major": 2,
    "version_minor": 0
   }
  }
 },
 "nbformat": 4,
 "nbformat_minor": 4
}
