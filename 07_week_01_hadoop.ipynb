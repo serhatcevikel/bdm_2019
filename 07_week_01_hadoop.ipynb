{
 "cells": [
  {
   "cell_type": "markdown",
   "metadata": {},
   "source": [
    "# HADOOP ECOSYSTEM CONTINUED"
   ]
  },
  {
   "cell_type": "markdown",
   "metadata": {},
   "source": [
    "First, let's start the daemons again:\n",
    "\n",
    "First ssh:"
   ]
  },
  {
   "cell_type": "code",
   "execution_count": null,
   "metadata": {},
   "outputs": [],
   "source": [
    "sudo service ssh stop\n",
    "sudo service ssh start"
   ]
  },
  {
   "cell_type": "code",
   "execution_count": null,
   "metadata": {},
   "outputs": [],
   "source": [
    "service ssh status"
   ]
  },
  {
   "cell_type": "markdown",
   "metadata": {},
   "source": [
    "And then hdfs:"
   ]
  },
  {
   "cell_type": "code",
   "execution_count": null,
   "metadata": {},
   "outputs": [],
   "source": [
    "start-dfs.sh 2> /dev/null"
   ]
  },
  {
   "cell_type": "markdown",
   "metadata": {},
   "source": [
    "And yarn:"
   ]
  },
  {
   "cell_type": "code",
   "execution_count": null,
   "metadata": {},
   "outputs": [],
   "source": [
    "start-yarn.sh 2> /dev/null"
   ]
  },
  {
   "cell_type": "markdown",
   "metadata": {},
   "source": [
    "And the job history server (so that PIG does not complain that the server does not respond):"
   ]
  },
  {
   "cell_type": "code",
   "execution_count": null,
   "metadata": {},
   "outputs": [],
   "source": [
    "mr-jobhistory-daemon.sh --config $HADOOP_CONF_DIR start historyserver 2> /dev/null"
   ]
  },
  {
   "cell_type": "markdown",
   "metadata": {},
   "source": [
    "Check whether hdfs and yarn daemons are running:"
   ]
  },
  {
   "cell_type": "code",
   "execution_count": null,
   "metadata": {},
   "outputs": [],
   "source": [
    "jps"
   ]
  },
  {
   "cell_type": "markdown",
   "metadata": {},
   "source": [
    "Check the status of hdfs:"
   ]
  },
  {
   "cell_type": "code",
   "execution_count": null,
   "metadata": {},
   "outputs": [],
   "source": [
    "hdfs dfsadmin -report 2> /dev/null"
   ]
  },
  {
   "cell_type": "markdown",
   "metadata": {},
   "source": [
    "And if hdfs is in safemode, stop safemode:"
   ]
  },
  {
   "cell_type": "code",
   "execution_count": null,
   "metadata": {},
   "outputs": [],
   "source": [
    "hdfs dfsadmin -safemode leave 2> /dev/null"
   ]
  },
  {
   "cell_type": "markdown",
   "metadata": {},
   "source": [
    "And start postgresql:"
   ]
  },
  {
   "cell_type": "code",
   "execution_count": null,
   "metadata": {},
   "outputs": [],
   "source": [
    "sudo service postgresql start"
   ]
  },
  {
   "cell_type": "code",
   "execution_count": null,
   "metadata": {},
   "outputs": [],
   "source": [
    "psql -U postgres -d imdb2 -c \"\\dt+\""
   ]
  },
  {
   "cell_type": "markdown",
   "metadata": {},
   "source": [
    "## HIVE"
   ]
  },
  {
   "cell_type": "markdown",
   "metadata": {},
   "source": [
    "Hive is a data warehouse system and MapReduce wrapper that presents an SQL interface. So SQL programmers feel at home through Hive in the Hadoop Ecosystem, without writing MapReduce jobs explicitly"
   ]
  },
  {
   "cell_type": "markdown",
   "metadata": {},
   "source": [
    "First start the metastore, the central repository to store metadata for hive tables:\n",
    "\n",
    "You should rerun this if the hive or pig commands return an error saying that \"thrift server does not respond\""
   ]
  },
  {
   "cell_type": "code",
   "execution_count": null,
   "metadata": {},
   "outputs": [],
   "source": [
    "hive --service metastore &"
   ]
  },
  {
   "cell_type": "markdown",
   "metadata": {},
   "source": [
    "And check whether the service is listening on its port:"
   ]
  },
  {
   "cell_type": "code",
   "execution_count": null,
   "metadata": {},
   "outputs": [],
   "source": [
    "netstat -an | grep 9083"
   ]
  },
  {
   "cell_type": "markdown",
   "metadata": {},
   "source": [
    "### IMPORT DATA WITH SQOOP"
   ]
  },
  {
   "cell_type": "markdown",
   "metadata": {},
   "source": [
    "Sqoop can import the data as Hive tables with \"--hive-import --create-hive-table\" flags"
   ]
  },
  {
   "cell_type": "markdown",
   "metadata": {},
   "source": [
    "First flush the directory for default import location:"
   ]
  },
  {
   "cell_type": "code",
   "execution_count": null,
   "metadata": {},
   "outputs": [],
   "source": [
    "hdfs dfs -rm -r /user/jovyan/title_ratings/ 2> /dev/null"
   ]
  },
  {
   "cell_type": "code",
   "execution_count": null,
   "metadata": {},
   "outputs": [],
   "source": [
    "sqoop import \\\n",
    "--connect jdbc:postgresql://localhost:5432/imdb2 \\\n",
    "--username postgres \\\n",
    "--table title_ratings \\\n",
    "--hive-import --create-hive-table --direct \\\n",
    "2> /dev/null"
   ]
  },
  {
   "cell_type": "markdown",
   "metadata": {},
   "source": [
    "And view the imported file:"
   ]
  },
  {
   "cell_type": "code",
   "execution_count": null,
   "metadata": {},
   "outputs": [],
   "source": [
    "hdfs dfs -find / -name \"title*ratings\" 2> /dev/null"
   ]
  },
  {
   "cell_type": "code",
   "execution_count": null,
   "metadata": {},
   "outputs": [],
   "source": [
    "hdfs dfs -ls /user/hive/warehouse/ 2> /dev/null"
   ]
  },
  {
   "cell_type": "markdown",
   "metadata": {},
   "source": [
    "And let's check from hive whether files are imported:"
   ]
  },
  {
   "cell_type": "code",
   "execution_count": null,
   "metadata": {},
   "outputs": [],
   "source": [
    "hive -e 'show tables' 2> /dev/null"
   ]
  },
  {
   "cell_type": "markdown",
   "metadata": {},
   "source": [
    "Let's try to read the file:"
   ]
  },
  {
   "cell_type": "code",
   "execution_count": null,
   "metadata": {},
   "outputs": [],
   "source": [
    "hdfs dfs -cat /user/hive/warehouse/title_ratings/* 2> /dev/null | head"
   ]
  },
  {
   "cell_type": "markdown",
   "metadata": {},
   "source": [
    "If we want to delete the table, we do it from the hive command, not by manually deleting the file:"
   ]
  },
  {
   "cell_type": "code",
   "execution_count": null,
   "metadata": {},
   "outputs": [],
   "source": [
    "hive -e 'drop table title_ratings' 2> /dev/null"
   ]
  },
  {
   "cell_type": "markdown",
   "metadata": {},
   "source": [
    "And cheeck again whether the table is delted:"
   ]
  },
  {
   "cell_type": "code",
   "execution_count": null,
   "metadata": {},
   "outputs": [],
   "source": [
    "hive -e 'show tables' 2> /dev/null"
   ]
  },
  {
   "cell_type": "code",
   "execution_count": null,
   "metadata": {},
   "outputs": [],
   "source": [
    "hdfs dfs -ls /user/hive/warehouse/ 2> /dev/null"
   ]
  },
  {
   "cell_type": "markdown",
   "metadata": {},
   "source": [
    "Let's import title_ratings again for further commands:"
   ]
  },
  {
   "cell_type": "code",
   "execution_count": null,
   "metadata": {},
   "outputs": [],
   "source": [
    "hdfs dfs -rm -r /user/jovyan/title_ratings/ 2> /dev/null"
   ]
  },
  {
   "cell_type": "code",
   "execution_count": null,
   "metadata": {},
   "outputs": [],
   "source": [
    "sqoop import \\\n",
    "--connect jdbc:postgresql://localhost:5432/imdb2 \\\n",
    "--username postgres \\\n",
    "--table title_ratings \\\n",
    "--hive-import --create-hive-table --direct \\\n",
    "2> /dev/null"
   ]
  },
  {
   "cell_type": "markdown",
   "metadata": {},
   "source": [
    "And check again:"
   ]
  },
  {
   "cell_type": "code",
   "execution_count": null,
   "metadata": {},
   "outputs": [],
   "source": [
    "hive -e 'show tables' 2> /dev/null"
   ]
  },
  {
   "cell_type": "markdown",
   "metadata": {},
   "source": [
    "### A SQOOP TO HIVE IMPORT EXERCISE"
   ]
  },
  {
   "cell_type": "markdown",
   "metadata": {},
   "source": [
    "Now you'll import a postgresql database into hdfs as text files and hive tables"
   ]
  },
  {
   "cell_type": "markdown",
   "metadata": {},
   "source": [
    "Now you'll \n",
    "- first import a publicly available sql dump into postgresql\n",
    "- Then import the postgresql database into hdfs as text files and hive tables"
   ]
  },
  {
   "cell_type": "markdown",
   "metadata": {},
   "source": [
    "The database is \"World\", containing list of cities, countries and languages. The link is\n",
    "\n",
    "https://ftp.postgresql.org/pub/projects/pgFoundry/dbsamples/world/world-1.0/world-1.0.tar.gz"
   ]
  },
  {
   "cell_type": "markdown",
   "metadata": {},
   "source": [
    "There are other sample databases following the links:\n",
    "\n",
    "http://pgfoundry.org/projects/dbsamples\n",
    "\n",
    "https://wiki.postgresql.org/wiki/Sample_Databases"
   ]
  },
  {
   "cell_type": "markdown",
   "metadata": {},
   "source": [
    "First download the file"
   ]
  },
  {
   "cell_type": "code",
   "execution_count": null,
   "metadata": {},
   "outputs": [],
   "source": [
    "wget https://ftp.postgresql.org/pub/projects/pgFoundry/dbsamples/world/world-1.0/world-1.0.tar.gz"
   ]
  },
  {
   "cell_type": "markdown",
   "metadata": {},
   "source": [
    "And extract the archive:"
   ]
  },
  {
   "cell_type": "code",
   "execution_count": null,
   "metadata": {},
   "outputs": [],
   "source": [
    "tar -xzvf world-1.0.tar.gz"
   ]
  },
  {
   "cell_type": "markdown",
   "metadata": {},
   "source": [
    "Create a new database at postgresql:"
   ]
  },
  {
   "cell_type": "code",
   "execution_count": null,
   "metadata": {},
   "outputs": [],
   "source": [
    "createdb -U postgres world2"
   ]
  },
  {
   "cell_type": "markdown",
   "metadata": {},
   "source": [
    "And import the dump into the database:"
   ]
  },
  {
   "cell_type": "code",
   "execution_count": null,
   "metadata": {},
   "outputs": [],
   "source": [
    "psql -U postgres world2 < dbsamples-0.1/world/world.sql"
   ]
  },
  {
   "cell_type": "markdown",
   "metadata": {},
   "source": [
    "View the tables:"
   ]
  },
  {
   "cell_type": "code",
   "execution_count": null,
   "metadata": {},
   "outputs": [],
   "source": [
    "psql -U postgres -d world2 -c \"\\dt\""
   ]
  },
  {
   "cell_type": "markdown",
   "metadata": {},
   "source": [
    "If you've missed the steps, no worry. There is already a copy of the database named **world** in postgresql. We can query it"
   ]
  },
  {
   "cell_type": "markdown",
   "metadata": {},
   "source": [
    "View the tables:"
   ]
  },
  {
   "cell_type": "code",
   "execution_count": null,
   "metadata": {},
   "outputs": [],
   "source": [
    "psql -U postgres -d world -c \"\\dt\""
   ]
  },
  {
   "cell_type": "markdown",
   "metadata": {},
   "source": [
    "And view the fields of the tables:"
   ]
  },
  {
   "cell_type": "code",
   "execution_count": null,
   "metadata": {},
   "outputs": [],
   "source": [
    "psql -U postgres -d world -c \"\\d+ public.*\""
   ]
  },
  {
   "cell_type": "markdown",
   "metadata": {},
   "source": [
    "And view some of the rows of the tables:"
   ]
  },
  {
   "cell_type": "code",
   "execution_count": null,
   "metadata": {},
   "outputs": [],
   "source": [
    "psql -U postgres -d world -c \"select * from city limit 10\""
   ]
  },
  {
   "cell_type": "code",
   "execution_count": null,
   "metadata": {},
   "outputs": [],
   "source": [
    "psql -U postgres -d world -c \"select * from country limit 10\""
   ]
  },
  {
   "cell_type": "code",
   "execution_count": null,
   "metadata": {},
   "outputs": [],
   "source": [
    "psql -U postgres -d world -c \"select * from countrylanguage limit 10\""
   ]
  },
  {
   "cell_type": "markdown",
   "metadata": {},
   "source": [
    "We may also view its entity relationship diagram:"
   ]
  },
  {
   "cell_type": "markdown",
   "metadata": {},
   "source": [
    "![aa](world_erd.png)"
   ]
  },
  {
   "cell_type": "markdown",
   "metadata": {},
   "source": [
    "And let's import into hive:"
   ]
  },
  {
   "cell_type": "markdown",
   "metadata": {},
   "source": [
    "First get the list of tables:"
   ]
  },
  {
   "cell_type": "code",
   "execution_count": null,
   "metadata": {},
   "outputs": [],
   "source": [
    "tables=$(psql -U postgres -d world -t --pset=\"border=0\" -c \"\\dt\" | \\\n",
    "awk -F \" \" '{ print $2 }')"
   ]
  },
  {
   "cell_type": "code",
   "execution_count": null,
   "metadata": {},
   "outputs": [],
   "source": [
    "echo \"$tables\""
   ]
  },
  {
   "cell_type": "markdown",
   "metadata": {},
   "source": [
    "Create a hive database to import into:"
   ]
  },
  {
   "cell_type": "code",
   "execution_count": null,
   "metadata": {},
   "outputs": [],
   "source": [
    "hive -e \"create database world\" 2> /dev/null"
   ]
  },
  {
   "cell_type": "markdown",
   "metadata": {},
   "source": [
    "And import each table in the postgresql database into hive database:"
   ]
  },
  {
   "cell_type": "code",
   "execution_count": null,
   "metadata": {},
   "outputs": [],
   "source": [
    "echo \"$tables\" | while read l;\n",
    "do\n",
    "    sqoop import \\\n",
    "    --connect jdbc:postgresql://localhost:5432/world \\\n",
    "    --username postgres \\\n",
    "    --table $l \\\n",
    "    --hive-import \\\n",
    "    --create-hive-table \\\n",
    "    --hive-table world.$l \\\n",
    "    --direct \\\n",
    "    2> /dev/null\n",
    "done"
   ]
  },
  {
   "cell_type": "markdown",
   "metadata": {},
   "source": [
    "### HIVE OPERATIONS"
   ]
  },
  {
   "cell_type": "markdown",
   "metadata": {},
   "source": [
    "First show tables:"
   ]
  },
  {
   "cell_type": "code",
   "execution_count": null,
   "metadata": {},
   "outputs": [],
   "source": [
    "hive -e \"show tables\" 2> /dev/null"
   ]
  },
  {
   "cell_type": "markdown",
   "metadata": {},
   "source": [
    "Show tables in world database:"
   ]
  },
  {
   "cell_type": "code",
   "execution_count": null,
   "metadata": {},
   "outputs": [],
   "source": [
    "hive -e \"show tables in world\" 2> /dev/null"
   ]
  },
  {
   "cell_type": "markdown",
   "metadata": {},
   "source": [
    "Then let's create a database from hive:"
   ]
  },
  {
   "cell_type": "code",
   "execution_count": null,
   "metadata": {},
   "outputs": [],
   "source": [
    "hive -e \"create database deneme\" 2> /dev/null"
   ]
  },
  {
   "cell_type": "markdown",
   "metadata": {},
   "source": [
    "List the databases:"
   ]
  },
  {
   "cell_type": "code",
   "execution_count": null,
   "metadata": {},
   "outputs": [],
   "source": [
    "hive -e \"show databases\" 2> /dev/null"
   ]
  },
  {
   "cell_type": "markdown",
   "metadata": {},
   "source": [
    "Delete deneme database:"
   ]
  },
  {
   "cell_type": "code",
   "execution_count": null,
   "metadata": {},
   "outputs": [],
   "source": [
    "hive -e \"drop database deneme\" 2> /dev/null"
   ]
  },
  {
   "cell_type": "markdown",
   "metadata": {},
   "source": [
    "And let's run a simple query inside a hive database:"
   ]
  },
  {
   "cell_type": "code",
   "execution_count": null,
   "metadata": {},
   "outputs": [],
   "source": [
    "hive -e \"select * from title_ratings limit 1;\"  2> /dev/null"
   ]
  },
  {
   "cell_type": "markdown",
   "metadata": {},
   "source": [
    "Now that we have a hive database on hdfs, similar to our postgresql database, we can run similar queries"
   ]
  },
  {
   "cell_type": "markdown",
   "metadata": {},
   "source": [
    "In fact, under the hood, Hive converts the HiveQL query to a series of map reduce jobs\n",
    "\n",
    "The plan of the conversion can be viewed by prefixing the statement with \"explain\""
   ]
  },
  {
   "cell_type": "code",
   "execution_count": null,
   "metadata": {},
   "outputs": [],
   "source": [
    "hive -e \"explain\n",
    "select * from title_ratings limit 1;\" \\\n",
    "2> /dev/null"
   ]
  },
  {
   "cell_type": "markdown",
   "metadata": {},
   "source": [
    "Hive is suitable for simpler queries. However as the queries get more complex and need a clearer definition of the dataflow, we should revert to a tool such as Pig"
   ]
  },
  {
   "cell_type": "markdown",
   "metadata": {},
   "source": [
    "**Exercise 1:**"
   ]
  },
  {
   "cell_type": "markdown",
   "metadata": {},
   "source": [
    "Please:\n",
    "- Create an imdb database in hive\n",
    "- Import the first 10.000 rows of title_episode table from imdb2 database on postgresql into imdb database in hive\n",
    "- Check the the table is imported\n",
    "\n",
    "Note that:\n",
    "- You should use the **--query** argument with the sqoop (check Session 6 notebook)\n",
    "- When you use **--query**, you cannot use **--table** argument at the same time\n",
    "- When you use **--query**, you also have to specify a temporary import directory with the **--target-dir** option (it should be a non-existent directory)\n",
    "- You should add \"WHERE \\\\\\\\$CONDITIONS\" to your query in sqoop"
   ]
  },
  {
   "cell_type": "code",
   "execution_count": null,
   "metadata": {},
   "outputs": [],
   "source": []
  },
  {
   "cell_type": "code",
   "execution_count": null,
   "metadata": {},
   "outputs": [],
   "source": [
    "pass1=\n",
    "solution=$(cat ~/crypt/sqoop_to_hive.crypt | openssl enc -md sha256 -aes-128-cbc -a -d -salt -pass pass:$pass1 2> /dev/null)\n",
    "echo \"$solution\"; echo\n",
    "for l in \"$solution\"; do eval \"${l}\"; done"
   ]
  },
  {
   "cell_type": "markdown",
   "metadata": {},
   "source": [
    "### A HIVE EXERCISE WITH WORLD DATABASE"
   ]
  },
  {
   "cell_type": "markdown",
   "metadata": {},
   "source": [
    "See the tables in the world database:"
   ]
  },
  {
   "cell_type": "code",
   "execution_count": null,
   "metadata": {
    "scrolled": true
   },
   "outputs": [],
   "source": [
    "hive -e \"show tables in world\" 2> /dev/null"
   ]
  },
  {
   "cell_type": "markdown",
   "metadata": {},
   "source": [
    "In order get information about tables, you can run:"
   ]
  },
  {
   "cell_type": "code",
   "execution_count": null,
   "metadata": {},
   "outputs": [],
   "source": [
    "hive -e \"show create table world.city;\" 2> /dev/null"
   ]
  },
  {
   "cell_type": "markdown",
   "metadata": {},
   "source": [
    "The output will return information on the schema (column names and types), file type and size information"
   ]
  },
  {
   "cell_type": "markdown",
   "metadata": {},
   "source": [
    "You can repeat it for other tables in the database"
   ]
  },
  {
   "cell_type": "markdown",
   "metadata": {},
   "source": [
    "Now let's run a very simple query:"
   ]
  },
  {
   "cell_type": "code",
   "execution_count": null,
   "metadata": {},
   "outputs": [],
   "source": [
    "hive -e \"use world;\n",
    "select * from country limit 1;\" 2> /dev/null"
   ]
  },
  {
   "cell_type": "markdown",
   "metadata": {},
   "source": [
    "Now let's run a query to see the average lifeexpantancy of all countries:"
   ]
  },
  {
   "cell_type": "code",
   "execution_count": null,
   "metadata": {},
   "outputs": [],
   "source": [
    "hive -e \"use world;\n",
    "select avg(lifeexpectancy) from country limit 10;\" 2> /dev/null"
   ]
  },
  {
   "cell_type": "markdown",
   "metadata": {},
   "source": [
    "Now the next task is:\n",
    "\n",
    "- get the names (from country table) of the countries, official languages (from country languages) of which include english "
   ]
  },
  {
   "cell_type": "markdown",
   "metadata": {},
   "source": [
    "You should get:"
   ]
  },
  {
   "cell_type": "markdown",
   "metadata": {},
   "source": [
    "```mysql\n",
    "OK\n",
    "American Samoa\n",
    "Anguilla\n",
    "Antigua and Barbuda\n",
    "Australia\n",
    "Barbados\n",
    "Belize\n",
    "Bermuda\n",
    "United Kingdom\n",
    "Virgin Islands, British\n",
    "Cayman Islands\n",
    "South Africa\n",
    "Falkland Islands\n",
    "Gibraltar\n",
    "Guam\n",
    "Hong Kong\n",
    "Ireland\n",
    "Christmas Island\n",
    "Canada\n",
    "Cocos (Keeling) Islands\n",
    "Lesotho\n",
    "Malta\n",
    "Marshall Islands\n",
    "Montserrat\n",
    "Nauru\n",
    "Niue\n",
    "Norfolk Island\n",
    "Palau\n",
    "Northern Mariana Islands\n",
    "Saint Helena\n",
    "Saint Kitts and Nevis\n",
    "Saint Lucia\n",
    "Saint Vincent and the Grenadines\n",
    "Samoa\n",
    "Seychelles\n",
    "Tokelau\n",
    "Tonga\n",
    "Turks and Caicos Islands\n",
    "Tuvalu\n",
    "New Zealand\n",
    "Vanuatu\n",
    "United States\n",
    "Virgin Islands, U.S.\n",
    "Zimbabwe\n",
    "United States Minor Outlying Islands\n",
    "Time taken: 11.424 seconds, Fetched: 44 row(s)\n",
    "```"
   ]
  },
  {
   "cell_type": "code",
   "execution_count": null,
   "metadata": {},
   "outputs": [],
   "source": [
    "hive -e \"use world;\n",
    "select c.name from country c left join\n",
    "countrylanguage l on c.code=l.countrycode\n",
    "where l.isofficial = true\n",
    "and l.language = 'English';\"  2> /dev/null"
   ]
  },
  {
   "cell_type": "markdown",
   "metadata": {},
   "source": [
    "**Exercise 2:**\n",
    "\n",
    "Query world database in hive such that:\n",
    "- The query should report names of countries and its capital cities and also the proportion of the population of the capital to the country as capshare\n",
    "- country table should be left joined to city table. Check the ER diagram above again\n",
    "- filter for countries with population above 0\n",
    "- order by descending capshare\n",
    "\n",
    "You can first try your query on postgresql server's world database\n",
    "\n",
    "The result should be:"
   ]
  },
  {
   "cell_type": "markdown",
   "metadata": {},
   "source": [
    "```Bash\n",
    "Singapore                              Singapore                          112.63619287917017\n",
    "Gibraltar                              Gibraltar                          108.1\n",
    "Macao                                  Macao                              92.49471458773785\n",
    "Pitcairn                               Adamstown                          84.0\n",
    "Saint Pierre and Miquelon              Saint-Pierre                       82.97142857142858\n",
    "Falkland Islands                       Stanley                            81.8\n",
    "Palau                                  Koror                              63.1578947368421\n",
    "Djibouti                               Djibouti                           60.03134796238245\n",
    "Cook Islands                           Avarua                             59.5\n",
    "Qatar                                  Doha                               59.26544240400668\n",
    "Western Sahara                         El-Aaiún                           57.67918088737201\n",
    "Bahamas                                Nassau                             56.02605863192182\n",
    "Seychelles                             Victoria                           53.246753246753244\n",
    "Cayman Islands                         George Town                        51.578947368421055\n",
    "Holy See (Vatican City State)          Città del Vaticano                 45.5\n",
    "Svalbard and Jan Mayen                 Longyearbyen                       44.9375\n",
    "Marshall Islands                       Dalap-Uliga-Darrit                 43.75\n",
    "Norfolk Island                         Kingston                           40.0\n",
    "Iceland                                Reykjavík                          39.13405017921147\n",
    "Tuvalu                                 Funafuti                           38.333333333333336\n",
    "Virgin Islands, British                Road Town                          38.095238095238095\n",
    "Uruguay                                Montevideo                         37.03925681750075\n",
    "New Caledonia                          Nouméa                             35.65093457943925\n",
    "Armenia                                Yerevan                            35.47443181818182\n",
    "Antigua and Barbuda                    Saint John´s                       35.294117647058826\n",
    "Gabon                                  Libreville                         34.176182707993476\n",
    "Niue                                   Alofi                              34.1\n",
    "Faroe Islands                          Tórshavn                           33.818604651162794\n",
    "Sao Tome and Principe                  São Tomé                           33.701360544217685\n",
    "Lebanon                                Beirut                             33.516148689823275\n",
    "Congo                                  Brazzaville                        32.27998640842677\n",
    "Latvia                                 Riga                               31.529081758930783\n",
    "Chile                                  Santiago de Chile                  30.92468608244034\n",
    "Saint Kitts and Nevis                  Basseterre                         30.526315789473685\n",
    "Libyan Arab Jamahiriya                 Tripoli                            30.008920606601247\n",
    "Guyana                                 Georgetown                         29.500580720092916\n",
    "Mongolia                               Ulan Bator                         29.064613072877535\n",
    "Turks and Caicos Islands               Cockburn Town                      28.235294117647058\n",
    "Aruba                                  Oranjestad                         28.188349514563107\n",
    "Estonia                                Tallinn                            28.069830461367427\n",
    "French Guiana                          Cayenne                            28.010497237569062\n",
    "Christmas Island                       Flying Fish Cove                   28.0\n",
    "Cocos (Keeling) Islands                West Island                        27.833333333333332\n",
    "Andorra                                Andorra la Vella                   27.165384615384614\n",
    "Liberia                                Monrovia                           26.94990488268865\n",
    "Suriname                               Paramaribo                         26.85851318944844\n",
    "Cyprus                                 Nicosia                            25.83808135683053\n",
    "Peru                                   Lima                               25.19169589275972\n",
    "Saint Helena                           Jamestown                          25.0\n",
    "Mauritania                             Nouakchott                         24.99250936329588\n",
    "Georgia                                Tbilisi                            24.863123993558776\n",
    "Maldives                               Male                               24.825174825174827\n",
    "Greenland                              Nuuk                               24.008928571428573\n",
    "Bahrain                                al-Manama                          23.987034035656404\n",
    "Martinique                             Fort-de-France                     23.810126582278482\n",
    "Azerbaijan                             Baku                               23.116110680113785\n",
    "Dominica                               Roseau                             22.877464788732393\n",
    "Tonga                                  Nuku´alofa                         22.626262626262626\n",
    "Cape Verde                             Praia                              22.149532710280372\n",
    "Macedonia                              Skopje                             21.95153162055336\n",
    "South Korea                            Seoul                              21.308212364443687\n",
    "Cuba                                   La Habana                          20.141058834032677\n",
    "Samoa                                  Apia                               19.944444444444443\n",
    "Austria                                Wien                               19.87374873328555\n",
    "Guinea-Bissau                          Bissau                             19.868095630667767\n",
    "Jordan                                 Amman                              19.673421207948063\n",
    "Hong Kong                              Victoria                           19.354718372161603\n",
    "Dominican Republic                     Santo Domingo de Guzmán            18.951924661565627\n",
    "Nicaragua                              Managua                            18.900275916436737\n",
    "Réunion                                Saint-Denis                        18.80972818311874\n",
    "Iraq                                   Baghdad                            18.758382003028338\n",
    "Luxembourg                             Luxembourg [Luxemburg/Lëtzebuerg]  18.521918751434473\n",
    "Montserrat                             Plymouth                           18.181818181818183\n",
    "Hungary                                Budapest                           18.03759757846105\n",
    "Vanuatu                                Port-Vila                          17.736842105263158\n",
    "Sierra Leone                           Freetown                           17.511330861145446\n",
    "Panama                                 Ciudad de Panamá                   16.504656862745097\n",
    "Moldova                                Chisinau                           16.43607305936073\n",
    "Belarus                                Minsk                              16.354044548651817\n",
    "United Arab Emirates                   Abu Dhabi                          16.3332650553052\n",
    "Croatia                                Zagreb                             15.800804828973844\n",
    "Angola                                 Luanda                             15.701195837863022\n",
    "Lithuania                              Vilnius                            15.627119102338787\n",
    "Liechtenstein                          Vaduz                              15.613003095975232\n",
    "Saudi Arabia                           Riyadh                             15.383903364650346\n",
    "Tokelau                                Fakaofo                            15.0\n",
    "Saint Vincent and the Grenadines       Kingstown                          15.0\n",
    "Colombia                               Santafé de Bogotá                  14.793747784787694\n",
    "Guinea                                 Conakry                            14.678465679676986\n",
    "Central African Republic               Bangui                             14.495159059474412\n",
    "Zambia                                 Lusaka                             14.36361653397317\n",
    "Virgin Islands, U.S.                   Charlotte Amalie                   13.978494623655914\n",
    "Lesotho                                Maseru                             13.794705062703205\n",
    "Bulgaria                               Sofija                             13.701815429317902\n",
    "Slovenia                               Ljubljana                          13.632457993761948\n",
    "Botswana                               Gaborone                           13.132983970406904\n",
    "Ireland                                Dublin                             12.764006251490027\n",
    "Honduras                               Tegucigalpa                        12.550501156515034\n",
    "Kyrgyzstan                             Bishkek                            12.54309427537774\n",
    "Ecuador                                Quito                              12.44233749802309\n",
    "United Kingdom                         London                             12.218357222164451\n",
    "Turkmenistan                           Ashgabat                           12.123794572774164\n",
    "Zimbabwe                               Harare                             12.083297626189047\n",
    "Mauritius                              Port-Louis                         11.934369602763384\n",
    "Taiwan                                 Taipei                             11.867864845434939\n",
    "Northern Mariana Islands               Garapan                            11.794871794871796\n",
    "Czech Republic                         Praha                              11.491676477169905\n",
    "Palestine                              Gaza                               11.403805224121252\n",
    "Norway                                 Oslo                               11.359294406609356\n",
    "Yugoslavia                             Beograd                            11.31578947368421\n",
    "Solomon Islands                        Honiara                            11.283783783783784\n",
    "Puerto Rico                            San Juan                           11.22703540966658\n",
    "Eritrea                                Asmara                             11.194805194805195\n",
    "French Polynesia                       Papeete                            10.873617021276596\n",
    "Haiti                                  Port-au-Prince                     10.757382631963026\n",
    "Finland                                Helsinki [Helsingfors]             10.741476998046913\n",
    "North Korea                            Pyongyang                          10.33320853612879\n",
    "Thailand                               Bangkok                            10.293610645124513\n",
    "Israel                                 Jerusalem                          10.193019141064822\n",
    "Paraguay                               Asunción                           10.148762736535662\n",
    "Iran                                   Teheran                            9.98322796963162\n",
    "Egypt                                  Cairo                              9.91599094493939\n",
    "Somalia                                Mogadishu                          9.87422006536595\n",
    "Congo, The Democratic Republic of the  Kinshasa                           9.80369380880474\n",
    "Namibia                                Windhoek                           9.791425260718425\n",
    "Laos                                   Vientiane                          9.788330572427757\n",
    "Fiji Islands                           Suva                               9.46952264381885\n",
    "Denmark                                København                          9.300168855534709\n",
    "Bolivia                                La Paz                             9.10242526113579\n",
    "Cameroon                               Yaoundé                            9.100430891614186\n",
    "Bosnia and Herzegovina                 Sarajevo                           9.06344410876133\n",
    "Romania                                Bucuresti                          8.97833938233395\n",
    "Equatorial Guinea                      Malabo                             8.830022075055188\n",
    "Uzbekistan                             Toskent                            8.707541738629821\n",
    "Mexico                                 Ciudad de México                   8.688533692013632\n",
    "San Marino                             San Marino                         8.496296296296297\n",
    "Tajikistan                             Dushanbe                           8.468002585649645\n",
    "Sweden                                 Stockholm                          8.467601056266505\n",
    "Costa Rica                             San José                           8.429803629132488\n",
    "Syria                                  Damascus                           8.353488372093024\n",
    "Slovakia                               Bratislava                         8.303702743253005\n",
    "Senegal                                Dakar                              8.280466195548993\n",
    "Venezuela                              Caracas                            8.172503103020274\n",
    "Togo                                   Lomé                               8.101101749837978\n",
    "Mayotte                                Mamoutzou                          8.053691275167786\n",
    "Argentina                              Buenos Aires                       8.052889392957443\n",
    "Albania                                Tirana                             7.9383746912854285\n",
    "Afghanistan                            Kabul                              7.834507042253521\n",
    "Kenya                                  Nairobi                            7.613031914893617\n",
    "Wallis and Futuna                      Mata-Utu                           7.58\n",
    "Anguilla                               The Valley                         7.4375\n",
    "Myanmar                                Rangoon (Yangon)                   7.370371182390213\n",
    "Greece                                 Athenai                            7.321202006505021\n",
    "Spain                                  Madrid                             7.29951295202793\n",
    "Guatemala                              Ciudad de Guatemala                7.231453667105841\n",
    "Micronesia, Federated States of        Palikir                            7.226890756302521\n",
    "Mali                                   Bamako                             7.206266690404131\n",
    "Tunisia                                Tunis                              7.204256206968496\n",
    "Chad                                   N´Djaména                          6.939811789308587\n",
    "Burkina Faso                           Ouagadougou                        6.90290692803887\n",
    "Algeria                                Alger                              6.888881827714404\n",
    "El Salvador                            San Salvador                       6.6180050987890375\n",
    "Brunei                                 Bandar Seri Begawan                6.55\n",
    "Japan                                  Tokyo                              6.297828179995896\n",
    "Comoros                                Moroni                             6.228373702422146\n",
    "Swaziland                              Mbabane                            6.051587301587301\n",
    "Malaysia                               Kuala Lumpur                       5.8331505124977525\n",
    "Russian Federation                     Moscow                             5.709502225488995\n",
    "Portugal                               Lisboa                             5.633452028486837\n",
    "East Timor                             Dili                               5.4124293785310735\n",
    "Ghana                                  Accra                              5.293884820898477\n",
    "Ukraine                                Kyiv                               5.200570794355478\n",
    "Mozambique                             Maputo                             5.177530487804878\n",
    "Papua New Guinea                       Port Moresby                       5.138339920948616\n",
    "Cambodia                               Phnom Penh                         5.1052560888252145\n",
    "Grenada                                Saint George´s                     4.915957446808511\n",
    "Nauru                                  Yaren                              4.658333333333333\n",
    "Netherlands                            Amsterdam                          4.609178013111447\n",
    "Italy                                  Roma                               4.583184812760056\n",
    "Turkey                                 Ankara                             4.562416843116938\n",
    "Indonesia                              Jakarta                            4.528327683669091\n",
    "Burundi                                Bujumbura                          4.480955937266617\n",
    "New Zealand                            Wellington                         4.316416364577939\n",
    "Madagascar                             Antananarivo                       4.238295069627399\n",
    "Poland                                 Warszawa                           4.179090692716849\n",
    "Germany                                Berlin                             4.121802915363897\n",
    "Uganda                                 Kampala                            4.0903664248324\n",
    "Jamaica                                Kingston                           4.024854819976771\n",
    "Malawi                                 Lilongwe                           3.990517162471396\n",
    "Ethiopia                               Addis Abeba                        3.987852633261408\n",
    "Niger                                  Niamey                             3.91425908667288\n",
    "Rwanda                                 Kigali                             3.6984352773826457\n",
    "Monaco                                 Monaco-Ville                       3.6294117647058823\n",
    "France                                 Paris                              3.588384772151279\n",
    "Sri Lanka                              Colombo                            3.4259308440006375\n",
    "American Samoa                         Fagatogo                           3.416176470588235\n",
    "Trinidad and Tobago                    Port-of-Spain                      3.351042471042471\n",
    "Gambia                                 Banjul                             3.2433716475095786\n",
    "Sudan                                  Khartum                            3.2128958969142083\n",
    "Benin                                  Porto-Novo                         3.18189273413154\n",
    "Belize                                 Belmopan                           2.9481327800829877\n",
    "Bangladesh                             Dhaka                              2.7972978204482986\n",
    "Yemen                                  Sanaa                              2.7804770318021204\n",
    "Guadeloupe                             Basse-Terre                        2.726535087719298\n",
    "Kiribati                               Bairiki                            2.6819277108433734\n",
    "Nepal                                  Kathmandu                          2.473192645215211\n",
    "Barbados                               Bridgetown                         2.248148148148148\n",
    "Morocco                                Rabat                              2.1990652887023385\n",
    "Philippines                            Manila                             2.0812747640422815\n",
    "Oman                                   Masqat                             2.04441384736428\n",
    "Kazakstan                              Astana                             1.9182641928126734\n",
    "Malta                                  Valletta                           1.8603366649132036\n",
    "Bermuda                                Hamilton                           1.8461538461538463\n",
    "Vietnam                                Hanoi                              1.7662090389818619\n",
    "Switzerland                            Bern                               1.7135914194737725\n",
    "Australia                              Canberra                           1.7087948745102193\n",
    "South Africa                           Pretoria                           1.6312009312232212\n",
    "Saint Lucia                            Castries                           1.4941558441558442\n",
    "Kuwait                                 Kuwait                             1.4634381338742393\n",
    "Belgium                                Bruxelles [Brussel]                1.3073444672331282\n",
    "Brazil                                 Brasília                           1.1579625547423802\n",
    "Netherlands Antilles                   Willemstad                         1.0806451612903225\n",
    "Canada                                 Ottawa                             1.0764343275435837\n",
    "Bhutan                                 Thimphu                            1.0357815442561205\n",
    "Côte dIvoire                           Yamoussoukro                       0.8792100635736507\n",
    "Guam                                   Agaña                              0.6779761904761905\n",
    "China                                  Peking                             0.5848658143113659\n",
    "Tanzania                               Dodoma                             0.5638929498463466\n",
    "Pakistan                               Islamabad                          0.3351801793166031\n",
    "Nigeria                                Abuja                              0.313974135920937\n",
    "United States                          Washington                         0.2055127049077264\n",
    "India                                  New Delhi                          0.029723615958771266\n",
    "```"
   ]
  },
  {
   "cell_type": "code",
   "execution_count": null,
   "metadata": {},
   "outputs": [],
   "source": []
  },
  {
   "cell_type": "code",
   "execution_count": null,
   "metadata": {},
   "outputs": [],
   "source": [
    "pass1=\n",
    "solution=$(cat ~/crypt/hive_example.crypt | openssl enc -md sha256 -aes-128-cbc -a -d -salt -pass pass:$pass1 2> /dev/null)\n",
    "echo \"$solution\"; echo\n",
    "for l in \"$solution\"; do eval \"${l}\"; done"
   ]
  },
  {
   "cell_type": "markdown",
   "metadata": {},
   "source": [
    "## PIG"
   ]
  },
  {
   "cell_type": "markdown",
   "metadata": {},
   "source": [
    "Pig is a scripting language for creating workflows based on MapReduce"
   ]
  },
  {
   "cell_type": "markdown",
   "metadata": {},
   "source": [
    "Pig transforms the declarative nature of Hive into a procedural one, so that dataflow steps are more easily defined "
   ]
  },
  {
   "cell_type": "markdown",
   "metadata": {},
   "source": [
    "In this examples, we will use HCatalog to connect Pig to Hive databases. HCatalog is a table and storage management layer for Hadoop that enables users with different data processing tools — Pig, MapReduce — to more easily read and write data on the grid"
   ]
  },
  {
   "cell_type": "markdown",
   "metadata": {},
   "source": [
    "In order run pig commands/scripts on hive tables, first ensure that hive metastore is running and listening:"
   ]
  },
  {
   "cell_type": "code",
   "execution_count": null,
   "metadata": {},
   "outputs": [],
   "source": [
    "netstat -an | grep 9083"
   ]
  },
  {
   "cell_type": "markdown",
   "metadata": {},
   "source": [
    "And start it if it is not:"
   ]
  },
  {
   "cell_type": "code",
   "execution_count": null,
   "metadata": {},
   "outputs": [],
   "source": [
    "hive --service metastore &"
   ]
  },
  {
   "cell_type": "markdown",
   "metadata": {},
   "source": [
    "We want pig to use HCatalog service to connect to hive. \n",
    "\n",
    "HCatalog is a table and storage management layer for Hadoop that enables users with different data processing tools — Pig, MapReduce — to more easily read and write data on the grid.\n",
    "\n",
    "Let's check whether hcat is running:"
   ]
  },
  {
   "cell_type": "code",
   "execution_count": null,
   "metadata": {},
   "outputs": [],
   "source": [
    "hcat -e \"create table hcatalogtest(name string,place string,id int) row format delimited fields terminated by ':' stored as textfile\" 2>&1 | \\\n",
    "grep -Pv \"SLF4J|INFO|WARN\""
   ]
  },
  {
   "cell_type": "code",
   "execution_count": null,
   "metadata": {},
   "outputs": [],
   "source": [
    "hcat -e \"desc hcatalogtest\" 2>&1 |  grep -Pv \"SLF4J|INFO|WARN\""
   ]
  },
  {
   "cell_type": "markdown",
   "metadata": {},
   "source": [
    "To enable pig with HCatalog:"
   ]
  },
  {
   "cell_type": "markdown",
   "metadata": {},
   "source": [
    "```bash\n",
    "pig -useHCatalog\n",
    "```"
   ]
  },
  {
   "cell_type": "markdown",
   "metadata": {},
   "source": [
    "We will write down the steps defining the workflow and the plan will be executed when we enter the DUMP command"
   ]
  },
  {
   "cell_type": "markdown",
   "metadata": {},
   "source": [
    "As a simple example, let's load city table from world database in Hive"
   ]
  },
  {
   "cell_type": "markdown",
   "metadata": {},
   "source": [
    "First we will list the steps and then run them as a single script in batch mode:"
   ]
  },
  {
   "cell_type": "markdown",
   "metadata": {},
   "source": [
    "```Pig\n",
    "city = LOAD 'world.city' USING org.apache.hive.hcatalog.pig.HCatLoader();\n",
    "```"
   ]
  },
  {
   "cell_type": "markdown",
   "metadata": {},
   "source": [
    "And let's select the cities where the countrycode is TUR"
   ]
  },
  {
   "cell_type": "markdown",
   "metadata": {},
   "source": [
    "```Pig\n",
    "cityturkey = filter city by countrycode == 'TUR';\n",
    "```"
   ]
  },
  {
   "cell_type": "markdown",
   "metadata": {},
   "source": [
    "And let's select the cities with a population larger than 1 million"
   ]
  },
  {
   "cell_type": "markdown",
   "metadata": {},
   "source": [
    "```Pig\n",
    "largecitytur = filter cityturkey by population > 1000000;\n",
    "```"
   ]
  },
  {
   "cell_type": "markdown",
   "metadata": {},
   "source": [
    "Now let's execute the plan:"
   ]
  },
  {
   "cell_type": "markdown",
   "metadata": {},
   "source": [
    "```Pig\n",
    "DUMP largecitytur;\n",
    "```"
   ]
  },
  {
   "cell_type": "markdown",
   "metadata": {},
   "source": [
    "Let's write down all steps in to a pig script file:"
   ]
  },
  {
   "cell_type": "code",
   "execution_count": null,
   "metadata": {},
   "outputs": [],
   "source": [
    "cat > ~/script1.pig <<EOF\n",
    "city = LOAD 'world.city' USING org.apache.hive.hcatalog.pig.HCatLoader();\n",
    "cityturkey = filter city by countrycode == 'TUR';\n",
    "largecitytur = filter cityturkey by population > 1000000;\n",
    "DUMP largecitytur;\n",
    "EOF"
   ]
  },
  {
   "cell_type": "code",
   "execution_count": null,
   "metadata": {},
   "outputs": [],
   "source": [
    "cat ~/script1.pig"
   ]
  },
  {
   "cell_type": "markdown",
   "metadata": {},
   "source": [
    "And execute the script:"
   ]
  },
  {
   "cell_type": "code",
   "execution_count": null,
   "metadata": {},
   "outputs": [],
   "source": [
    "pig -useHCatalog ~/script1.pig 2>&1 | grep -Pv \"INFO|WARN\""
   ]
  },
  {
   "cell_type": "markdown",
   "metadata": {},
   "source": [
    "Now let's import other tables in the world database"
   ]
  },
  {
   "cell_type": "markdown",
   "metadata": {},
   "source": [
    "```Pig\n",
    "country = LOAD 'world.country' USING org.apache.hive.hcatalog.pig.HCatLoader();\n",
    "\n",
    "\n",
    "lang = LOAD 'world.countrylanguage' USING org.apache.hive.hcatalog.pig.HCatLoader();\n",
    "```"
   ]
  },
  {
   "cell_type": "markdown",
   "metadata": {},
   "source": [
    "Now let's define our previous example in Hive as a Pig dataflow"
   ]
  },
  {
   "cell_type": "markdown",
   "metadata": {},
   "source": [
    "First, filter the lang table for countries, official languages of which include English"
   ]
  },
  {
   "cell_type": "markdown",
   "metadata": {},
   "source": [
    "```Pig\n",
    "codeen = filter lang by language == 'English' and isofficial == true;\n",
    "```"
   ]
  },
  {
   "cell_type": "markdown",
   "metadata": {},
   "source": [
    "Then we join the filtered countrylanguage and country tables on the coeds"
   ]
  },
  {
   "cell_type": "markdown",
   "metadata": {},
   "source": [
    "```Pig\n",
    "joinen = JOIN country by code, codeen by countrycode;\n",
    "```"
   ]
  },
  {
   "cell_type": "markdown",
   "metadata": {},
   "source": [
    "And I select only the name field to be dumped"
   ]
  },
  {
   "cell_type": "markdown",
   "metadata": {},
   "source": [
    "```Pig\n",
    "names = foreach joinen generate name;\n",
    "```"
   ]
  },
  {
   "cell_type": "markdown",
   "metadata": {},
   "source": [
    "Now we can execute the plan to dump the names"
   ]
  },
  {
   "cell_type": "markdown",
   "metadata": {},
   "source": [
    "```Pig\n",
    "DUMP names;\n",
    "```"
   ]
  },
  {
   "cell_type": "code",
   "execution_count": null,
   "metadata": {},
   "outputs": [],
   "source": [
    "cat > ~/script2.pig <<EOF\n",
    "country = LOAD 'world.country' USING org.apache.hive.hcatalog.pig.HCatLoader();\n",
    "lang = LOAD 'world.countrylanguage' USING org.apache.hive.hcatalog.pig.HCatLoader();\n",
    "codeen = filter lang by language == 'English' and isofficial == true;\n",
    "joinen = JOIN country by code, codeen by countrycode;\n",
    "names = foreach joinen generate name;\n",
    "DUMP names;\n",
    "EOF"
   ]
  },
  {
   "cell_type": "code",
   "execution_count": null,
   "metadata": {},
   "outputs": [],
   "source": [
    "cat ~/script2.pig"
   ]
  },
  {
   "cell_type": "code",
   "execution_count": null,
   "metadata": {},
   "outputs": [],
   "source": [
    "pig -useHCatalog ~/script2.pig 2>&1 | grep -Pv \"INFO|WARN\""
   ]
  },
  {
   "cell_type": "markdown",
   "metadata": {},
   "source": [
    "### PIG EXERCISE"
   ]
  },
  {
   "cell_type": "markdown",
   "metadata": {},
   "source": [
    "Now as an exercise, we will compare the lifeexpentancy of the whole sample and the life expectancy of the countries with English as official language"
   ]
  },
  {
   "cell_type": "markdown",
   "metadata": {},
   "source": [
    "To get a feel of calculating averages in Pig, below is the solution for the first part:"
   ]
  },
  {
   "cell_type": "markdown",
   "metadata": {},
   "source": [
    "```Pig\n",
    "-- filter for null values\n",
    "countrynotnull = filter country by lifeexpectancy is not null;\n",
    "\n",
    "-- get lifeexpectancy column\n",
    "\n",
    "lifeall = foreach countrynotnull generate lifeexpectancy;\n",
    "\n",
    "-- combine values into a single group \n",
    "lifeallg = group lifeall all;\n",
    "\n",
    "-- calculate the average\n",
    "avgall = foreach lifeallg generate AVG(lifeall);\n",
    "-- execute\n",
    "DUMP avgall;\n",
    "```"
   ]
  },
  {
   "cell_type": "markdown",
   "metadata": {},
   "source": [
    "The result is:\n",
    "```Pig\n",
    "(66.486036036036)\n",
    "```"
   ]
  },
  {
   "cell_type": "code",
   "execution_count": null,
   "metadata": {},
   "outputs": [],
   "source": [
    "cat > ~/script3.pig <<EOF\n",
    "country = LOAD 'world.country' USING org.apache.hive.hcatalog.pig.HCatLoader(); -- load data\n",
    "countrynotnull = filter country by lifeexpectancy is not null; -- filter for null values\n",
    "lifeall = foreach countrynotnull generate lifeexpectancy; -- preprocess for grouping, lifeexpectancy versus countrynotnull\n",
    "lifeallg = group lifeall all; -- create a single group of all to calculate the average lifeexpectany\n",
    "avgall = foreach lifeallg generate AVG(lifeall); -- calculate the average life expectancy of all countries\n",
    "DUMP avgall; -- execute and return\n",
    "EOF"
   ]
  },
  {
   "cell_type": "code",
   "execution_count": null,
   "metadata": {},
   "outputs": [],
   "source": [
    "cat ~/script3.pig"
   ]
  },
  {
   "cell_type": "code",
   "execution_count": null,
   "metadata": {},
   "outputs": [],
   "source": [
    "pig -useHCatalog ~/script3.pig  2>&1 | grep -Pv \"INFO|WARN\""
   ]
  },
  {
   "cell_type": "markdown",
   "metadata": {},
   "source": [
    "Now play with code in previous example to get the lifeexpectancy values of English speaking countries (Note that we had extracted the names column. Just change the column)\n",
    "\n",
    "And apply the steps above (you will have the life expectancies of anglophone countries instead of all countries, rest is the same)"
   ]
  },
  {
   "cell_type": "markdown",
   "metadata": {},
   "source": [
    "Note that null elimination step is not necessary, the result is the same"
   ]
  },
  {
   "cell_type": "markdown",
   "metadata": {},
   "source": [
    "The result should be:\n",
    "```Pig\n",
    "(71.5027027027027)\n",
    "```"
   ]
  },
  {
   "cell_type": "code",
   "execution_count": null,
   "metadata": {},
   "outputs": [],
   "source": [
    "cat > ~/script4.pig <<EOF\n",
    "    country = LOAD 'world.country' USING org.apache.hive.hcatalog.pig.HCatLoader(); -- load country data\n",
    "    countrynotnull = filter country by lifeexpectancy is not null; -- filter for null values\n",
    "    lang = LOAD 'world.countrylanguage' USING org.apache.hive.hcatalog.pig.HCatLoader(); -- load language data\n",
    "    codeen = filter lang by language == 'English' and isofficial == true; -- filter for English language\n",
    "    joinen = JOIN countrynotnull by code, codeen by countrycode; -- join countries and English speaking ones\n",
    "    lifeen = foreach joinen generate lifeexpectancy;  -- preprocess for grouping, lifeexpectancy versus countrynotnull\n",
    "\n",
    "    lifeeng = group lifeen all; -- create a single group of all to calculate the average lifeexpectany\n",
    "    avgen = foreach lifeeng generate AVG(lifeen); -- execute and return\n",
    "\n",
    "    DUMP avgen;\n",
    "EOF"
   ]
  },
  {
   "cell_type": "code",
   "execution_count": null,
   "metadata": {},
   "outputs": [],
   "source": [
    "cat ~/script4.pig"
   ]
  },
  {
   "cell_type": "code",
   "execution_count": null,
   "metadata": {},
   "outputs": [],
   "source": [
    "pig -useHCatalog ~/script4.pig  2>&1 | grep -Pv \"INFO|WARN\""
   ]
  },
  {
   "cell_type": "markdown",
   "metadata": {},
   "source": [
    "### REVIEW OF PIG COMMANDS"
   ]
  },
  {
   "cell_type": "markdown",
   "metadata": {},
   "source": [
    "**LOAD:**\n",
    "\n",
    "```Bash\n",
    "    country = LOAD 'world.country' USING org.apache.hive.hcatalog.pig.HCatLoader();\n",
    "```\n",
    "\n",
    "**FILTER:**\n",
    "```Bash\n",
    "    countrynotnull = filter country by lifeexpectancy is not null;\n",
    "```\n",
    "\n",
    "**JOIN:**\n",
    "```Bash\n",
    "    joinen = JOIN countrynotnull by code, codeen by countrycode;\n",
    "```\n",
    "\n",
    "**FOREACH / GENERATE:** Calculate new fields from grouped or non-grouped objects. Also for selecting fields\n",
    "```Bash\n",
    "    lifeen = foreach joinen generate lifeexpectancy;\n",
    "```\n",
    "\n",
    "**GROUP:** Create a grouped object. Works like group by, summarize in dplyr. all means create a single group\n",
    "```Bash\n",
    "    lifeeng = group lifeen all;\n",
    "        ot\n",
    "    group object by field\n",
    "```\n",
    "\n",
    "**ORDER:**\n",
    "```Bash\n",
    "    ORDER variable/table by field (DESC);\n",
    "```\n",
    "**LIMIT:**\n",
    "```Bash\n",
    "    LIMIT variable/table N;\n",
    "```\n",
    "\n",
    "**DUMP:** Execute the whole script and return the results\n",
    "```Bash\n",
    "    DUMP avgen;\n",
    "```"
   ]
  },
  {
   "cell_type": "markdown",
   "metadata": {},
   "source": [
    "**Exercise 3:**\n",
    "\n",
    "Write a pig workflow/script to return the countries capitals of which are also the cities with largest population\n",
    "\n",
    "First let's check it with an SQL statement:"
   ]
  },
  {
   "cell_type": "code",
   "execution_count": null,
   "metadata": {},
   "outputs": [],
   "source": [
    "psql -U postgres -d world <<EOF\n",
    "\n",
    "with cmax as\n",
    " (\n",
    " select country.code, country.name, max(city.population) maxpop\n",
    " from country left join city on code=countrycode\n",
    " group by country.code, country.name\n",
    " )\n",
    " select country.code, country.name, city.name, city.population, cmax.maxpop\n",
    " from cmax left join country USING (code)\n",
    " left join city on capital=id\n",
    " where city.population=cmax.maxpop\n",
    " order by code;\n",
    "\n",
    "EOF"
   ]
  },
  {
   "cell_type": "markdown",
   "metadata": {},
   "source": [
    "You can use the below code for template, just fill in the xxx parts following the comments:"
   ]
  },
  {
   "cell_type": "code",
   "execution_count": null,
   "metadata": {},
   "outputs": [],
   "source": [
    "cat > ~/script5.pig <<EOF\n",
    "    country = LOAD 'world.country' USING org.apache.hive.hcatalog.pig.HCatLoader(); -- load country data\n",
    "    country2 = foreach country generate code, name, capital; -- select necessary fields\n",
    "    city = LOAD 'world.city' USING org.apache.hive.hcatalog.pig.HCatLoader(); -- load city data\n",
    "    city2 = foreach city generate id, name as cityname, countrycode, population; -- select necessary fields\n",
    "    countrycity = JOIN xxx by xxx, xxx by xxx; -- join country to city data\n",
    "    citiesbyc = group xxx by xxx; -- create a group of the countrycity for each country\n",
    "\n",
    "    -- for each group in the citiesbyc, return the country code and maximum population\n",
    "    maxcity = foreach xxx generate group as code, MAX(countrycity.xxx) as maxpop;\n",
    "    countrycap = JOIN xxx by xxx, xxx by xxx; -- join the capital city information to countries using country2 and city2\n",
    "    countrycapmax = JOIN xxx by code, maxcity by code; -- join country information with capital cities and country information with maximum population\n",
    "    countryfiltered = FILTER xxx by xxx == xxx; -- filter where capital population is equal to maximum popluation\n",
    "\n",
    "    DUMP countryfiltered;\n",
    "EOF"
   ]
  },
  {
   "cell_type": "markdown",
   "metadata": {},
   "source": [
    "And try whether it runs:\n",
    "\n",
    "Note that, at any step, you can comment out the lines below and execute the script to DUMP the last calculated object for debugging purposes "
   ]
  },
  {
   "cell_type": "code",
   "execution_count": null,
   "metadata": {},
   "outputs": [],
   "source": [
    "cat ~/script5.pig\n",
    "\n",
    "pig -useHCatalog ~/script5.pig"
   ]
  },
  {
   "cell_type": "markdown",
   "metadata": {},
   "source": [
    "The output should be as such:\n",
    "\n",
    "\n",
    "```Bash\n",
    "    DUMP countryfiltered;\n",
    "(ABW,Aruba,129,129,Oranjestad,ABW,29034,ABW,29034)\n",
    "(AFG,Afghanistan,1,1,Kabul,AFG,1780000,AFG,1780000)\n",
    "(AGO,Angola,56,56,Luanda,AGO,2022000,AGO,2022000)\n",
    "(ALB,Albania,34,34,Tirana,ALB,270000,ALB,270000)\n",
    "(AND,Andorra,55,55,Andorra la Vella,AND,21189,AND,21189)\n",
    "(ANT,Netherlands Antilles,33,33,Willemstad,ANT,2345,ANT,2345)\n",
    "(ARG,Argentina,69,69,Buenos Aires,ARG,2982146,ARG,2982146)\n",
    "(ARM,Armenia,126,126,Yerevan,ARM,1248700,ARM,1248700)\n",
    "(ATG,Antigua and Barbuda,63,63,Saint John´s,ATG,24000,ATG,24000)\n",
    "(AUT,Austria,1523,1523,Wien,AUT,1608144,AUT,1608144)\n",
    "(AZE,Azerbaijan,144,144,Baku,AZE,1787800,AZE,1787800)\n",
    "(BDI,Burundi,552,552,Bujumbura,BDI,300000,BDI,300000)\n",
    "(BFA,Burkina Faso,549,549,Ouagadougou,BFA,824000,BFA,824000)\n",
    "(BGD,Bangladesh,150,150,Dhaka,BGD,3612850,BGD,3612850)\n",
    "(BGR,Bulgaria,539,539,Sofija,BGR,1122302,BGR,1122302)\n",
    "(BHR,Bahrain,149,149,al-Manama,BHR,148000,BHR,148000)\n",
    "(BHS,Bahamas,148,148,Nassau,BHS,172000,BHS,172000)\n",
    "(BIH,Bosnia and Herzegovina,201,201,Sarajevo,BIH,360000,BIH,360000)\n",
    "(BLR,Belarus,3520,3520,Minsk,BLR,1674000,BLR,1674000)\n",
    "(BRB,Barbados,174,174,Bridgetown,BRB,6070,BRB,6070)\n",
    "(BRN,Brunei,538,538,Bandar Seri Begawan,BRN,21484,BRN,21484)\n",
    "(BTN,Bhutan,192,192,Thimphu,BTN,22000,BTN,22000)\n",
    "(BWA,Botswana,204,204,Gaborone,BWA,213017,BWA,213017)\n",
    "(CAF,Central African Republic,1889,1889,Bangui,CAF,524000,CAF,524000)\n",
    "(CHL,Chile,554,554,Santiago de Chile,CHL,4703954,CHL,4703954)\n",
    "(COD,Congo, The Democratic Republic of the,2298,2298,Kinshasa,COD,5064000,COD,5064000)\n",
    "(COG,Congo,2296,2296,Brazzaville,COG,950000,COG,950000)\n",
    "(COK,Cook Islands,583,583,Avarua,COK,11900,COK,11900)\n",
    "(COL,Colombia,2257,2257,Santafé de Bogotá,COL,6260862,COL,6260862)\n",
    "(COM,Comoros,2295,2295,Moroni,COM,36000,COM,36000)\n",
    "(CPV,Cape Verde,1859,1859,Praia,CPV,94800,CPV,94800)\n",
    "(CRI,Costa Rica,584,584,San José,CRI,339131,CRI,339131)\n",
    "(CUB,Cuba,2413,2413,La Habana,CUB,2256000,CUB,2256000)\n",
    "(CXR,Christmas Island,1791,1791,Flying Fish Cove,CXR,700,CXR,700)\n",
    "(CYM,Cayman Islands,553,553,George Town,CYM,19600,CYM,19600)\n",
    "(CYP,Cyprus,2430,2430,Nicosia,CYP,195000,CYP,195000)\n",
    "(CZE,Czech Republic,3339,3339,Praha,CZE,1181126,CZE,1181126)\n",
    "(DEU,Germany,3068,3068,Berlin,DEU,3386667,DEU,3386667)\n",
    "(DJI,Djibouti,585,585,Djibouti,DJI,383000,DJI,383000)\n",
    "(DMA,Dominica,586,586,Roseau,DMA,16243,DMA,16243)\n",
    "(DNK,Denmark,3315,3315,København,DNK,495699,DNK,495699)\n",
    "(DOM,Dominican Republic,587,587,Santo Domingo de Guzmán,DOM,1609966,DOM,1609966)\n",
    "(DZA,Algeria,35,35,Alger,DZA,2168000,DZA,2168000)\n",
    "(EGY,Egypt,608,608,Cairo,EGY,6789479,EGY,6789479)\n",
    "(ERI,Eritrea,652,652,Asmara,ERI,431000,ERI,431000)\n",
    "(ESH,Western Sahara,2453,2453,El-Aaiún,ESH,169000,ESH,169000)\n",
    "(ESP,Spain,653,653,Madrid,ESP,2879052,ESP,2879052)\n",
    "(EST,Estonia,3791,3791,Tallinn,EST,403981,EST,403981)\n",
    "(ETH,Ethiopia,756,756,Addis Abeba,ETH,2495000,ETH,2495000)\n",
    "(FIN,Finland,3236,3236,Helsinki [Helsingfors],FIN,555474,FIN,555474)\n",
    "(FJI,Fiji Islands,764,764,Suva,FJI,77366,FJI,77366)\n",
    "(FLK,Falkland Islands,763,763,Stanley,FLK,1636,FLK,1636)\n",
    "(FRA,France,2974,2974,Paris,FRA,2125246,FRA,2125246)\n",
    "(FRO,Faroe Islands,901,901,Tórshavn,FRO,14542,FRO,14542)\n",
    "(GAB,Gabon,902,902,Libreville,GAB,419000,GAB,419000)\n",
    "(GBR,United Kingdom,456,456,London,GBR,7285000,GBR,7285000)\n",
    "(GEO,Georgia,905,905,Tbilisi,GEO,1235200,GEO,1235200)\n",
    "(GHA,Ghana,910,910,Accra,GHA,1070000,GHA,1070000)\n",
    "(GIB,Gibraltar,915,915,Gibraltar,GIB,27025,GIB,27025)\n",
    "(GIN,Guinea,926,926,Conakry,GIN,1090610,GIN,1090610)\n",
    "(GNB,Guinea-Bissau,927,927,Bissau,GNB,241000,GNB,241000)\n",
    "(GNQ,Equatorial Guinea,2972,2972,Malabo,GNQ,40000,GNQ,40000)\n",
    "(GRC,Greece,2401,2401,Athenai,GRC,772072,GRC,772072)\n",
    "(GRD,Grenada,916,916,Saint George´s,GRD,4621,GRD,4621)\n",
    "(GRL,Greenland,917,917,Nuuk,GRL,13445,GRL,13445)\n",
    "(GTM,Guatemala,922,922,Ciudad de Guatemala,GTM,823301,GTM,823301)\n",
    "(GUF,French Guiana,3014,3014,Cayenne,GUF,50699,GUF,50699)\n",
    "(GUY,Guyana,928,928,Georgetown,GUY,254000,GUY,254000)\n",
    "(HND,Honduras,933,933,Tegucigalpa,HND,813900,HND,813900)\n",
    "(HRV,Croatia,2409,2409,Zagreb,HRV,706770,HRV,706770)\n",
    "(HTI,Haiti,929,929,Port-au-Prince,HTI,884472,HTI,884472)\n",
    "(HUN,Hungary,3483,3483,Budapest,HUN,1811552,HUN,1811552)\n",
    "(IDN,Indonesia,939,939,Jakarta,IDN,9604900,IDN,9604900)\n",
    "(IRL,Ireland,1447,1447,Dublin,IRL,481854,IRL,481854)\n",
    "(IRN,Iran,1380,1380,Teheran,IRN,6758845,IRN,6758845)\n",
    "(IRQ,Iraq,1365,1365,Baghdad,IRQ,4336000,IRQ,4336000)\n",
    "(ISL,Iceland,1449,1449,Reykjavík,ISL,109184,ISL,109184)\n",
    "(ISR,Israel,1450,1450,Jerusalem,ISR,633700,ISR,633700)\n",
    "(ITA,Italy,1464,1464,Roma,ITA,2643581,ITA,2643581)\n",
    "(JOR,Jordan,1786,1786,Amman,JOR,1000000,JOR,1000000)\n",
    "(JPN,Japan,1532,1532,Tokyo,JPN,7980230,JPN,7980230)\n",
    "(KEN,Kenya,1881,1881,Nairobi,KEN,2290000,KEN,2290000)\n",
    "(KGZ,Kyrgyzstan,2253,2253,Bishkek,KGZ,589400,KGZ,589400)\n",
    "(KHM,Cambodia,1800,1800,Phnom Penh,KHM,570155,KHM,570155)\n",
    "(KNA,Saint Kitts and Nevis,3064,3064,Basseterre,KNA,11600,KNA,11600)\n",
    "(KOR,South Korea,2331,2331,Seoul,KOR,9981619,KOR,9981619)\n",
    "(LAO,Laos,2432,2432,Vientiane,LAO,531800,LAO,531800)\n",
    "(LBN,Lebanon,2438,2438,Beirut,LBN,1100000,LBN,1100000)\n",
    "(LBR,Liberia,2440,2440,Monrovia,LBR,850000,LBR,850000)\n",
    "(LBY,Libyan Arab Jamahiriya,2441,2441,Tripoli,LBY,1682000,LBY,1682000)\n",
    "(LCA,Saint Lucia,3065,3065,Castries,LCA,2301,LCA,2301)\n",
    "(LKA,Sri Lanka,3217,3217,Colombo,LKA,645000,LKA,645000)\n",
    "(LSO,Lesotho,2437,2437,Maseru,LSO,297000,LSO,297000)\n",
    "(LTU,Lithuania,2447,2447,Vilnius,LTU,577969,LTU,577969)\n",
    "(LUX,Luxembourg,2452,2452,Luxembourg [Luxemburg/Lëtzebuerg],LUX,80700,LUX,80700)\n",
    "(LVA,Latvia,2434,2434,Riga,LVA,764328,LVA,764328)\n",
    "(MAC,Macao,2454,2454,Macao,MAC,437500,MAC,437500)\n",
    "(MDA,Moldova,2690,2690,Chisinau,MDA,719900,MDA,719900)\n",
    "(MDG,Madagascar,2455,2455,Antananarivo,MDG,675669,MDG,675669)\n",
    "(MDV,Maldives,2463,2463,Male,MDV,71000,MDV,71000)\n",
    "(MEX,Mexico,2515,2515,Ciudad de México,MEX,8591309,MEX,8591309)\n",
    "(MHL,Marshall Islands,2507,2507,Dalap-Uliga-Darrit,MHL,28000,MHL,28000)\n",
    "(MKD,Macedonia,2460,2460,Skopje,MKD,444299,MKD,444299)\n",
    "(MLI,Mali,2482,2482,Bamako,MLI,809552,MLI,809552)\n",
    "(MMR,Myanmar,2710,2710,Rangoon (Yangon),MMR,3361700,MMR,3361700)\n",
    "(MNG,Mongolia,2696,2696,Ulan Bator,MNG,773700,MNG,773700)\n",
    "(MNP,Northern Mariana Islands,2913,2913,Garapan,MNP,9200,MNP,9200)\n",
    "(MOZ,Mozambique,2698,2698,Maputo,MOZ,1018938,MOZ,1018938)\n",
    "(MRT,Mauritania,2509,2509,Nouakchott,MRT,667300,MRT,667300)\n",
    "(MSR,Montserrat,2697,2697,Plymouth,MSR,2000,MSR,2000)\n",
    "(MTQ,Martinique,2508,2508,Fort-de-France,MTQ,94050,MTQ,94050)\n",
    "(MUS,Mauritius,2511,2511,Port-Louis,MUS,138200,MUS,138200)\n",
    "(MYS,Malaysia,2464,2464,Kuala Lumpur,MYS,1297526,MYS,1297526)\n",
    "(MYT,Mayotte,2514,2514,Mamoutzou,MYT,12000,MYT,12000)\n",
    "(NAM,Namibia,2726,2726,Windhoek,NAM,169000,NAM,169000)\n",
    "(NCL,New Caledonia,3493,3493,Nouméa,NCL,76293,NCL,76293)\n",
    "(NER,Niger,2738,2738,Niamey,NER,420000,NER,420000)\n",
    "(NFK,Norfolk Island,2806,2806,Kingston,NFK,800,NFK,800)\n",
    "(NIC,Nicaragua,2734,2734,Managua,NIC,959000,NIC,959000)\n",
    "(NIU,Niue,2805,2805,Alofi,NIU,682,NIU,682)\n",
    "(NLD,Netherlands,5,5,Amsterdam,NLD,731200,NLD,731200)\n",
    "(NOR,Norway,2807,2807,Oslo,NOR,508726,NOR,508726)\n",
    "(NPL,Nepal,2729,2729,Kathmandu,NPL,591835,NPL,591835)\n",
    "(PAN,Panama,2882,2882,Ciudad de Panamá,PAN,471373,PAN,471373)\n",
    "(PCN,Pitcairn,2912,2912,Adamstown,PCN,42,PCN,42)\n",
    "(PER,Peru,2890,2890,Lima,PER,6464693,PER,6464693)\n",
    "(PLW,Palau,2881,2881,Koror,PLW,12000,PLW,12000)\n",
    "(PNG,Papua New Guinea,2884,2884,Port Moresby,PNG,247000,PNG,247000)\n",
    "(POL,Poland,2928,2928,Warszawa,POL,1615369,POL,1615369)\n",
    "(PRI,Puerto Rico,2919,2919,San Juan,PRI,434374,PRI,434374)\n",
    "(PRK,North Korea,2318,2318,Pyongyang,PRK,2484000,PRK,2484000)\n",
    "(PRT,Portugal,2914,2914,Lisboa,PRT,563210,PRT,563210)\n",
    "(PRY,Paraguay,2885,2885,Asunción,PRY,557776,PRY,557776)\n",
    "(PSE,Palestine,4074,4074,Gaza,PSE,353632,PSE,353632)\n",
    "(QAT,Qatar,2973,2973,Doha,QAT,355000,QAT,355000)\n",
    "(REU,Réunion,3017,3017,Saint-Denis,REU,131480,REU,131480)\n",
    "(ROM,Romania,3018,3018,Bucuresti,ROM,2016131,ROM,2016131)\n",
    "(RUS,Russian Federation,3580,3580,Moscow,RUS,8389200,RUS,8389200)\n",
    "(RWA,Rwanda,3047,3047,Kigali,RWA,286000,RWA,286000)\n",
    "(SAU,Saudi Arabia,3173,3173,Riyadh,SAU,3324000,SAU,3324000)\n",
    "(SGP,Singapore,3208,3208,Singapore,SGP,4017733,SGP,4017733)\n",
    "(SHN,Saint Helena,3063,3063,Jamestown,SHN,1500,SHN,1500)\n",
    "(SJM,Svalbard and Jan Mayen,938,938,Longyearbyen,SJM,1438,SJM,1438)\n",
    "(SLB,Solomon Islands,3161,3161,Honiara,SLB,50100,SLB,50100)\n",
    "(SLE,Sierra Leone,3207,3207,Freetown,SLE,850000,SLE,850000)\n",
    "(SLV,El Salvador,645,645,San Salvador,SLV,415346,SLV,415346)\n",
    "(SOM,Somalia,3214,3214,Mogadishu,SOM,997000,SOM,997000)\n",
    "(SPM,Saint Pierre and Miquelon,3067,3067,Saint-Pierre,SPM,5808,SPM,5808)\n",
    "(STP,Sao Tome and Principe,3172,3172,São Tomé,STP,49541,STP,49541)\n",
    "(SUR,Suriname,3243,3243,Paramaribo,SUR,112000,SUR,112000)\n",
    "(SVK,Slovakia,3209,3209,Bratislava,SVK,448292,SVK,448292)\n",
    "(SVN,Slovenia,3212,3212,Ljubljana,SVN,270986,SVN,270986)\n",
    "(SWE,Sweden,3048,3048,Stockholm,SWE,750348,SWE,750348)\n",
    "(SWZ,Swaziland,3244,3244,Mbabane,SWZ,61000,SWZ,61000)\n",
    "(SYC,Seychelles,3206,3206,Victoria,SYC,41000,SYC,41000)\n",
    "(SYR,Syria,3250,3250,Damascus,SYR,1347000,SYR,1347000)\n",
    "(TCA,Turks and Caicos Islands,3423,3423,Cockburn Town,TCA,4800,TCA,4800)\n",
    "(TCD,Chad,3337,3337,N´Djaména,TCD,530965,TCD,530965)\n",
    "(TGO,Togo,3332,3332,Lomé,TGO,375000,TGO,375000)\n",
    "(THA,Thailand,3320,3320,Bangkok,THA,6320174,THA,6320174)\n",
    "(TJK,Tajikistan,3261,3261,Dushanbe,TJK,524000,TJK,524000)\n",
    "(TKL,Tokelau,3333,3333,Fakaofo,TKL,300,TKL,300)\n",
    "(TKM,Turkmenistan,3419,3419,Ashgabat,TKM,540600,TKM,540600)\n",
    "(TMP,East Timor,1522,1522,Dili,TMP,47900,TMP,47900)\n",
    "(TON,Tonga,3334,3334,Nuku´alofa,TON,22400,TON,22400)\n",
    "(TUN,Tunisia,3349,3349,Tunis,TUN,690600,TUN,690600)\n",
    "(TUV,Tuvalu,3424,3424,Funafuti,TUV,4600,TUV,4600)\n",
    "(TWN,Taiwan,3263,3263,Taipei,TWN,2641312,TWN,2641312)\n",
    "(UGA,Uganda,3425,3425,Kampala,UGA,890800,UGA,890800)\n",
    "(UKR,Ukraine,3426,3426,Kyiv,UKR,2624000,UKR,2624000)\n",
    "(URY,Uruguay,3492,3492,Montevideo,URY,1236000,URY,1236000)\n",
    "(UZB,Uzbekistan,3503,3503,Toskent,UZB,2117500,UZB,2117500)\n",
    "(VAT,Holy See (Vatican City State),3538,3538,Città del Vaticano,VAT,455,VAT,455)\n",
    "(VCT,Saint Vincent and the Grenadines,3066,3066,Kingstown,VCT,17100,VCT,17100)\n",
    "(VEN,Venezuela,3539,3539,Caracas,VEN,1975294,VEN,1975294)\n",
    "(VGB,Virgin Islands, British,537,537,Road Town,VGB,8000,VGB,8000)\n",
    "(VIR,Virgin Islands, U.S.,4067,4067,Charlotte Amalie,VIR,13000,VIR,13000)\n",
    "(VUT,Vanuatu,3537,3537,Port-Vila,VUT,33700,VUT,33700)\n",
    "(WLF,Wallis and Futuna,3536,3536,Mata-Utu,WLF,1137,WLF,1137)\n",
    "(WSM,Samoa,3169,3169,Apia,WSM,35900,WSM,35900)\n",
    "(YEM,Yemen,1780,1780,Sanaa,YEM,503600,YEM,503600)\n",
    "(YUG,Yugoslavia,1792,1792,Beograd,YUG,1204000,YUG,1204000)\n",
    "(ZMB,Zambia,3162,3162,Lusaka,ZMB,1317000,ZMB,1317000)\n",
    "(ZWE,Zimbabwe,4068,4068,Harare,ZWE,1410000,ZWE,1410000)\n",
    "```"
   ]
  },
  {
   "cell_type": "code",
   "execution_count": null,
   "metadata": {},
   "outputs": [],
   "source": []
  },
  {
   "cell_type": "code",
   "execution_count": null,
   "metadata": {},
   "outputs": [],
   "source": [
    "pass1=\n",
    "solution=$(cat ~/crypt/pig_example.crypt | openssl enc -md sha256 -aes-128-cbc -a -d -salt -pass pass:$pass1 2> /dev/null)\n",
    "echo \"$solution\"; echo\n",
    "for l in \"$solution\"; do eval \"${l}\"; done"
   ]
  },
  {
   "cell_type": "code",
   "execution_count": null,
   "metadata": {},
   "outputs": [],
   "source": []
  }
 ],
 "metadata": {
  "kernelspec": {
   "display_name": "Bash",
   "language": "bash",
   "name": "bash"
  },
  "language_info": {
   "codemirror_mode": "shell",
   "file_extension": ".sh",
   "mimetype": "text/x-sh",
   "name": "bash"
  },
  "toc": {
   "base_numbering": 1,
   "nav_menu": {},
   "number_sections": true,
   "sideBar": true,
   "skip_h1_title": false,
   "title_cell": "Table of Contents",
   "title_sidebar": "Contents",
   "toc_cell": false,
   "toc_position": {
    "height": "calc(100% - 180px)",
    "left": "10px",
    "top": "150px",
    "width": "384px"
   },
   "toc_section_display": "block",
   "toc_window_display": true
  }
 },
 "nbformat": 4,
 "nbformat_minor": 2
}
