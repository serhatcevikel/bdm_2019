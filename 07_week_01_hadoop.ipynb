{
 "cells": [
  {
   "cell_type": "markdown",
   "metadata": {},
   "source": [
    "# HADOOP ECOSYSTEM CONTINUED"
   ]
  },
  {
   "cell_type": "markdown",
   "metadata": {},
   "source": [
    "First, let's start the daemons again:\n",
    "\n",
    "First ssh:"
   ]
  },
  {
   "cell_type": "code",
   "execution_count": null,
   "metadata": {},
   "outputs": [],
   "source": [
    "/usr/sbin/sshd"
   ]
  },
  {
   "cell_type": "code",
   "execution_count": null,
   "metadata": {},
   "outputs": [],
   "source": [
    "netstat -tulpn | grep 22"
   ]
  },
  {
   "cell_type": "markdown",
   "metadata": {},
   "source": [
    "And then hdfs:"
   ]
  },
  {
   "cell_type": "code",
   "execution_count": null,
   "metadata": {},
   "outputs": [],
   "source": [
    "start-dfs.sh 2> /dev/null"
   ]
  },
  {
   "cell_type": "markdown",
   "metadata": {},
   "source": [
    "And yarn:"
   ]
  },
  {
   "cell_type": "code",
   "execution_count": null,
   "metadata": {},
   "outputs": [],
   "source": [
    "start-yarn.sh 2> /dev/null"
   ]
  },
  {
   "cell_type": "markdown",
   "metadata": {},
   "source": [
    "And the job history server (so that PIG does not complain that the server does not respond):"
   ]
  },
  {
   "cell_type": "code",
   "execution_count": null,
   "metadata": {},
   "outputs": [],
   "source": [
    "mr-jobhistory-daemon.sh --config $HADOOP_CONF_DIR start historyserver 2> /dev/null"
   ]
  },
  {
   "cell_type": "markdown",
   "metadata": {},
   "source": [
    "Check whether hdfs and yarn daemons are running:"
   ]
  },
  {
   "cell_type": "code",
   "execution_count": null,
   "metadata": {},
   "outputs": [],
   "source": [
    "jps"
   ]
  },
  {
   "cell_type": "markdown",
   "metadata": {},
   "source": [
    "Check the status of hdfs:"
   ]
  },
  {
   "cell_type": "code",
   "execution_count": null,
   "metadata": {},
   "outputs": [],
   "source": [
    "hdfs dfsadmin -report 2> /dev/null"
   ]
  },
  {
   "cell_type": "markdown",
   "metadata": {},
   "source": [
    "And if hdfs is in safemode, stop safemode:"
   ]
  },
  {
   "cell_type": "code",
   "execution_count": null,
   "metadata": {},
   "outputs": [],
   "source": [
    "hdfs dfsadmin -safemode leave 2> /dev/null"
   ]
  },
  {
   "cell_type": "markdown",
   "metadata": {},
   "source": [
    "And start postgresql:"
   ]
  },
  {
   "cell_type": "code",
   "execution_count": null,
   "metadata": {},
   "outputs": [],
   "source": [
    "/usr/lib/postgresql/11/bin/pg_ctl start -D /etc/postgresql/11/main/ -m smart"
   ]
  },
  {
   "cell_type": "code",
   "execution_count": null,
   "metadata": {},
   "outputs": [],
   "source": [
    "psql -U postgres -d imdb2 -c \"\\dt+\""
   ]
  },
  {
   "cell_type": "markdown",
   "metadata": {},
   "source": [
    "## HIVE"
   ]
  },
  {
   "cell_type": "markdown",
   "metadata": {},
   "source": [
    "Hive is a data warehouse system and MapReduce wrapper that presents an SQL interface. So SQL programmers feel at home through Hive in the Hadoop Ecosystem, without writing MapReduce jobs explicitly"
   ]
  },
  {
   "cell_type": "markdown",
   "metadata": {},
   "source": [
    "First start the metastore, the central repository to store metadata for hive tables:\n",
    "\n",
    "You should rerun this if the hive or pig commands return an error saying that \"thrift server does not respond\""
   ]
  },
  {
   "cell_type": "code",
   "execution_count": null,
   "metadata": {},
   "outputs": [],
   "source": [
    "hive --service metastore &"
   ]
  },
  {
   "cell_type": "markdown",
   "metadata": {},
   "source": [
    "And check whether the service is listening on its port:"
   ]
  },
  {
   "cell_type": "code",
   "execution_count": null,
   "metadata": {},
   "outputs": [],
   "source": [
    "netstat -an | grep 9083"
   ]
  },
  {
   "cell_type": "markdown",
   "metadata": {},
   "source": [
    "### IMPORT DATA WITH SQOOP"
   ]
  },
  {
   "cell_type": "markdown",
   "metadata": {},
   "source": [
    "Sqoop can import the data as Hive tables with \"--hive-import --create-hive-table\" flags"
   ]
  },
  {
   "cell_type": "markdown",
   "metadata": {},
   "source": [
    "First flush the directory for default import location:"
   ]
  },
  {
   "cell_type": "code",
   "execution_count": null,
   "metadata": {},
   "outputs": [],
   "source": [
    "hdfs dfs -rm -r /user/jovyan/title_ratings/ 2> /dev/null"
   ]
  },
  {
   "cell_type": "code",
   "execution_count": null,
   "metadata": {},
   "outputs": [],
   "source": [
    "sqoop import \\\n",
    "--connect jdbc:postgresql://localhost:5432/imdb2 \\\n",
    "--username postgres \\\n",
    "--table title_ratings \\\n",
    "--hive-import --create-hive-table --direct \\\n",
    "2> /dev/null"
   ]
  },
  {
   "cell_type": "markdown",
   "metadata": {},
   "source": [
    "And view the imported file:"
   ]
  },
  {
   "cell_type": "code",
   "execution_count": null,
   "metadata": {},
   "outputs": [],
   "source": [
    "hdfs dfs -find / -name \"title*ratings\" 2> /dev/null"
   ]
  },
  {
   "cell_type": "code",
   "execution_count": null,
   "metadata": {},
   "outputs": [],
   "source": [
    "hdfs dfs -ls /user/hive/warehouse/ 2> /dev/null"
   ]
  },
  {
   "cell_type": "markdown",
   "metadata": {},
   "source": [
    "And let's check from hive whether files are imported:"
   ]
  },
  {
   "cell_type": "code",
   "execution_count": null,
   "metadata": {},
   "outputs": [],
   "source": [
    "hive -e 'show tables' 2> /dev/null"
   ]
  },
  {
   "cell_type": "markdown",
   "metadata": {},
   "source": [
    "Let's try to read the file:"
   ]
  },
  {
   "cell_type": "code",
   "execution_count": null,
   "metadata": {},
   "outputs": [],
   "source": [
    "hdfs dfs -cat /user/hive/warehouse/title_ratings/* 2> /dev/null | head"
   ]
  },
  {
   "cell_type": "markdown",
   "metadata": {},
   "source": [
    "If we want to delete the table, we do it from the hive command, not by manually deleting the file:"
   ]
  },
  {
   "cell_type": "code",
   "execution_count": null,
   "metadata": {},
   "outputs": [],
   "source": [
    "hive -e 'drop table title_ratings' 2> /dev/null"
   ]
  },
  {
   "cell_type": "markdown",
   "metadata": {},
   "source": [
    "And cheeck again whether the table is delted:"
   ]
  },
  {
   "cell_type": "code",
   "execution_count": null,
   "metadata": {},
   "outputs": [],
   "source": [
    "hive -e 'show tables' 2> /dev/null"
   ]
  },
  {
   "cell_type": "code",
   "execution_count": null,
   "metadata": {},
   "outputs": [],
   "source": [
    "hdfs dfs -ls /user/hive/warehouse/ 2> /dev/null"
   ]
  },
  {
   "cell_type": "markdown",
   "metadata": {},
   "source": [
    "Let's import title_ratings again for further commands:"
   ]
  },
  {
   "cell_type": "code",
   "execution_count": null,
   "metadata": {},
   "outputs": [],
   "source": [
    "hdfs dfs -rm -r /user/jovyan/title_ratings/ 2> /dev/null"
   ]
  },
  {
   "cell_type": "code",
   "execution_count": null,
   "metadata": {},
   "outputs": [],
   "source": [
    "sqoop import \\\n",
    "--connect jdbc:postgresql://localhost:5432/imdb2 \\\n",
    "--username postgres \\\n",
    "--table title_ratings \\\n",
    "--hive-import --create-hive-table --direct \\\n",
    "2> /dev/null"
   ]
  },
  {
   "cell_type": "markdown",
   "metadata": {},
   "source": [
    "And check again:"
   ]
  },
  {
   "cell_type": "code",
   "execution_count": null,
   "metadata": {},
   "outputs": [],
   "source": [
    "hive -e 'show tables' 2> /dev/null"
   ]
  },
  {
   "cell_type": "markdown",
   "metadata": {},
   "source": [
    "### A SQOOP TO HIVE IMPORT EXERCISE"
   ]
  },
  {
   "cell_type": "markdown",
   "metadata": {},
   "source": [
    "Now you'll import a postgresql database into hdfs as text files and hive tables"
   ]
  },
  {
   "cell_type": "markdown",
   "metadata": {},
   "source": [
    "Now you'll \n",
    "- first import a publicly available sql dump into postgresql\n",
    "- Then import the postgresql database into hdfs as text files and hive tables"
   ]
  },
  {
   "cell_type": "markdown",
   "metadata": {},
   "source": [
    "The database is \"World\", containing list of cities, countries and languages. The link is\n",
    "\n",
    "https://ftp.postgresql.org/pub/projects/pgFoundry/dbsamples/world/world-1.0/world-1.0.tar.gz"
   ]
  },
  {
   "cell_type": "markdown",
   "metadata": {},
   "source": [
    "There are other sample databases following the links:\n",
    "\n",
    "http://pgfoundry.org/projects/dbsamples\n",
    "\n",
    "https://wiki.postgresql.org/wiki/Sample_Databases"
   ]
  },
  {
   "cell_type": "markdown",
   "metadata": {},
   "source": [
    "First download the file"
   ]
  },
  {
   "cell_type": "code",
   "execution_count": null,
   "metadata": {},
   "outputs": [],
   "source": [
    "wget https://ftp.postgresql.org/pub/projects/pgFoundry/dbsamples/world/world-1.0/world-1.0.tar.gz"
   ]
  },
  {
   "cell_type": "markdown",
   "metadata": {},
   "source": [
    "And extract the archive:"
   ]
  },
  {
   "cell_type": "code",
   "execution_count": null,
   "metadata": {},
   "outputs": [],
   "source": [
    "tar -xzvf world-1.0.tar.gz"
   ]
  },
  {
   "cell_type": "markdown",
   "metadata": {},
   "source": [
    "Create a new database at postgresql:"
   ]
  },
  {
   "cell_type": "code",
   "execution_count": null,
   "metadata": {},
   "outputs": [],
   "source": [
    "createdb -U postgres world2"
   ]
  },
  {
   "cell_type": "markdown",
   "metadata": {},
   "source": [
    "And import the dump into the database:"
   ]
  },
  {
   "cell_type": "code",
   "execution_count": null,
   "metadata": {},
   "outputs": [],
   "source": [
    "psql -U postgres world2 < dbsamples-0.1/world/world.sql"
   ]
  },
  {
   "cell_type": "markdown",
   "metadata": {},
   "source": [
    "View the tables:"
   ]
  },
  {
   "cell_type": "code",
   "execution_count": null,
   "metadata": {},
   "outputs": [],
   "source": [
    "psql -U postgres -d world2 -c \"\\dt\""
   ]
  },
  {
   "cell_type": "markdown",
   "metadata": {},
   "source": [
    "If you've missed the steps, no worry. There is already a copy of the database named **world** in postgresql. We can query it"
   ]
  },
  {
   "cell_type": "markdown",
   "metadata": {},
   "source": [
    "View the tables:"
   ]
  },
  {
   "cell_type": "code",
   "execution_count": null,
   "metadata": {},
   "outputs": [],
   "source": [
    "psql -U postgres -d world -c \"\\dt\""
   ]
  },
  {
   "cell_type": "markdown",
   "metadata": {},
   "source": [
    "And view the fields of the tables:"
   ]
  },
  {
   "cell_type": "code",
   "execution_count": null,
   "metadata": {},
   "outputs": [],
   "source": [
    "psql -U postgres -d world -c \"\\d+ public.*\""
   ]
  },
  {
   "cell_type": "markdown",
   "metadata": {},
   "source": [
    "And view some of the rows of the tables:"
   ]
  },
  {
   "cell_type": "code",
   "execution_count": null,
   "metadata": {},
   "outputs": [],
   "source": [
    "psql -U postgres -d world -c \"select * from city limit 10\""
   ]
  },
  {
   "cell_type": "code",
   "execution_count": null,
   "metadata": {},
   "outputs": [],
   "source": [
    "psql -U postgres -d world -c \"select * from country limit 10\""
   ]
  },
  {
   "cell_type": "code",
   "execution_count": null,
   "metadata": {},
   "outputs": [],
   "source": [
    "psql -U postgres -d world -c \"select * from countrylanguage limit 10\""
   ]
  },
  {
   "cell_type": "markdown",
   "metadata": {},
   "source": [
    "We may also view its entity relationship diagram:"
   ]
  },
  {
   "cell_type": "markdown",
   "metadata": {},
   "source": [
    "![aa](world_erd.png)"
   ]
  },
  {
   "cell_type": "markdown",
   "metadata": {},
   "source": [
    "And let's import into hive:"
   ]
  },
  {
   "cell_type": "markdown",
   "metadata": {},
   "source": [
    "First get the list of tables:"
   ]
  },
  {
   "cell_type": "code",
   "execution_count": null,
   "metadata": {},
   "outputs": [],
   "source": [
    "tables=$(psql -U postgres -d world -t --pset=\"border=0\" -c \"\\dt\" | \\\n",
    "awk -F \" \" '{ print $2 }')"
   ]
  },
  {
   "cell_type": "code",
   "execution_count": null,
   "metadata": {},
   "outputs": [],
   "source": [
    "echo \"$tables\""
   ]
  },
  {
   "cell_type": "markdown",
   "metadata": {},
   "source": [
    "Create a hive database to import into:"
   ]
  },
  {
   "cell_type": "code",
   "execution_count": null,
   "metadata": {},
   "outputs": [],
   "source": [
    "hive -e \"create database world\" 2> /dev/null"
   ]
  },
  {
   "cell_type": "markdown",
   "metadata": {},
   "source": [
    "And import each table in the postgresql database into hive database:"
   ]
  },
  {
   "cell_type": "code",
   "execution_count": null,
   "metadata": {},
   "outputs": [],
   "source": [
    "echo \"$tables\" | while read l;\n",
    "do\n",
    "    sqoop import \\\n",
    "    --connect jdbc:postgresql://localhost:5432/world \\\n",
    "    --username postgres \\\n",
    "    --table $l \\\n",
    "    --hive-import \\\n",
    "    --create-hive-table \\\n",
    "    --hive-table world.$l \\\n",
    "    --direct \\\n",
    "    2> /dev/null\n",
    "done"
   ]
  },
  {
   "cell_type": "markdown",
   "metadata": {},
   "source": [
    "### HIVE OPERATIONS"
   ]
  },
  {
   "cell_type": "markdown",
   "metadata": {},
   "source": [
    "First show tables:"
   ]
  },
  {
   "cell_type": "code",
   "execution_count": null,
   "metadata": {},
   "outputs": [],
   "source": [
    "hive -e \"show tables\" 2> /dev/null"
   ]
  },
  {
   "cell_type": "markdown",
   "metadata": {},
   "source": [
    "Show tables in world database:"
   ]
  },
  {
   "cell_type": "code",
   "execution_count": null,
   "metadata": {},
   "outputs": [],
   "source": [
    "hive -e \"show tables in world\" 2> /dev/null"
   ]
  },
  {
   "cell_type": "markdown",
   "metadata": {},
   "source": [
    "Then let's create a database from hive:"
   ]
  },
  {
   "cell_type": "code",
   "execution_count": null,
   "metadata": {},
   "outputs": [],
   "source": [
    "hive -e \"create database deneme\" 2> /dev/null"
   ]
  },
  {
   "cell_type": "markdown",
   "metadata": {},
   "source": [
    "List the databases:"
   ]
  },
  {
   "cell_type": "code",
   "execution_count": null,
   "metadata": {},
   "outputs": [],
   "source": [
    "hive -e \"show databases\" 2> /dev/null"
   ]
  },
  {
   "cell_type": "markdown",
   "metadata": {},
   "source": [
    "Delete deneme database:"
   ]
  },
  {
   "cell_type": "code",
   "execution_count": null,
   "metadata": {},
   "outputs": [],
   "source": [
    "hive -e \"drop database deneme\" 2> /dev/null"
   ]
  },
  {
   "cell_type": "markdown",
   "metadata": {},
   "source": [
    "And let's run a simple query inside a hive database:"
   ]
  },
  {
   "cell_type": "code",
   "execution_count": null,
   "metadata": {},
   "outputs": [],
   "source": [
    "hive -e \"select * from title_ratings limit 1;\"  2> /dev/null"
   ]
  },
  {
   "cell_type": "markdown",
   "metadata": {},
   "source": [
    "Now that we have a hive database on hdfs, similar to our postgresql database, we can run similar queries"
   ]
  },
  {
   "cell_type": "markdown",
   "metadata": {},
   "source": [
    "In fact, under the hood, Hive converts the HiveQL query to a series of map reduce jobs\n",
    "\n",
    "The plan of the conversion can be viewed by prefixing the statement with \"explain\""
   ]
  },
  {
   "cell_type": "code",
   "execution_count": null,
   "metadata": {},
   "outputs": [],
   "source": [
    "hive -e \"explain\n",
    "select * from title_ratings limit 1;\" \\\n",
    "2> /dev/null"
   ]
  },
  {
   "cell_type": "markdown",
   "metadata": {},
   "source": [
    "Hive is suitable for simpler queries. However as the queries get more complex and need a clearer definition of the dataflow, we should revert to a tool such as Pig"
   ]
  },
  {
   "cell_type": "markdown",
   "metadata": {},
   "source": [
    "**Exercise 1:**"
   ]
  },
  {
   "cell_type": "markdown",
   "metadata": {},
   "source": [
    "Please:\n",
    "- Create an imdb database in hive\n",
    "- Import the first 10.000 rows of title_episode table from imdb2 database on postgresql into imdb database in hive\n",
    "- Check the the table is imported\n",
    "\n",
    "Note that:\n",
    "- You should use the **--query** argument with the sqoop (check Session 6 notebook)\n",
    "- When you use **--query**, you cannot use **--table** argument at the same time\n",
    "- When you use **--query**, you also have to specify a temporary import directory with the **--target-dir** option (it should be a non-existent directory)\n",
    "- You should add \"WHERE \\\\\\\\$CONDITIONS\" to your query in sqoop"
   ]
  },
  {
   "cell_type": "code",
   "execution_count": null,
   "metadata": {},
   "outputs": [],
   "source": []
  },
  {
   "cell_type": "code",
   "execution_count": null,
   "metadata": {},
   "outputs": [],
   "source": [
    "pass1=\n",
    "solution=$(cat ~/crypt/sqoop_to_hive.crypt | openssl enc -md sha256 -aes-128-cbc -a -d -salt -pass pass:$pass1 2> /dev/null)\n",
    "echo \"$solution\"; echo\n",
    "for l in \"$solution\"; do eval \"${l}\"; done"
   ]
  },
  {
   "cell_type": "markdown",
   "metadata": {},
   "source": [
    "### A HIVE EXERCISE WITH WORLD DATABASE"
   ]
  },
  {
   "cell_type": "markdown",
   "metadata": {},
   "source": [
    "See the tables in the world database:"
   ]
  },
  {
   "cell_type": "code",
   "execution_count": null,
   "metadata": {
    "scrolled": true
   },
   "outputs": [],
   "source": [
    "hive -e \"show tables in world\" 2> /dev/null"
   ]
  },
  {
   "cell_type": "markdown",
   "metadata": {},
   "source": [
    "In order get information about tables, you can run:"
   ]
  },
  {
   "cell_type": "code",
   "execution_count": null,
   "metadata": {},
   "outputs": [],
   "source": [
    "hive -e \"show create table world.city;\" 2> /dev/null"
   ]
  },
  {
   "cell_type": "markdown",
   "metadata": {},
   "source": [
    "The output will return information on the schema (column names and types), file type and size information"
   ]
  },
  {
   "cell_type": "markdown",
   "metadata": {},
   "source": [
    "You can repeat it for other tables in the database"
   ]
  },
  {
   "cell_type": "markdown",
   "metadata": {},
   "source": [
    "Now let's run a very simple query:"
   ]
  },
  {
   "cell_type": "code",
   "execution_count": null,
   "metadata": {},
   "outputs": [],
   "source": [
    "hive -e \"use world;\n",
    "select * from country limit 1;\" 2> /dev/null"
   ]
  },
  {
   "cell_type": "markdown",
   "metadata": {},
   "source": [
    "Now let's run a query to see the average lifeexpantancy of all countries:"
   ]
  },
  {
   "cell_type": "code",
   "execution_count": null,
   "metadata": {},
   "outputs": [],
   "source": [
    "hive -e \"use world;\n",
    "select avg(lifeexpectancy) from country limit 10;\" 2> /dev/null"
   ]
  },
  {
   "cell_type": "markdown",
   "metadata": {},
   "source": [
    "Now the next task is:\n",
    "\n",
    "- get the names (from country table) of the countries, official languages (from country languages) of which include english "
   ]
  },
  {
   "cell_type": "markdown",
   "metadata": {},
   "source": [
    "You should get:"
   ]
  },
  {
   "cell_type": "markdown",
   "metadata": {},
   "source": [
    "```mysql\n",
    "OK\n",
    "American Samoa\n",
    "Anguilla\n",
    "Antigua and Barbuda\n",
    "Australia\n",
    "Barbados\n",
    "Belize\n",
    "Bermuda\n",
    "United Kingdom\n",
    "Virgin Islands, British\n",
    "Cayman Islands\n",
    "South Africa\n",
    "Falkland Islands\n",
    "Gibraltar\n",
    "Guam\n",
    "Hong Kong\n",
    "Ireland\n",
    "Christmas Island\n",
    "Canada\n",
    "Cocos (Keeling) Islands\n",
    "Lesotho\n",
    "Malta\n",
    "Marshall Islands\n",
    "Montserrat\n",
    "Nauru\n",
    "Niue\n",
    "Norfolk Island\n",
    "Palau\n",
    "Northern Mariana Islands\n",
    "Saint Helena\n",
    "Saint Kitts and Nevis\n",
    "Saint Lucia\n",
    "Saint Vincent and the Grenadines\n",
    "Samoa\n",
    "Seychelles\n",
    "Tokelau\n",
    "Tonga\n",
    "Turks and Caicos Islands\n",
    "Tuvalu\n",
    "New Zealand\n",
    "Vanuatu\n",
    "United States\n",
    "Virgin Islands, U.S.\n",
    "Zimbabwe\n",
    "United States Minor Outlying Islands\n",
    "Time taken: 11.424 seconds, Fetched: 44 row(s)\n",
    "```"
   ]
  },
  {
   "cell_type": "code",
   "execution_count": null,
   "metadata": {},
   "outputs": [],
   "source": [
    "hive -e \"use world;\n",
    "select c.name from country c left join\n",
    "countrylanguage l on c.code=l.countrycode\n",
    "where l.isofficial = true\n",
    "and l.language = 'English';\"  2> /dev/null"
   ]
  },
  {
   "cell_type": "markdown",
   "metadata": {},
   "source": [
    "**Exercise 2:**\n",
    "\n",
    "Query world database in hive such that:\n",
    "- The query should report names of countries and its capital cities and also the proportion of the population of the capital to the country as capshare\n",
    "- country table should be left joined to city table. Check the ER diagram above again\n",
    "- filter for countries with population above 0\n",
    "- order by descending capshare\n",
    "\n",
    "You can first try your query on postgresql server's world database\n",
    "\n",
    "The result should be:"
   ]
  },
  {
   "cell_type": "markdown",
   "metadata": {},
   "source": [
    "```Bash\n",
    "Singapore                              Singapore                          112.63619287917017\n",
    "Gibraltar                              Gibraltar                          108.1\n",
    "Macao                                  Macao                              92.49471458773785\n",
    "Pitcairn                               Adamstown                          84.0\n",
    "Saint Pierre and Miquelon              Saint-Pierre                       82.97142857142858\n",
    "Falkland Islands                       Stanley                            81.8\n",
    "Palau                                  Koror                              63.1578947368421\n",
    "Djibouti                               Djibouti                           60.03134796238245\n",
    "Cook Islands                           Avarua                             59.5\n",
    "Qatar                                  Doha                               59.26544240400668\n",
    "Western Sahara                         El-Aaiún                           57.67918088737201\n",
    "Bahamas                                Nassau                             56.02605863192182\n",
    "Seychelles                             Victoria                           53.246753246753244\n",
    "Cayman Islands                         George Town                        51.578947368421055\n",
    "Holy See (Vatican City State)          Città del Vaticano                 45.5\n",
    "Svalbard and Jan Mayen                 Longyearbyen                       44.9375\n",
    "Marshall Islands                       Dalap-Uliga-Darrit                 43.75\n",
    "Norfolk Island                         Kingston                           40.0\n",
    "Iceland                                Reykjavík                          39.13405017921147\n",
    "Tuvalu                                 Funafuti                           38.333333333333336\n",
    "Virgin Islands, British                Road Town                          38.095238095238095\n",
    "Uruguay                                Montevideo                         37.03925681750075\n",
    "New Caledonia                          Nouméa                             35.65093457943925\n",
    "Armenia                                Yerevan                            35.47443181818182\n",
    "Antigua and Barbuda                    Saint John´s                       35.294117647058826\n",
    "Gabon                                  Libreville                         34.176182707993476\n",
    "Niue                                   Alofi                              34.1\n",
    "Faroe Islands                          Tórshavn                           33.818604651162794\n",
    "Sao Tome and Principe                  São Tomé                           33.701360544217685\n",
    "Lebanon                                Beirut                             33.516148689823275\n",
    "Congo                                  Brazzaville                        32.27998640842677\n",
    "Latvia                                 Riga                               31.529081758930783\n",
    "Chile                                  Santiago de Chile                  30.92468608244034\n",
    "Saint Kitts and Nevis                  Basseterre                         30.526315789473685\n",
    "Libyan Arab Jamahiriya                 Tripoli                            30.008920606601247\n",
    "Guyana                                 Georgetown                         29.500580720092916\n",
    "Mongolia                               Ulan Bator                         29.064613072877535\n",
    "Turks and Caicos Islands               Cockburn Town                      28.235294117647058\n",
    "Aruba                                  Oranjestad                         28.188349514563107\n",
    "Estonia                                Tallinn                            28.069830461367427\n",
    "French Guiana                          Cayenne                            28.010497237569062\n",
    "Christmas Island                       Flying Fish Cove                   28.0\n",
    "Cocos (Keeling) Islands                West Island                        27.833333333333332\n",
    "Andorra                                Andorra la Vella                   27.165384615384614\n",
    "Liberia                                Monrovia                           26.94990488268865\n",
    "Suriname                               Paramaribo                         26.85851318944844\n",
    "Cyprus                                 Nicosia                            25.83808135683053\n",
    "Peru                                   Lima                               25.19169589275972\n",
    "Saint Helena                           Jamestown                          25.0\n",
    "Mauritania                             Nouakchott                         24.99250936329588\n",
    "Georgia                                Tbilisi                            24.863123993558776\n",
    "Maldives                               Male                               24.825174825174827\n",
    "Greenland                              Nuuk                               24.008928571428573\n",
    "Bahrain                                al-Manama                          23.987034035656404\n",
    "Martinique                             Fort-de-France                     23.810126582278482\n",
    "Azerbaijan                             Baku                               23.116110680113785\n",
    "Dominica                               Roseau                             22.877464788732393\n",
    "Tonga                                  Nuku´alofa                         22.626262626262626\n",
    "Cape Verde                             Praia                              22.149532710280372\n",
    "Macedonia                              Skopje                             21.95153162055336\n",
    "South Korea                            Seoul                              21.308212364443687\n",
    "Cuba                                   La Habana                          20.141058834032677\n",
    "Samoa                                  Apia                               19.944444444444443\n",
    "Austria                                Wien                               19.87374873328555\n",
    "Guinea-Bissau                          Bissau                             19.868095630667767\n",
    "Jordan                                 Amman                              19.673421207948063\n",
    "Hong Kong                              Victoria                           19.354718372161603\n",
    "Dominican Republic                     Santo Domingo de Guzmán            18.951924661565627\n",
    "Nicaragua                              Managua                            18.900275916436737\n",
    "Réunion                                Saint-Denis                        18.80972818311874\n",
    "Iraq                                   Baghdad                            18.758382003028338\n",
    "Luxembourg                             Luxembourg [Luxemburg/Lëtzebuerg]  18.521918751434473\n",
    "Montserrat                             Plymouth                           18.181818181818183\n",
    "Hungary                                Budapest                           18.03759757846105\n",
    "Vanuatu                                Port-Vila                          17.736842105263158\n",
    "Sierra Leone                           Freetown                           17.511330861145446\n",
    "Panama                                 Ciudad de Panamá                   16.504656862745097\n",
    "Moldova                                Chisinau                           16.43607305936073\n",
    "Belarus                                Minsk                              16.354044548651817\n",
    "United Arab Emirates                   Abu Dhabi                          16.3332650553052\n",
    "Croatia                                Zagreb                             15.800804828973844\n",
    "Angola                                 Luanda                             15.701195837863022\n",
    "Lithuania                              Vilnius                            15.627119102338787\n",
    "Liechtenstein                          Vaduz                              15.613003095975232\n",
    "Saudi Arabia                           Riyadh                             15.383903364650346\n",
    "Tokelau                                Fakaofo                            15.0\n",
    "Saint Vincent and the Grenadines       Kingstown                          15.0\n",
    "Colombia                               Santafé de Bogotá                  14.793747784787694\n",
    "Guinea                                 Conakry                            14.678465679676986\n",
    "Central African Republic               Bangui                             14.495159059474412\n",
    "Zambia                                 Lusaka                             14.36361653397317\n",
    "Virgin Islands, U.S.                   Charlotte Amalie                   13.978494623655914\n",
    "Lesotho                                Maseru                             13.794705062703205\n",
    "Bulgaria                               Sofija                             13.701815429317902\n",
    "Slovenia                               Ljubljana                          13.632457993761948\n",
    "Botswana                               Gaborone                           13.132983970406904\n",
    "Ireland                                Dublin                             12.764006251490027\n",
    "Honduras                               Tegucigalpa                        12.550501156515034\n",
    "Kyrgyzstan                             Bishkek                            12.54309427537774\n",
    "Ecuador                                Quito                              12.44233749802309\n",
    "United Kingdom                         London                             12.218357222164451\n",
    "Turkmenistan                           Ashgabat                           12.123794572774164\n",
    "Zimbabwe                               Harare                             12.083297626189047\n",
    "Mauritius                              Port-Louis                         11.934369602763384\n",
    "Taiwan                                 Taipei                             11.867864845434939\n",
    "Northern Mariana Islands               Garapan                            11.794871794871796\n",
    "Czech Republic                         Praha                              11.491676477169905\n",
    "Palestine                              Gaza                               11.403805224121252\n",
    "Norway                                 Oslo                               11.359294406609356\n",
    "Yugoslavia                             Beograd                            11.31578947368421\n",
    "Solomon Islands                        Honiara                            11.283783783783784\n",
    "Puerto Rico                            San Juan                           11.22703540966658\n",
    "Eritrea                                Asmara                             11.194805194805195\n",
    "French Polynesia                       Papeete                            10.873617021276596\n",
    "Haiti                                  Port-au-Prince                     10.757382631963026\n",
    "Finland                                Helsinki [Helsingfors]             10.741476998046913\n",
    "North Korea                            Pyongyang                          10.33320853612879\n",
    "Thailand                               Bangkok                            10.293610645124513\n",
    "Israel                                 Jerusalem                          10.193019141064822\n",
    "Paraguay                               Asunción                           10.148762736535662\n",
    "Iran                                   Teheran                            9.98322796963162\n",
    "Egypt                                  Cairo                              9.91599094493939\n",
    "Somalia                                Mogadishu                          9.87422006536595\n",
    "Congo, The Democratic Republic of the  Kinshasa                           9.80369380880474\n",
    "Namibia                                Windhoek                           9.791425260718425\n",
    "Laos                                   Vientiane                          9.788330572427757\n",
    "Fiji Islands                           Suva                               9.46952264381885\n",
    "Denmark                                København                          9.300168855534709\n",
    "Bolivia                                La Paz                             9.10242526113579\n",
    "Cameroon                               Yaoundé                            9.100430891614186\n",
    "Bosnia and Herzegovina                 Sarajevo                           9.06344410876133\n",
    "Romania                                Bucuresti                          8.97833938233395\n",
    "Equatorial Guinea                      Malabo                             8.830022075055188\n",
    "Uzbekistan                             Toskent                            8.707541738629821\n",
    "Mexico                                 Ciudad de México                   8.688533692013632\n",
    "San Marino                             San Marino                         8.496296296296297\n",
    "Tajikistan                             Dushanbe                           8.468002585649645\n",
    "Sweden                                 Stockholm                          8.467601056266505\n",
    "Costa Rica                             San José                           8.429803629132488\n",
    "Syria                                  Damascus                           8.353488372093024\n",
    "Slovakia                               Bratislava                         8.303702743253005\n",
    "Senegal                                Dakar                              8.280466195548993\n",
    "Venezuela                              Caracas                            8.172503103020274\n",
    "Togo                                   Lomé                               8.101101749837978\n",
    "Mayotte                                Mamoutzou                          8.053691275167786\n",
    "Argentina                              Buenos Aires                       8.052889392957443\n",
    "Albania                                Tirana                             7.9383746912854285\n",
    "Afghanistan                            Kabul                              7.834507042253521\n",
    "Kenya                                  Nairobi                            7.613031914893617\n",
    "Wallis and Futuna                      Mata-Utu                           7.58\n",
    "Anguilla                               The Valley                         7.4375\n",
    "Myanmar                                Rangoon (Yangon)                   7.370371182390213\n",
    "Greece                                 Athenai                            7.321202006505021\n",
    "Spain                                  Madrid                             7.29951295202793\n",
    "Guatemala                              Ciudad de Guatemala                7.231453667105841\n",
    "Micronesia, Federated States of        Palikir                            7.226890756302521\n",
    "Mali                                   Bamako                             7.206266690404131\n",
    "Tunisia                                Tunis                              7.204256206968496\n",
    "Chad                                   N´Djaména                          6.939811789308587\n",
    "Burkina Faso                           Ouagadougou                        6.90290692803887\n",
    "Algeria                                Alger                              6.888881827714404\n",
    "El Salvador                            San Salvador                       6.6180050987890375\n",
    "Brunei                                 Bandar Seri Begawan                6.55\n",
    "Japan                                  Tokyo                              6.297828179995896\n",
    "Comoros                                Moroni                             6.228373702422146\n",
    "Swaziland                              Mbabane                            6.051587301587301\n",
    "Malaysia                               Kuala Lumpur                       5.8331505124977525\n",
    "Russian Federation                     Moscow                             5.709502225488995\n",
    "Portugal                               Lisboa                             5.633452028486837\n",
    "East Timor                             Dili                               5.4124293785310735\n",
    "Ghana                                  Accra                              5.293884820898477\n",
    "Ukraine                                Kyiv                               5.200570794355478\n",
    "Mozambique                             Maputo                             5.177530487804878\n",
    "Papua New Guinea                       Port Moresby                       5.138339920948616\n",
    "Cambodia                               Phnom Penh                         5.1052560888252145\n",
    "Grenada                                Saint George´s                     4.915957446808511\n",
    "Nauru                                  Yaren                              4.658333333333333\n",
    "Netherlands                            Amsterdam                          4.609178013111447\n",
    "Italy                                  Roma                               4.583184812760056\n",
    "Turkey                                 Ankara                             4.562416843116938\n",
    "Indonesia                              Jakarta                            4.528327683669091\n",
    "Burundi                                Bujumbura                          4.480955937266617\n",
    "New Zealand                            Wellington                         4.316416364577939\n",
    "Madagascar                             Antananarivo                       4.238295069627399\n",
    "Poland                                 Warszawa                           4.179090692716849\n",
    "Germany                                Berlin                             4.121802915363897\n",
    "Uganda                                 Kampala                            4.0903664248324\n",
    "Jamaica                                Kingston                           4.024854819976771\n",
    "Malawi                                 Lilongwe                           3.990517162471396\n",
    "Ethiopia                               Addis Abeba                        3.987852633261408\n",
    "Niger                                  Niamey                             3.91425908667288\n",
    "Rwanda                                 Kigali                             3.6984352773826457\n",
    "Monaco                                 Monaco-Ville                       3.6294117647058823\n",
    "France                                 Paris                              3.588384772151279\n",
    "Sri Lanka                              Colombo                            3.4259308440006375\n",
    "American Samoa                         Fagatogo                           3.416176470588235\n",
    "Trinidad and Tobago                    Port-of-Spain                      3.351042471042471\n",
    "Gambia                                 Banjul                             3.2433716475095786\n",
    "Sudan                                  Khartum                            3.2128958969142083\n",
    "Benin                                  Porto-Novo                         3.18189273413154\n",
    "Belize                                 Belmopan                           2.9481327800829877\n",
    "Bangladesh                             Dhaka                              2.7972978204482986\n",
    "Yemen                                  Sanaa                              2.7804770318021204\n",
    "Guadeloupe                             Basse-Terre                        2.726535087719298\n",
    "Kiribati                               Bairiki                            2.6819277108433734\n",
    "Nepal                                  Kathmandu                          2.473192645215211\n",
    "Barbados                               Bridgetown                         2.248148148148148\n",
    "Morocco                                Rabat                              2.1990652887023385\n",
    "Philippines                            Manila                             2.0812747640422815\n",
    "Oman                                   Masqat                             2.04441384736428\n",
    "Kazakstan                              Astana                             1.9182641928126734\n",
    "Malta                                  Valletta                           1.8603366649132036\n",
    "Bermuda                                Hamilton                           1.8461538461538463\n",
    "Vietnam                                Hanoi                              1.7662090389818619\n",
    "Switzerland                            Bern                               1.7135914194737725\n",
    "Australia                              Canberra                           1.7087948745102193\n",
    "South Africa                           Pretoria                           1.6312009312232212\n",
    "Saint Lucia                            Castries                           1.4941558441558442\n",
    "Kuwait                                 Kuwait                             1.4634381338742393\n",
    "Belgium                                Bruxelles [Brussel]                1.3073444672331282\n",
    "Brazil                                 Brasília                           1.1579625547423802\n",
    "Netherlands Antilles                   Willemstad                         1.0806451612903225\n",
    "Canada                                 Ottawa                             1.0764343275435837\n",
    "Bhutan                                 Thimphu                            1.0357815442561205\n",
    "Côte dIvoire                           Yamoussoukro                       0.8792100635736507\n",
    "Guam                                   Agaña                              0.6779761904761905\n",
    "China                                  Peking                             0.5848658143113659\n",
    "Tanzania                               Dodoma                             0.5638929498463466\n",
    "Pakistan                               Islamabad                          0.3351801793166031\n",
    "Nigeria                                Abuja                              0.313974135920937\n",
    "United States                          Washington                         0.2055127049077264\n",
    "India                                  New Delhi                          0.029723615958771266\n",
    "```"
   ]
  },
  {
   "cell_type": "code",
   "execution_count": null,
   "metadata": {},
   "outputs": [],
   "source": []
  },
  {
   "cell_type": "code",
   "execution_count": null,
   "metadata": {},
   "outputs": [],
   "source": [
    "pass1=\n",
    "solution=$(cat ~/crypt/hive_example.crypt | openssl enc -md sha256 -aes-128-cbc -a -d -salt -pass pass:$pass1 2> /dev/null)\n",
    "echo \"$solution\"; echo\n",
    "for l in \"$solution\"; do eval \"${l}\"; done"
   ]
  }
 ],
 "metadata": {
  "kernelspec": {
   "display_name": "Bash",
   "language": "bash",
   "name": "bash"
  },
  "language_info": {
   "codemirror_mode": "shell",
   "file_extension": ".sh",
   "mimetype": "text/x-sh",
   "name": "bash"
  },
  "toc": {
   "base_numbering": 1,
   "nav_menu": {},
   "number_sections": true,
   "sideBar": true,
   "skip_h1_title": false,
   "title_cell": "Table of Contents",
   "title_sidebar": "Contents",
   "toc_cell": false,
   "toc_position": {
    "height": "calc(100% - 180px)",
    "left": "10px",
    "top": "150px",
    "width": "384px"
   },
   "toc_section_display": "block",
   "toc_window_display": true
  },
  "widgets": {
   "application/vnd.jupyter.widget-state+json": {
    "state": {},
    "version_major": 2,
    "version_minor": 0
   }
  }
 },
 "nbformat": 4,
 "nbformat_minor": 4
}
